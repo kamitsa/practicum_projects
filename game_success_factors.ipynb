{
 "cells": [
  {
   "cell_type": "markdown",
   "metadata": {},
   "source": [
    "\n",
    "В ходе исследования в первую очередь мы сделаем предобработку данных для анализа - посмотрим на дубликаты и пропущенные значения, проверим регистр в названиях столбцов, а также проверим корректность типов данных. \n",
    "\n",
    "Также проведем исследовательский анализ данных, то есть сделаем некоторую визуализацию и посмотрим на взаимосвязи разных параметров в данных. \n",
    "\n",
    "Далее попробуем составить типичный портрет пользователя для каждого региона и проверим пару гипотез, которые смогут помочь нам сделать правильные выводы.\n"
   ]
  },
  {
   "cell_type": "code",
   "execution_count": 1,
   "metadata": {},
   "outputs": [],
   "source": [
    "import pandas as pd\n",
    "import numpy as np\n",
    "import seaborn as sns\n",
    "import matplotlib.pyplot as plt\n",
    "from scipy import stats as st"
   ]
  },
  {
   "cell_type": "markdown",
   "metadata": {},
   "source": [
    "##  Загрузка и обзор данных"
   ]
  },
  {
   "cell_type": "code",
   "execution_count": 3,
   "metadata": {},
   "outputs": [
    {
     "data": {
      "text/html": [
       "<div>\n",
       "<style scoped>\n",
       "    .dataframe tbody tr th:only-of-type {\n",
       "        vertical-align: middle;\n",
       "    }\n",
       "\n",
       "    .dataframe tbody tr th {\n",
       "        vertical-align: top;\n",
       "    }\n",
       "\n",
       "    .dataframe thead th {\n",
       "        text-align: right;\n",
       "    }\n",
       "</style>\n",
       "<table border=\"1\" class=\"dataframe\">\n",
       "  <thead>\n",
       "    <tr style=\"text-align: right;\">\n",
       "      <th></th>\n",
       "      <th>Name</th>\n",
       "      <th>Platform</th>\n",
       "      <th>Year_of_Release</th>\n",
       "      <th>Genre</th>\n",
       "      <th>NA_sales</th>\n",
       "      <th>EU_sales</th>\n",
       "      <th>JP_sales</th>\n",
       "      <th>Other_sales</th>\n",
       "      <th>Critic_Score</th>\n",
       "      <th>User_Score</th>\n",
       "      <th>Rating</th>\n",
       "    </tr>\n",
       "  </thead>\n",
       "  <tbody>\n",
       "    <tr>\n",
       "      <th>0</th>\n",
       "      <td>Wii Sports</td>\n",
       "      <td>Wii</td>\n",
       "      <td>2006.0</td>\n",
       "      <td>Sports</td>\n",
       "      <td>41.36</td>\n",
       "      <td>28.96</td>\n",
       "      <td>3.77</td>\n",
       "      <td>8.45</td>\n",
       "      <td>76.0</td>\n",
       "      <td>8</td>\n",
       "      <td>E</td>\n",
       "    </tr>\n",
       "    <tr>\n",
       "      <th>1</th>\n",
       "      <td>Super Mario Bros.</td>\n",
       "      <td>NES</td>\n",
       "      <td>1985.0</td>\n",
       "      <td>Platform</td>\n",
       "      <td>29.08</td>\n",
       "      <td>3.58</td>\n",
       "      <td>6.81</td>\n",
       "      <td>0.77</td>\n",
       "      <td>NaN</td>\n",
       "      <td>NaN</td>\n",
       "      <td>NaN</td>\n",
       "    </tr>\n",
       "    <tr>\n",
       "      <th>2</th>\n",
       "      <td>Mario Kart Wii</td>\n",
       "      <td>Wii</td>\n",
       "      <td>2008.0</td>\n",
       "      <td>Racing</td>\n",
       "      <td>15.68</td>\n",
       "      <td>12.76</td>\n",
       "      <td>3.79</td>\n",
       "      <td>3.29</td>\n",
       "      <td>82.0</td>\n",
       "      <td>8.3</td>\n",
       "      <td>E</td>\n",
       "    </tr>\n",
       "    <tr>\n",
       "      <th>3</th>\n",
       "      <td>Wii Sports Resort</td>\n",
       "      <td>Wii</td>\n",
       "      <td>2009.0</td>\n",
       "      <td>Sports</td>\n",
       "      <td>15.61</td>\n",
       "      <td>10.93</td>\n",
       "      <td>3.28</td>\n",
       "      <td>2.95</td>\n",
       "      <td>80.0</td>\n",
       "      <td>8</td>\n",
       "      <td>E</td>\n",
       "    </tr>\n",
       "    <tr>\n",
       "      <th>4</th>\n",
       "      <td>Pokemon Red/Pokemon Blue</td>\n",
       "      <td>GB</td>\n",
       "      <td>1996.0</td>\n",
       "      <td>Role-Playing</td>\n",
       "      <td>11.27</td>\n",
       "      <td>8.89</td>\n",
       "      <td>10.22</td>\n",
       "      <td>1.00</td>\n",
       "      <td>NaN</td>\n",
       "      <td>NaN</td>\n",
       "      <td>NaN</td>\n",
       "    </tr>\n",
       "  </tbody>\n",
       "</table>\n",
       "</div>"
      ],
      "text/plain": [
       "                       Name Platform  Year_of_Release         Genre  NA_sales  \\\n",
       "0                Wii Sports      Wii           2006.0        Sports     41.36   \n",
       "1         Super Mario Bros.      NES           1985.0      Platform     29.08   \n",
       "2            Mario Kart Wii      Wii           2008.0        Racing     15.68   \n",
       "3         Wii Sports Resort      Wii           2009.0        Sports     15.61   \n",
       "4  Pokemon Red/Pokemon Blue       GB           1996.0  Role-Playing     11.27   \n",
       "\n",
       "   EU_sales  JP_sales  Other_sales  Critic_Score User_Score Rating  \n",
       "0     28.96      3.77         8.45          76.0          8      E  \n",
       "1      3.58      6.81         0.77           NaN        NaN    NaN  \n",
       "2     12.76      3.79         3.29          82.0        8.3      E  \n",
       "3     10.93      3.28         2.95          80.0          8      E  \n",
       "4      8.89     10.22         1.00           NaN        NaN    NaN  "
      ]
     },
     "execution_count": 3,
     "metadata": {},
     "output_type": "execute_result"
    }
   ],
   "source": [
    "# выведем первые 5 строк датафрейма \n",
    "games.head()"
   ]
  },
  {
   "cell_type": "code",
   "execution_count": 4,
   "metadata": {},
   "outputs": [
    {
     "name": "stdout",
     "output_type": "stream",
     "text": [
      "<class 'pandas.core.frame.DataFrame'>\n",
      "RangeIndex: 16715 entries, 0 to 16714\n",
      "Data columns (total 11 columns):\n",
      " #   Column           Non-Null Count  Dtype  \n",
      "---  ------           --------------  -----  \n",
      " 0   Name             16713 non-null  object \n",
      " 1   Platform         16715 non-null  object \n",
      " 2   Year_of_Release  16446 non-null  float64\n",
      " 3   Genre            16713 non-null  object \n",
      " 4   NA_sales         16715 non-null  float64\n",
      " 5   EU_sales         16715 non-null  float64\n",
      " 6   JP_sales         16715 non-null  float64\n",
      " 7   Other_sales      16715 non-null  float64\n",
      " 8   Critic_Score     8137 non-null   float64\n",
      " 9   User_Score       10014 non-null  object \n",
      " 10  Rating           9949 non-null   object \n",
      "dtypes: float64(6), object(5)\n",
      "memory usage: 1.4+ MB\n"
     ]
    }
   ],
   "source": [
    "# изучим основную информацию о датафрейме\n",
    "games.info()"
   ]
  },
  {
   "cell_type": "markdown",
   "metadata": {},
   "source": [
    "После первичного знакомства с данными можно сказать, что количество строк в столбцах различается, что говорит о наличии пропущенных значений. Названия столбцов необходимо привести к нижнему регистру. Столбец Year_of_Release стоит привести к целому типу данных, а столбец User_Score - к вещественному типу. "
   ]
  },
  {
   "cell_type": "markdown",
   "metadata": {},
   "source": [
    "## Предобработка данных"
   ]
  },
  {
   "cell_type": "markdown",
   "metadata": {},
   "source": [
    "\n",
    "На этом этапе нашей задачей будет подготовить данные для анализа - проверим именование столбцов, отсутствующие значения в данных и найдем дубликаты."
   ]
  },
  {
   "cell_type": "markdown",
   "metadata": {},
   "source": [
    "### Замена названий столбцов"
   ]
  },
  {
   "cell_type": "code",
   "execution_count": 5,
   "metadata": {},
   "outputs": [
    {
     "name": "stdout",
     "output_type": "stream",
     "text": [
      "<class 'pandas.core.frame.DataFrame'>\n",
      "RangeIndex: 16715 entries, 0 to 16714\n",
      "Data columns (total 11 columns):\n",
      " #   Column           Non-Null Count  Dtype  \n",
      "---  ------           --------------  -----  \n",
      " 0   name             16713 non-null  object \n",
      " 1   platform         16715 non-null  object \n",
      " 2   year_of_release  16446 non-null  float64\n",
      " 3   genre            16713 non-null  object \n",
      " 4   na_sales         16715 non-null  float64\n",
      " 5   eu_sales         16715 non-null  float64\n",
      " 6   jp_sales         16715 non-null  float64\n",
      " 7   other_sales      16715 non-null  float64\n",
      " 8   critic_score     8137 non-null   float64\n",
      " 9   user_score       10014 non-null  object \n",
      " 10  rating           9949 non-null   object \n",
      "dtypes: float64(6), object(5)\n",
      "memory usage: 1.4+ MB\n"
     ]
    }
   ],
   "source": [
    "# приведем названия столбцов к нижнему регистру\n",
    "games.columns = games.columns.str.lower()\n",
    "games.info()"
   ]
  },
  {
   "cell_type": "markdown",
   "metadata": {},
   "source": [
    "### Обработка пропусков"
   ]
  },
  {
   "cell_type": "code",
   "execution_count": 6,
   "metadata": {},
   "outputs": [
    {
     "data": {
      "text/plain": [
       "name               0.000120\n",
       "platform           0.000000\n",
       "year_of_release    0.016093\n",
       "genre              0.000120\n",
       "na_sales           0.000000\n",
       "eu_sales           0.000000\n",
       "jp_sales           0.000000\n",
       "other_sales        0.000000\n",
       "critic_score       0.513192\n",
       "user_score         0.400897\n",
       "rating             0.404786\n",
       "dtype: float64"
      ]
     },
     "execution_count": 6,
     "metadata": {},
     "output_type": "execute_result"
    }
   ],
   "source": [
    "# определим, в каких столбцах есть пропуски и их долю\n",
    "games.isna().mean()"
   ]
  },
  {
   "cell_type": "code",
   "execution_count": 7,
   "metadata": {},
   "outputs": [
    {
     "data": {
      "text/html": [
       "<div>\n",
       "<style scoped>\n",
       "    .dataframe tbody tr th:only-of-type {\n",
       "        vertical-align: middle;\n",
       "    }\n",
       "\n",
       "    .dataframe tbody tr th {\n",
       "        vertical-align: top;\n",
       "    }\n",
       "\n",
       "    .dataframe thead th {\n",
       "        text-align: right;\n",
       "    }\n",
       "</style>\n",
       "<table border=\"1\" class=\"dataframe\">\n",
       "  <thead>\n",
       "    <tr style=\"text-align: right;\">\n",
       "      <th></th>\n",
       "      <th>name</th>\n",
       "      <th>platform</th>\n",
       "      <th>year_of_release</th>\n",
       "      <th>genre</th>\n",
       "      <th>na_sales</th>\n",
       "      <th>eu_sales</th>\n",
       "      <th>jp_sales</th>\n",
       "      <th>other_sales</th>\n",
       "      <th>critic_score</th>\n",
       "      <th>user_score</th>\n",
       "      <th>rating</th>\n",
       "    </tr>\n",
       "  </thead>\n",
       "  <tbody>\n",
       "    <tr>\n",
       "      <th>659</th>\n",
       "      <td>NaN</td>\n",
       "      <td>GEN</td>\n",
       "      <td>1993.0</td>\n",
       "      <td>NaN</td>\n",
       "      <td>1.78</td>\n",
       "      <td>0.53</td>\n",
       "      <td>0.00</td>\n",
       "      <td>0.08</td>\n",
       "      <td>NaN</td>\n",
       "      <td>NaN</td>\n",
       "      <td>NaN</td>\n",
       "    </tr>\n",
       "    <tr>\n",
       "      <th>14244</th>\n",
       "      <td>NaN</td>\n",
       "      <td>GEN</td>\n",
       "      <td>1993.0</td>\n",
       "      <td>NaN</td>\n",
       "      <td>0.00</td>\n",
       "      <td>0.00</td>\n",
       "      <td>0.03</td>\n",
       "      <td>0.00</td>\n",
       "      <td>NaN</td>\n",
       "      <td>NaN</td>\n",
       "      <td>NaN</td>\n",
       "    </tr>\n",
       "  </tbody>\n",
       "</table>\n",
       "</div>"
      ],
      "text/plain": [
       "      name platform  year_of_release genre  na_sales  eu_sales  jp_sales  \\\n",
       "659    NaN      GEN           1993.0   NaN      1.78      0.53      0.00   \n",
       "14244  NaN      GEN           1993.0   NaN      0.00      0.00      0.03   \n",
       "\n",
       "       other_sales  critic_score user_score rating  \n",
       "659           0.08           NaN        NaN    NaN  \n",
       "14244         0.00           NaN        NaN    NaN  "
      ]
     },
     "execution_count": 7,
     "metadata": {},
     "output_type": "execute_result"
    }
   ],
   "source": [
    "# посмотрим на строки, где пропущено название игры\n",
    "games[games['name'].isna()]"
   ]
  },
  {
   "cell_type": "markdown",
   "metadata": {},
   "source": [
    "Так как мы ищем закономерности, определяющие успешность игры, то без названия эти данные не представляют никакой значимости, поэтому уберем их из датасета. Точно также данные без года не пригодны для анализа, удалим строки из датасета."
   ]
  },
  {
   "cell_type": "code",
   "execution_count": 8,
   "metadata": {},
   "outputs": [],
   "source": [
    "# удалим строки с пропусками в столбцах name и year_of_release\n",
    "games = games.dropna(subset=['name', 'year_of_release'])"
   ]
  },
  {
   "cell_type": "code",
   "execution_count": 9,
   "metadata": {},
   "outputs": [
    {
     "data": {
      "text/plain": [
       "name               0.000000\n",
       "platform           0.000000\n",
       "year_of_release    0.000000\n",
       "genre              0.000000\n",
       "na_sales           0.000000\n",
       "eu_sales           0.000000\n",
       "jp_sales           0.000000\n",
       "other_sales        0.000000\n",
       "critic_score       0.514534\n",
       "user_score         0.401666\n",
       "rating             0.405984\n",
       "dtype: float64"
      ]
     },
     "execution_count": 9,
     "metadata": {},
     "output_type": "execute_result"
    }
   ],
   "source": [
    "games.isna().mean()"
   ]
  },
  {
   "cell_type": "markdown",
   "metadata": {},
   "source": [
    "Остались пропуски в оценках. У половины игр отсутствует оценка критиков в столбце `critic_score`, у 40% игр - пропуски в оценках пользователей, это данные `user_score`, а также не определена подходящая возрастная категория для 40% игр."
   ]
  },
  {
   "cell_type": "code",
   "execution_count": 10,
   "metadata": {},
   "outputs": [
    {
     "data": {
      "text/plain": [
       "array(['E', nan, 'M', 'T', 'E10+', 'K-A', 'AO', 'EC', 'RP'], dtype=object)"
      ]
     },
     "execution_count": 10,
     "metadata": {},
     "output_type": "execute_result"
    }
   ],
   "source": [
    "# посмотрим на уникальные значения столбца rating\n",
    "games['rating'].unique()"
   ]
  },
  {
   "cell_type": "markdown",
   "metadata": {},
   "source": [
    "\n",
    "Добавим заглушку на пропуски в данных с рейтингом ESRB - пусть это будут значения \"No\" - тоже значение с типом данных object."
   ]
  },
  {
   "cell_type": "code",
   "execution_count": 11,
   "metadata": {},
   "outputs": [],
   "source": [
    "# поставим заглушку на пропуски\n",
    "games['rating'] = games['rating'].fillna('No') "
   ]
  },
  {
   "cell_type": "markdown",
   "metadata": {},
   "source": [
    "\n",
    "Таким образом, мы удалили пропуски в столбцах c названием игры и годом выпуска, так как без них данные не представляют никакой значимости, а мы ищем факторы, опеределяюшие успешность игры. <br>\n",
    "    Пропуски в оценках пользователей и критиков мы не сможем заполнить самостоятельно, поэтому оставим их без изменения. Здесь они могут быть связаны с тем, что оценка еще не была получена и ожидала получения в будущем. <br>\n",
    "    Также нашли пропущенные значения в рейтинге  ESRB и заменили на значение \"No\". Здесь они связаны с тем, что организация определяет рейтинги для компьютерных видеоигр только в США и Канаде, а мы имеем данные и для Европы, и для рынка Японии.\n"
   ]
  },
  {
   "cell_type": "markdown",
   "metadata": {},
   "source": [
    "### Преобразование данных в нужные типы"
   ]
  },
  {
   "cell_type": "code",
   "execution_count": 12,
   "metadata": {},
   "outputs": [],
   "source": [
    "# преобразуем год выпуска к целому типу данных\n",
    "games['year_of_release'] = games['year_of_release'].astype('Int64')"
   ]
  },
  {
   "cell_type": "code",
   "execution_count": 13,
   "metadata": {},
   "outputs": [
    {
     "data": {
      "text/html": [
       "<div>\n",
       "<style scoped>\n",
       "    .dataframe tbody tr th:only-of-type {\n",
       "        vertical-align: middle;\n",
       "    }\n",
       "\n",
       "    .dataframe tbody tr th {\n",
       "        vertical-align: top;\n",
       "    }\n",
       "\n",
       "    .dataframe thead th {\n",
       "        text-align: right;\n",
       "    }\n",
       "</style>\n",
       "<table border=\"1\" class=\"dataframe\">\n",
       "  <thead>\n",
       "    <tr style=\"text-align: right;\">\n",
       "      <th></th>\n",
       "      <th>name</th>\n",
       "      <th>platform</th>\n",
       "      <th>year_of_release</th>\n",
       "      <th>genre</th>\n",
       "      <th>na_sales</th>\n",
       "      <th>eu_sales</th>\n",
       "      <th>jp_sales</th>\n",
       "      <th>other_sales</th>\n",
       "      <th>critic_score</th>\n",
       "      <th>user_score</th>\n",
       "      <th>rating</th>\n",
       "    </tr>\n",
       "  </thead>\n",
       "  <tbody>\n",
       "    <tr>\n",
       "      <th>0</th>\n",
       "      <td>Wii Sports</td>\n",
       "      <td>Wii</td>\n",
       "      <td>2006</td>\n",
       "      <td>Sports</td>\n",
       "      <td>41.36</td>\n",
       "      <td>28.96</td>\n",
       "      <td>3.77</td>\n",
       "      <td>8.45</td>\n",
       "      <td>76.0</td>\n",
       "      <td>8</td>\n",
       "      <td>E</td>\n",
       "    </tr>\n",
       "    <tr>\n",
       "      <th>1</th>\n",
       "      <td>Super Mario Bros.</td>\n",
       "      <td>NES</td>\n",
       "      <td>1985</td>\n",
       "      <td>Platform</td>\n",
       "      <td>29.08</td>\n",
       "      <td>3.58</td>\n",
       "      <td>6.81</td>\n",
       "      <td>0.77</td>\n",
       "      <td>NaN</td>\n",
       "      <td>NaN</td>\n",
       "      <td>No</td>\n",
       "    </tr>\n",
       "    <tr>\n",
       "      <th>2</th>\n",
       "      <td>Mario Kart Wii</td>\n",
       "      <td>Wii</td>\n",
       "      <td>2008</td>\n",
       "      <td>Racing</td>\n",
       "      <td>15.68</td>\n",
       "      <td>12.76</td>\n",
       "      <td>3.79</td>\n",
       "      <td>3.29</td>\n",
       "      <td>82.0</td>\n",
       "      <td>8.3</td>\n",
       "      <td>E</td>\n",
       "    </tr>\n",
       "    <tr>\n",
       "      <th>3</th>\n",
       "      <td>Wii Sports Resort</td>\n",
       "      <td>Wii</td>\n",
       "      <td>2009</td>\n",
       "      <td>Sports</td>\n",
       "      <td>15.61</td>\n",
       "      <td>10.93</td>\n",
       "      <td>3.28</td>\n",
       "      <td>2.95</td>\n",
       "      <td>80.0</td>\n",
       "      <td>8</td>\n",
       "      <td>E</td>\n",
       "    </tr>\n",
       "    <tr>\n",
       "      <th>4</th>\n",
       "      <td>Pokemon Red/Pokemon Blue</td>\n",
       "      <td>GB</td>\n",
       "      <td>1996</td>\n",
       "      <td>Role-Playing</td>\n",
       "      <td>11.27</td>\n",
       "      <td>8.89</td>\n",
       "      <td>10.22</td>\n",
       "      <td>1.00</td>\n",
       "      <td>NaN</td>\n",
       "      <td>NaN</td>\n",
       "      <td>No</td>\n",
       "    </tr>\n",
       "  </tbody>\n",
       "</table>\n",
       "</div>"
      ],
      "text/plain": [
       "                       name platform  year_of_release         genre  na_sales  \\\n",
       "0                Wii Sports      Wii             2006        Sports     41.36   \n",
       "1         Super Mario Bros.      NES             1985      Platform     29.08   \n",
       "2            Mario Kart Wii      Wii             2008        Racing     15.68   \n",
       "3         Wii Sports Resort      Wii             2009        Sports     15.61   \n",
       "4  Pokemon Red/Pokemon Blue       GB             1996  Role-Playing     11.27   \n",
       "\n",
       "   eu_sales  jp_sales  other_sales  critic_score user_score rating  \n",
       "0     28.96      3.77         8.45          76.0          8      E  \n",
       "1      3.58      6.81         0.77           NaN        NaN     No  \n",
       "2     12.76      3.79         3.29          82.0        8.3      E  \n",
       "3     10.93      3.28         2.95          80.0          8      E  \n",
       "4      8.89     10.22         1.00           NaN        NaN     No  "
      ]
     },
     "execution_count": 13,
     "metadata": {},
     "output_type": "execute_result"
    }
   ],
   "source": [
    "games.head()"
   ]
  },
  {
   "cell_type": "code",
   "execution_count": 14,
   "metadata": {},
   "outputs": [
    {
     "data": {
      "text/plain": [
       "(1980, 2016)"
      ]
     },
     "execution_count": 14,
     "metadata": {},
     "output_type": "execute_result"
    }
   ],
   "source": [
    "# проверим, какой период охватывают данные\n",
    "games[\"year_of_release\"].min(), games[\"year_of_release\"].max()"
   ]
  },
  {
   "cell_type": "code",
   "execution_count": 15,
   "metadata": {},
   "outputs": [
    {
     "data": {
      "text/plain": [
       "array(['8', nan, '8.3', '8.5', '6.6', '8.4', '8.6', '7.7', '6.3', '7.4',\n",
       "       '8.2', '9', '7.9', '8.1', '8.7', '7.1', '3.4', '5.3', '4.8', '3.2',\n",
       "       '8.9', '6.4', '7.8', '7.5', '2.6', '7.2', '9.2', '7', '7.3', '4.3',\n",
       "       '7.6', '5.7', '5', '9.1', '6.5', 'tbd', '8.8', '6.9', '9.4', '6.8',\n",
       "       '6.1', '6.7', '5.4', '4', '4.9', '4.5', '9.3', '6.2', '4.2', '6',\n",
       "       '3.7', '4.1', '5.8', '5.6', '5.5', '4.4', '4.6', '5.9', '3.9',\n",
       "       '3.1', '2.9', '5.2', '3.3', '4.7', '5.1', '3.5', '2.5', '1.9', '3',\n",
       "       '2.7', '2.2', '2', '9.5', '2.1', '3.6', '2.8', '1.8', '3.8', '0',\n",
       "       '1.6', '9.6', '2.4', '1.7', '1.1', '0.3', '1.5', '0.7', '1.2',\n",
       "       '2.3', '0.5', '1.3', '0.2', '0.6', '1.4', '0.9', '1', '9.7'],\n",
       "      dtype=object)"
      ]
     },
     "execution_count": 15,
     "metadata": {},
     "output_type": "execute_result"
    }
   ],
   "source": [
    "# посмотрим на уникальные значения столбца user_score\n",
    "games['user_score'].unique()"
   ]
  },
  {
   "cell_type": "code",
   "execution_count": 16,
   "metadata": {},
   "outputs": [
    {
     "data": {
      "text/plain": [
       "tbd    2376\n",
       "7.8     322\n",
       "8       285\n",
       "8.2     276\n",
       "8.3     252\n",
       "       ... \n",
       "0.6       2\n",
       "1.5       2\n",
       "1.9       2\n",
       "0         1\n",
       "9.7       1\n",
       "Name: user_score, Length: 96, dtype: int64"
      ]
     },
     "execution_count": 16,
     "metadata": {},
     "output_type": "execute_result"
    }
   ],
   "source": [
    "games['user_score'].value_counts()"
   ]
  },
  {
   "cell_type": "markdown",
   "metadata": {},
   "source": [
    "Большинство игр имеют оценку tbd. Вероятно, это to be determined - то есть то, что будет определено в будущем.  Мы не сможем определить оценку для этих игр, но значение мешает для выполнения операций. Заменим tbd значение на NaN и преобразуем к типу данных float."
   ]
  },
  {
   "cell_type": "code",
   "execution_count": 17,
   "metadata": {},
   "outputs": [
    {
     "name": "stdout",
     "output_type": "stream",
     "text": [
      "<class 'pandas.core.frame.DataFrame'>\n",
      "Int64Index: 16444 entries, 0 to 16714\n",
      "Data columns (total 11 columns):\n",
      " #   Column           Non-Null Count  Dtype  \n",
      "---  ------           --------------  -----  \n",
      " 0   name             16444 non-null  object \n",
      " 1   platform         16444 non-null  object \n",
      " 2   year_of_release  16444 non-null  Int64  \n",
      " 3   genre            16444 non-null  object \n",
      " 4   na_sales         16444 non-null  float64\n",
      " 5   eu_sales         16444 non-null  float64\n",
      " 6   jp_sales         16444 non-null  float64\n",
      " 7   other_sales      16444 non-null  float64\n",
      " 8   critic_score     7983 non-null   float64\n",
      " 9   user_score       7463 non-null   float64\n",
      " 10  rating           16444 non-null  object \n",
      "dtypes: Int64(1), float64(6), object(4)\n",
      "memory usage: 1.5+ MB\n"
     ]
    }
   ],
   "source": [
    "# преобразуем данные по рейтингу пользователей к вещественному типу \n",
    "games['user_score'] = games['user_score'].replace('tbd', np.nan)\n",
    "games['user_score'] = pd.to_numeric(games['user_score'])\n",
    "games.info()"
   ]
  },
  {
   "cell_type": "markdown",
   "metadata": {},
   "source": [
    "### Обработка явных и неявных дубликатов"
   ]
  },
  {
   "cell_type": "markdown",
   "metadata": {},
   "source": [
    "\n",
    "Проверим данные также на наличие явных и неявных дубликатов. \n"
   ]
  },
  {
   "cell_type": "code",
   "execution_count": 18,
   "metadata": {},
   "outputs": [
    {
     "data": {
      "text/plain": [
       "0"
      ]
     },
     "execution_count": 18,
     "metadata": {},
     "output_type": "execute_result"
    }
   ],
   "source": [
    "# проверим на наличие явных дубликатов\n",
    "games.duplicated().sum()"
   ]
  },
  {
   "cell_type": "markdown",
   "metadata": {},
   "source": [
    "\n",
    "Явных дубликатов в данных нет, теперь проверим неявные по отдельным столбцам, а также по трем параметрам одновременно - по имени, платформе и году релиза.\n"
   ]
  },
  {
   "cell_type": "code",
   "execution_count": 19,
   "metadata": {},
   "outputs": [
    {
     "data": {
      "text/plain": [
       "array(['Wii', 'NES', 'GB', 'DS', 'X360', 'PS3', 'PS2', 'SNES', 'GBA',\n",
       "       'PS4', '3DS', 'N64', 'PS', 'XB', 'PC', '2600', 'PSP', 'XOne',\n",
       "       'WiiU', 'GC', 'GEN', 'DC', 'PSV', 'SAT', 'SCD', 'WS', 'NG', 'TG16',\n",
       "       '3DO', 'GG', 'PCFX'], dtype=object)"
      ]
     },
     "execution_count": 19,
     "metadata": {},
     "output_type": "execute_result"
    }
   ],
   "source": [
    "# посмотрим на уникальные названия платформ\n",
    "games['platform'].unique()"
   ]
  },
  {
   "cell_type": "code",
   "execution_count": 20,
   "metadata": {},
   "outputs": [
    {
     "data": {
      "text/plain": [
       "Need for Speed: Most Wanted                           12\n",
       "Ratatouille                                            9\n",
       "LEGO Marvel Super Heroes                               9\n",
       "FIFA 14                                                9\n",
       "LEGO Jurassic World                                    8\n",
       "                                                      ..\n",
       "Chou!! Super Nep League DS                             1\n",
       "Chou-Kuukan Night Pro Yakyuu King(higher JP sales)     1\n",
       "300: March to Glory                                    1\n",
       "Mario vs. Donkey Kong: Mini-Land Mayhem!               1\n",
       "Justice League Heroes: The Flash                       1\n",
       "Name: name, Length: 11426, dtype: int64"
      ]
     },
     "execution_count": 20,
     "metadata": {},
     "output_type": "execute_result"
    }
   ],
   "source": [
    "# посмотрим на уникальные названия игр\n",
    "games['name'].value_counts()"
   ]
  },
  {
   "cell_type": "code",
   "execution_count": 21,
   "metadata": {},
   "outputs": [
    {
     "data": {
      "text/html": [
       "<div>\n",
       "<style scoped>\n",
       "    .dataframe tbody tr th:only-of-type {\n",
       "        vertical-align: middle;\n",
       "    }\n",
       "\n",
       "    .dataframe tbody tr th {\n",
       "        vertical-align: top;\n",
       "    }\n",
       "\n",
       "    .dataframe thead th {\n",
       "        text-align: right;\n",
       "    }\n",
       "</style>\n",
       "<table border=\"1\" class=\"dataframe\">\n",
       "  <thead>\n",
       "    <tr style=\"text-align: right;\">\n",
       "      <th></th>\n",
       "      <th>name</th>\n",
       "      <th>platform</th>\n",
       "      <th>year_of_release</th>\n",
       "      <th>genre</th>\n",
       "      <th>na_sales</th>\n",
       "      <th>eu_sales</th>\n",
       "      <th>jp_sales</th>\n",
       "      <th>other_sales</th>\n",
       "      <th>critic_score</th>\n",
       "      <th>user_score</th>\n",
       "      <th>rating</th>\n",
       "    </tr>\n",
       "  </thead>\n",
       "  <tbody>\n",
       "    <tr>\n",
       "      <th>604</th>\n",
       "      <td>Madden NFL 13</td>\n",
       "      <td>PS3</td>\n",
       "      <td>2012</td>\n",
       "      <td>Sports</td>\n",
       "      <td>2.11</td>\n",
       "      <td>0.22</td>\n",
       "      <td>0.0</td>\n",
       "      <td>0.23</td>\n",
       "      <td>83.0</td>\n",
       "      <td>5.5</td>\n",
       "      <td>E</td>\n",
       "    </tr>\n",
       "    <tr>\n",
       "      <th>16230</th>\n",
       "      <td>Madden NFL 13</td>\n",
       "      <td>PS3</td>\n",
       "      <td>2012</td>\n",
       "      <td>Sports</td>\n",
       "      <td>0.00</td>\n",
       "      <td>0.01</td>\n",
       "      <td>0.0</td>\n",
       "      <td>0.00</td>\n",
       "      <td>83.0</td>\n",
       "      <td>5.5</td>\n",
       "      <td>E</td>\n",
       "    </tr>\n",
       "  </tbody>\n",
       "</table>\n",
       "</div>"
      ],
      "text/plain": [
       "                name platform  year_of_release   genre  na_sales  eu_sales  \\\n",
       "604    Madden NFL 13      PS3             2012  Sports      2.11      0.22   \n",
       "16230  Madden NFL 13      PS3             2012  Sports      0.00      0.01   \n",
       "\n",
       "       jp_sales  other_sales  critic_score  user_score rating  \n",
       "604         0.0         0.23          83.0         5.5      E  \n",
       "16230       0.0         0.00          83.0         5.5      E  "
      ]
     },
     "execution_count": 21,
     "metadata": {},
     "output_type": "execute_result"
    }
   ],
   "source": [
    "# проверим на наличие неявных дубликатов по имени, платформе и году релиза одновременно\n",
    "games[games.duplicated(['name', 'platform', 'year_of_release'], keep=False)]"
   ]
  },
  {
   "cell_type": "markdown",
   "metadata": {},
   "source": [
    "\n",
    "Нашли 2 строки с одинаковыми значениями в указанных параметрах. Первая строка содержит более полную информацию, оставим ее в датасете.\n"
   ]
  },
  {
   "cell_type": "code",
   "execution_count": 22,
   "metadata": {},
   "outputs": [
    {
     "data": {
      "text/plain": [
       "0"
      ]
     },
     "execution_count": 22,
     "metadata": {},
     "output_type": "execute_result"
    }
   ],
   "source": [
    "games = games.drop_duplicates(subset=['name', 'platform', 'year_of_release'], keep='first')\n",
    "games.duplicated(['name', 'platform', 'year_of_release']).sum()"
   ]
  },
  {
   "cell_type": "markdown",
   "metadata": {},
   "source": [
    "\n",
    "Дубликатов больше нет.\n"
   ]
  },
  {
   "cell_type": "markdown",
   "metadata": {},
   "source": [
    "### Cуммарные продажи во всех регионах"
   ]
  },
  {
   "cell_type": "code",
   "execution_count": 23,
   "metadata": {},
   "outputs": [
    {
     "data": {
      "text/html": [
       "<div>\n",
       "<style scoped>\n",
       "    .dataframe tbody tr th:only-of-type {\n",
       "        vertical-align: middle;\n",
       "    }\n",
       "\n",
       "    .dataframe tbody tr th {\n",
       "        vertical-align: top;\n",
       "    }\n",
       "\n",
       "    .dataframe thead th {\n",
       "        text-align: right;\n",
       "    }\n",
       "</style>\n",
       "<table border=\"1\" class=\"dataframe\">\n",
       "  <thead>\n",
       "    <tr style=\"text-align: right;\">\n",
       "      <th></th>\n",
       "      <th>name</th>\n",
       "      <th>platform</th>\n",
       "      <th>year_of_release</th>\n",
       "      <th>genre</th>\n",
       "      <th>na_sales</th>\n",
       "      <th>eu_sales</th>\n",
       "      <th>jp_sales</th>\n",
       "      <th>other_sales</th>\n",
       "      <th>critic_score</th>\n",
       "      <th>user_score</th>\n",
       "      <th>rating</th>\n",
       "      <th>total_sales</th>\n",
       "    </tr>\n",
       "  </thead>\n",
       "  <tbody>\n",
       "    <tr>\n",
       "      <th>0</th>\n",
       "      <td>Wii Sports</td>\n",
       "      <td>Wii</td>\n",
       "      <td>2006</td>\n",
       "      <td>Sports</td>\n",
       "      <td>41.36</td>\n",
       "      <td>28.96</td>\n",
       "      <td>3.77</td>\n",
       "      <td>8.45</td>\n",
       "      <td>76.0</td>\n",
       "      <td>8.0</td>\n",
       "      <td>E</td>\n",
       "      <td>82.54</td>\n",
       "    </tr>\n",
       "    <tr>\n",
       "      <th>1</th>\n",
       "      <td>Super Mario Bros.</td>\n",
       "      <td>NES</td>\n",
       "      <td>1985</td>\n",
       "      <td>Platform</td>\n",
       "      <td>29.08</td>\n",
       "      <td>3.58</td>\n",
       "      <td>6.81</td>\n",
       "      <td>0.77</td>\n",
       "      <td>NaN</td>\n",
       "      <td>NaN</td>\n",
       "      <td>No</td>\n",
       "      <td>40.24</td>\n",
       "    </tr>\n",
       "    <tr>\n",
       "      <th>2</th>\n",
       "      <td>Mario Kart Wii</td>\n",
       "      <td>Wii</td>\n",
       "      <td>2008</td>\n",
       "      <td>Racing</td>\n",
       "      <td>15.68</td>\n",
       "      <td>12.76</td>\n",
       "      <td>3.79</td>\n",
       "      <td>3.29</td>\n",
       "      <td>82.0</td>\n",
       "      <td>8.3</td>\n",
       "      <td>E</td>\n",
       "      <td>35.52</td>\n",
       "    </tr>\n",
       "    <tr>\n",
       "      <th>3</th>\n",
       "      <td>Wii Sports Resort</td>\n",
       "      <td>Wii</td>\n",
       "      <td>2009</td>\n",
       "      <td>Sports</td>\n",
       "      <td>15.61</td>\n",
       "      <td>10.93</td>\n",
       "      <td>3.28</td>\n",
       "      <td>2.95</td>\n",
       "      <td>80.0</td>\n",
       "      <td>8.0</td>\n",
       "      <td>E</td>\n",
       "      <td>32.77</td>\n",
       "    </tr>\n",
       "    <tr>\n",
       "      <th>4</th>\n",
       "      <td>Pokemon Red/Pokemon Blue</td>\n",
       "      <td>GB</td>\n",
       "      <td>1996</td>\n",
       "      <td>Role-Playing</td>\n",
       "      <td>11.27</td>\n",
       "      <td>8.89</td>\n",
       "      <td>10.22</td>\n",
       "      <td>1.00</td>\n",
       "      <td>NaN</td>\n",
       "      <td>NaN</td>\n",
       "      <td>No</td>\n",
       "      <td>31.38</td>\n",
       "    </tr>\n",
       "  </tbody>\n",
       "</table>\n",
       "</div>"
      ],
      "text/plain": [
       "                       name platform  year_of_release         genre  na_sales  \\\n",
       "0                Wii Sports      Wii             2006        Sports     41.36   \n",
       "1         Super Mario Bros.      NES             1985      Platform     29.08   \n",
       "2            Mario Kart Wii      Wii             2008        Racing     15.68   \n",
       "3         Wii Sports Resort      Wii             2009        Sports     15.61   \n",
       "4  Pokemon Red/Pokemon Blue       GB             1996  Role-Playing     11.27   \n",
       "\n",
       "   eu_sales  jp_sales  other_sales  critic_score  user_score rating  \\\n",
       "0     28.96      3.77         8.45          76.0         8.0      E   \n",
       "1      3.58      6.81         0.77           NaN         NaN     No   \n",
       "2     12.76      3.79         3.29          82.0         8.3      E   \n",
       "3     10.93      3.28         2.95          80.0         8.0      E   \n",
       "4      8.89     10.22         1.00           NaN         NaN     No   \n",
       "\n",
       "   total_sales  \n",
       "0        82.54  \n",
       "1        40.24  \n",
       "2        35.52  \n",
       "3        32.77  \n",
       "4        31.38  "
      ]
     },
     "execution_count": 23,
     "metadata": {},
     "output_type": "execute_result"
    }
   ],
   "source": [
    "# посчитаем суммарные продажи во всех регионах и запишем в отдельный столбец total_sales\n",
    "games['total_sales'] = games['na_sales'] + games['eu_sales'] + games['jp_sales'] + games['other_sales']\n",
    "games.head()"
   ]
  },
  {
   "cell_type": "code",
   "execution_count": 24,
   "metadata": {},
   "outputs": [
    {
     "name": "stdout",
     "output_type": "stream",
     "text": [
      "<class 'pandas.core.frame.DataFrame'>\n",
      "Int64Index: 16443 entries, 0 to 16714\n",
      "Data columns (total 12 columns):\n",
      " #   Column           Non-Null Count  Dtype  \n",
      "---  ------           --------------  -----  \n",
      " 0   name             16443 non-null  object \n",
      " 1   platform         16443 non-null  object \n",
      " 2   year_of_release  16443 non-null  Int64  \n",
      " 3   genre            16443 non-null  object \n",
      " 4   na_sales         16443 non-null  float64\n",
      " 5   eu_sales         16443 non-null  float64\n",
      " 6   jp_sales         16443 non-null  float64\n",
      " 7   other_sales      16443 non-null  float64\n",
      " 8   critic_score     7982 non-null   float64\n",
      " 9   user_score       7462 non-null   float64\n",
      " 10  rating           16443 non-null  object \n",
      " 11  total_sales      16443 non-null  float64\n",
      "dtypes: Int64(1), float64(7), object(4)\n",
      "memory usage: 1.6+ MB\n",
      "None\n",
      "-------------------------\n",
      "name [' Beyblade Burst' ' Fire Emblem Fates' \" Frozen: Olaf's Quest\" ...\n",
      " 'uDraw Studio' 'uDraw Studio: Instant Artist'\n",
      " '¡Shin Chan Flipa en colores!']\n",
      "name : кол-во NaN 0 , процент NaN 0.0 %\n",
      "-------------------------\n",
      "platform ['2600' '3DO' '3DS' 'DC' 'DS' 'GB' 'GBA' 'GC' 'GEN' 'GG' 'N64' 'NES' 'NG'\n",
      " 'PC' 'PCFX' 'PS' 'PS2' 'PS3' 'PS4' 'PSP' 'PSV' 'SAT' 'SCD' 'SNES' 'TG16'\n",
      " 'WS' 'Wii' 'WiiU' 'X360' 'XB' 'XOne']\n",
      "platform : кол-во NaN 0 , процент NaN 0.0 %\n",
      "-------------------------\n",
      "year_of_release <IntegerArray>\n",
      "[1980, 1981, 1982, 1983, 1984, 1985, 1986, 1987, 1988, 1989, 1990, 1991, 1992,\n",
      " 1993, 1994, 1995, 1996, 1997, 1998, 1999, 2000, 2001, 2002, 2003, 2004, 2005,\n",
      " 2006, 2007, 2008, 2009, 2010, 2011, 2012, 2013, 2014, 2015, 2016]\n",
      "Length: 37, dtype: Int64\n",
      "year_of_release : кол-во NaN 0 , процент NaN 0.0 %\n",
      "-------------------------\n",
      "genre ['Action' 'Adventure' 'Fighting' 'Misc' 'Platform' 'Puzzle' 'Racing'\n",
      " 'Role-Playing' 'Shooter' 'Simulation' 'Sports' 'Strategy']\n",
      "genre : кол-во NaN 0 , процент NaN 0.0 %\n",
      "-------------------------\n",
      "critic_score [13. 17. 19. 20. 21. 23. 24. 25. 26. 27. 28. 29. 30. 31. 32. 33. 34. 35.\n",
      " 36. 37. 38. 39. 40. 41. 42. 43. 44. 45. 46. 47. 48. 49. 50. 51. 52. 53.\n",
      " 54. 55. 56. 57. 58. 59. 60. 61. 62. 63. 64. 65. 66. 67. 68. 69. 70. 71.\n",
      " 72. 73. 74. 75. 76. 77. 78. 79. 80. 81. 82. 83. 84. 85. 86. 87. 88. 89.\n",
      " 90. 91. 92. 93. 94. 95. 96. 97. 98. nan]\n",
      "critic_score : кол-во NaN 8461 , процент NaN 51.46 %\n",
      "-------------------------\n",
      "user_score [0.  0.2 0.3 0.5 0.6 0.7 0.9 1.  1.1 1.2 1.3 1.4 1.5 1.6 1.7 1.8 1.9 2.\n",
      " 2.1 2.2 2.3 2.4 2.5 2.6 2.7 2.8 2.9 3.  3.1 3.2 3.3 3.4 3.5 3.6 3.7 3.8\n",
      " 3.9 4.  4.1 4.2 4.3 4.4 4.5 4.6 4.7 4.8 4.9 5.  5.1 5.2 5.3 5.4 5.5 5.6\n",
      " 5.7 5.8 5.9 6.  6.1 6.2 6.3 6.4 6.5 6.6 6.7 6.8 6.9 7.  7.1 7.2 7.3 7.4\n",
      " 7.5 7.6 7.7 7.8 7.9 8.  8.1 8.2 8.3 8.4 8.5 8.6 8.7 8.8 8.9 9.  9.1 9.2\n",
      " 9.3 9.4 9.5 9.6 9.7 nan]\n",
      "user_score : кол-во NaN 8981 , процент NaN 54.62 %\n",
      "-------------------------\n",
      "rating ['AO' 'E' 'E10+' 'EC' 'K-A' 'M' 'No' 'RP' 'T']\n",
      "rating : кол-во NaN 0 , процент NaN 0.0 %\n"
     ]
    }
   ],
   "source": [
    "# Посмотрим, что осталось\n",
    "temp = games.copy() \n",
    "list_c = ['name', 'platform', 'year_of_release', 'genre', 'critic_score', 'user_score', 'rating']\n",
    "print(temp.info())\n",
    "for col_l in list_c:\n",
    "  print('-'* 25)\n",
    "  print(col_l, temp[col_l].sort_values().unique())\n",
    "  print(col_l,': кол-во NaN',temp[col_l].isna().sum(),\n",
    "        ', процент NaN', round(temp[col_l].isna().mean()*100,2),'%') "
   ]
  },
  {
   "cell_type": "markdown",
   "metadata": {},
   "source": [
    "## Исследовательский анализ"
   ]
  },
  {
   "cell_type": "markdown",
   "metadata": {},
   "source": [
    "\n",
    "На этом этапе проведем исследовательский анализ данных - посмотрим, сколько игр выпускалось в разные годы, посчитаем суммарные продажи по платформам и выделим самые прибыльные, определим релевантный период для анализа и посмотрим на взаимосвязи между разными параметрами."
   ]
  },
  {
   "cell_type": "markdown",
   "metadata": {},
   "source": [
    "### Количество игр с выпуском по годам"
   ]
  },
  {
   "cell_type": "code",
   "execution_count": 25,
   "metadata": {},
   "outputs": [
    {
     "data": {
      "text/html": [
       "<div>\n",
       "<style scoped>\n",
       "    .dataframe tbody tr th:only-of-type {\n",
       "        vertical-align: middle;\n",
       "    }\n",
       "\n",
       "    .dataframe tbody tr th {\n",
       "        vertical-align: top;\n",
       "    }\n",
       "\n",
       "    .dataframe thead th {\n",
       "        text-align: right;\n",
       "    }\n",
       "</style>\n",
       "<table border=\"1\" class=\"dataframe\">\n",
       "  <thead>\n",
       "    <tr style=\"text-align: right;\">\n",
       "      <th></th>\n",
       "      <th>year_of_release</th>\n",
       "      <th>name</th>\n",
       "    </tr>\n",
       "  </thead>\n",
       "  <tbody>\n",
       "    <tr>\n",
       "      <th>0</th>\n",
       "      <td>2008</td>\n",
       "      <td>1427</td>\n",
       "    </tr>\n",
       "    <tr>\n",
       "      <th>1</th>\n",
       "      <td>2009</td>\n",
       "      <td>1426</td>\n",
       "    </tr>\n",
       "    <tr>\n",
       "      <th>2</th>\n",
       "      <td>2010</td>\n",
       "      <td>1255</td>\n",
       "    </tr>\n",
       "    <tr>\n",
       "      <th>3</th>\n",
       "      <td>2007</td>\n",
       "      <td>1197</td>\n",
       "    </tr>\n",
       "    <tr>\n",
       "      <th>4</th>\n",
       "      <td>2011</td>\n",
       "      <td>1136</td>\n",
       "    </tr>\n",
       "  </tbody>\n",
       "</table>\n",
       "</div>"
      ],
      "text/plain": [
       "   year_of_release  name\n",
       "0             2008  1427\n",
       "1             2009  1426\n",
       "2             2010  1255\n",
       "3             2007  1197\n",
       "4             2011  1136"
      ]
     },
     "execution_count": 25,
     "metadata": {},
     "output_type": "execute_result"
    }
   ],
   "source": [
    "# посмотрим, сколько игр выпускалось в разные годы\n",
    "year_pivot_table = games.pivot_table(\n",
    "    values=\"name\", index=\"year_of_release\", aggfunc=\"count\"\n",
    ").sort_values(by='name', ascending=False).reset_index()\n",
    "year_pivot_table.head()"
   ]
  },
  {
   "cell_type": "code",
   "execution_count": 26,
   "metadata": {},
   "outputs": [
    {
     "data": {
      "image/png": "[encoded data removed]",
      "text/plain": [
       "<Figure size 720x720 with 1 Axes>"
      ]
     },
     "metadata": {
      "needs_background": "light"
     },
     "output_type": "display_data"
    }
   ],
   "source": [
    "# посмотрим данные на графике\n",
    "plt.figure(figsize=(10, 10))\n",
    "sns.barplot(x=year_pivot_table[\"name\"], y=year_pivot_table[\"year_of_release\"], palette=\"viridis\", orient=\"h\")\n",
    "plt.title(\"Количество игр по годам выпуска\")\n",
    "plt.grid(color=\"grey\", axis=\"both\", alpha=0.5)\n",
    "plt.xlabel(\"Количество игр\")\n",
    "plt.ylabel(\"Год выпуска\")\n",
    "plt.show()"
   ]
  },
  {
   "cell_type": "markdown",
   "metadata": {},
   "source": [
    "Можно заметить, что до 1994 года выпускалось очень мало игр, график имеет скошенный вид. Эти данные могут быть не так важны."
   ]
  },
  {
   "cell_type": "code",
   "execution_count": 27,
   "metadata": {},
   "outputs": [
    {
     "data": {
      "text/plain": [
       "year_of_release    14\n",
       "name               14\n",
       "dtype: int64"
      ]
     },
     "execution_count": 27,
     "metadata": {},
     "output_type": "execute_result"
    }
   ],
   "source": [
    "# посмотрим, сколько игр выпускалось до 1994 года\n",
    "year_pivot_table[year_pivot_table[\"year_of_release\"] < 1994].count()"
   ]
  },
  {
   "cell_type": "markdown",
   "metadata": {},
   "source": [
    "Всего 14 игр до 1994 года."
   ]
  },
  {
   "cell_type": "markdown",
   "metadata": {},
   "source": [
    "### Cуммарные продажи по платформам"
   ]
  },
  {
   "cell_type": "markdown",
   "metadata": {},
   "source": [
    "Посмотрим, как менялись продажи по платформам. Выберем платформы с наибольшими суммарными продажами и построим распределение по годам. "
   ]
  },
  {
   "cell_type": "code",
   "execution_count": 28,
   "metadata": {},
   "outputs": [
    {
     "data": {
      "text/html": [
       "<div>\n",
       "<style scoped>\n",
       "    .dataframe tbody tr th:only-of-type {\n",
       "        vertical-align: middle;\n",
       "    }\n",
       "\n",
       "    .dataframe tbody tr th {\n",
       "        vertical-align: top;\n",
       "    }\n",
       "\n",
       "    .dataframe thead th {\n",
       "        text-align: right;\n",
       "    }\n",
       "</style>\n",
       "<table border=\"1\" class=\"dataframe\">\n",
       "  <thead>\n",
       "    <tr style=\"text-align: right;\">\n",
       "      <th></th>\n",
       "      <th>platform</th>\n",
       "      <th>total_sales</th>\n",
       "    </tr>\n",
       "  </thead>\n",
       "  <tbody>\n",
       "    <tr>\n",
       "      <th>0</th>\n",
       "      <td>PS2</td>\n",
       "      <td>1233.56</td>\n",
       "    </tr>\n",
       "    <tr>\n",
       "      <th>1</th>\n",
       "      <td>X360</td>\n",
       "      <td>961.24</td>\n",
       "    </tr>\n",
       "    <tr>\n",
       "      <th>2</th>\n",
       "      <td>PS3</td>\n",
       "      <td>931.33</td>\n",
       "    </tr>\n",
       "    <tr>\n",
       "      <th>3</th>\n",
       "      <td>Wii</td>\n",
       "      <td>891.18</td>\n",
       "    </tr>\n",
       "    <tr>\n",
       "      <th>4</th>\n",
       "      <td>DS</td>\n",
       "      <td>802.78</td>\n",
       "    </tr>\n",
       "  </tbody>\n",
       "</table>\n",
       "</div>"
      ],
      "text/plain": [
       "  platform  total_sales\n",
       "0      PS2      1233.56\n",
       "1     X360       961.24\n",
       "2      PS3       931.33\n",
       "3      Wii       891.18\n",
       "4       DS       802.78"
      ]
     },
     "execution_count": 28,
     "metadata": {},
     "output_type": "execute_result"
    }
   ],
   "source": [
    "# посчитаем суммарные продажи по платформам и определим топ-5\n",
    "platform_pivot = games.pivot_table(\n",
    "    values=\"total_sales\", index=\"platform\", aggfunc=\"sum\"\n",
    ").sort_values(by='total_sales', ascending=False).reset_index()\n",
    "platform_pivot.head()"
   ]
  },
  {
   "cell_type": "code",
   "execution_count": 29,
   "metadata": {},
   "outputs": [
    {
     "data": {
      "text/html": [
       "<div>\n",
       "<style scoped>\n",
       "    .dataframe tbody tr th:only-of-type {\n",
       "        vertical-align: middle;\n",
       "    }\n",
       "\n",
       "    .dataframe tbody tr th {\n",
       "        vertical-align: top;\n",
       "    }\n",
       "\n",
       "    .dataframe thead th {\n",
       "        text-align: right;\n",
       "    }\n",
       "</style>\n",
       "<table border=\"1\" class=\"dataframe\">\n",
       "  <thead>\n",
       "    <tr style=\"text-align: right;\">\n",
       "      <th></th>\n",
       "      <th>year_of_release</th>\n",
       "      <th>platform</th>\n",
       "      <th>total_sales</th>\n",
       "    </tr>\n",
       "  </thead>\n",
       "  <tbody>\n",
       "    <tr>\n",
       "      <th>0</th>\n",
       "      <td>2004</td>\n",
       "      <td>PS2</td>\n",
       "      <td>211.81</td>\n",
       "    </tr>\n",
       "    <tr>\n",
       "      <th>1</th>\n",
       "      <td>2009</td>\n",
       "      <td>Wii</td>\n",
       "      <td>206.97</td>\n",
       "    </tr>\n",
       "    <tr>\n",
       "      <th>2</th>\n",
       "      <td>2002</td>\n",
       "      <td>PS2</td>\n",
       "      <td>205.38</td>\n",
       "    </tr>\n",
       "    <tr>\n",
       "      <th>3</th>\n",
       "      <td>2003</td>\n",
       "      <td>PS2</td>\n",
       "      <td>184.31</td>\n",
       "    </tr>\n",
       "    <tr>\n",
       "      <th>4</th>\n",
       "      <td>2008</td>\n",
       "      <td>Wii</td>\n",
       "      <td>171.32</td>\n",
       "    </tr>\n",
       "  </tbody>\n",
       "</table>\n",
       "</div>"
      ],
      "text/plain": [
       "   year_of_release platform  total_sales\n",
       "0             2004      PS2       211.81\n",
       "1             2009      Wii       206.97\n",
       "2             2002      PS2       205.38\n",
       "3             2003      PS2       184.31\n",
       "4             2008      Wii       171.32"
      ]
     },
     "execution_count": 29,
     "metadata": {},
     "output_type": "execute_result"
    }
   ],
   "source": [
    "platform_sales = games.groupby([\"year_of_release\", \"platform\"]).agg(\n",
    "    {\n",
    "        \"total_sales\": \"sum\"\n",
    "    }\n",
    ").sort_values(by='total_sales', ascending=False).reset_index()\n",
    "platform_sales.head()"
   ]
  },
  {
   "cell_type": "code",
   "execution_count": 30,
   "metadata": {},
   "outputs": [
    {
     "data": {
      "image/png": "[encoded data removed]",
      "text/plain": [
       "<Figure size 864x360 with 1 Axes>"
      ]
     },
     "metadata": {
      "needs_background": "light"
     },
     "output_type": "display_data"
    }
   ],
   "source": [
    "# посмотрим наглядно на графике\n",
    "plt.figure(figsize=(12, 5))\n",
    "sns.lineplot(data=platform_sales[platform_sales['platform'] == 'PS2'], x=\"year_of_release\", y=\"total_sales\", label='PS2')\n",
    "sns.lineplot(data=platform_sales[platform_sales['platform'] == 'X360'], x=\"year_of_release\", y=\"total_sales\", label='X360')\n",
    "sns.lineplot(data=platform_sales[platform_sales['platform'] == 'PS3'], x=\"year_of_release\", y=\"total_sales\", label='PS3')\n",
    "sns.lineplot(data=platform_sales[platform_sales['platform'] == 'Wii'], x=\"year_of_release\", y=\"total_sales\", label='Wii')\n",
    "sns.lineplot(data=platform_sales[platform_sales['platform'] == 'DS'], x=\"year_of_release\", y=\"total_sales\", label='DS')\n",
    "plt.title(\"Продажи топ-5 платформ по годам\")\n",
    "plt.grid(color=\"grey\", axis=\"both\", alpha=0.5)\n",
    "plt.xlabel(\"Год выпуска\")\n",
    "plt.ylabel(\"Продажи\")\n",
    "plt.show()"
   ]
  },
  {
   "cell_type": "markdown",
   "metadata": {},
   "source": [
    "По графику видно, что каждая платформа в среднем имеет цикл 10 лет - за это время она появляется, набирает обороты и затем исчезает. Исключением является DS, которая функционировала с 1985 года, но продажи были низкими. Одна платформа угасает, а другая появляется в среднем на 3-4 года. В связи с этим, определим актуальный период как 3 года и  возьмем данные только за период с 2014 по 2016 год."
   ]
  },
  {
   "cell_type": "markdown",
   "metadata": {},
   "source": [
    "### Определение актуального периода для анализа"
   ]
  },
  {
   "cell_type": "markdown",
   "metadata": {},
   "source": [
    "Для анализа нам понадобится не весь датасет, а только актуальный период. Посчитаем срок жизни платформ."
   ]
  },
  {
   "cell_type": "code",
   "execution_count": 31,
   "metadata": {},
   "outputs": [
    {
     "data": {
      "text/plain": [
       "7.0"
      ]
     },
     "execution_count": 31,
     "metadata": {},
     "output_type": "execute_result"
    }
   ],
   "source": [
    "# Комментарий ревьюера\n",
    "temp = games.copy() \n",
    "time_life = temp.pivot_table(index='platform', values='year_of_release', aggfunc=['min', 'max']).reset_index()\n",
    "time_life['life'] = time_life['max'] - time_life['min'] + 1 # в срок жизни платформы, должны входить границы диапазона, \n",
    "                                                            # поэтому +1\n",
    "time_life['life'].median()"
   ]
  },
  {
   "cell_type": "code",
   "execution_count": 32,
   "metadata": {},
   "outputs": [],
   "source": [
    "# возьмем только данные после 2013 года\n",
    "games_upd = games[games['year_of_release'] > 2013]"
   ]
  },
  {
   "cell_type": "markdown",
   "metadata": {},
   "source": [
    "### Самые прибыльные платформы"
   ]
  },
  {
   "cell_type": "markdown",
   "metadata": {},
   "source": [
    "На этом этапе посмотрим, какие платформы лидируют по продажам, растут или падают за указанный период."
   ]
  },
  {
   "cell_type": "code",
   "execution_count": 33,
   "metadata": {},
   "outputs": [
    {
     "data": {
      "text/html": [
       "<div>\n",
       "<style scoped>\n",
       "    .dataframe tbody tr th:only-of-type {\n",
       "        vertical-align: middle;\n",
       "    }\n",
       "\n",
       "    .dataframe tbody tr th {\n",
       "        vertical-align: top;\n",
       "    }\n",
       "\n",
       "    .dataframe thead th {\n",
       "        text-align: right;\n",
       "    }\n",
       "</style>\n",
       "<table border=\"1\" class=\"dataframe\">\n",
       "  <thead>\n",
       "    <tr style=\"text-align: right;\">\n",
       "      <th></th>\n",
       "      <th>platform</th>\n",
       "      <th>total_sales</th>\n",
       "    </tr>\n",
       "  </thead>\n",
       "  <tbody>\n",
       "    <tr>\n",
       "      <th>0</th>\n",
       "      <td>PS4</td>\n",
       "      <td>288.15</td>\n",
       "    </tr>\n",
       "    <tr>\n",
       "      <th>1</th>\n",
       "      <td>XOne</td>\n",
       "      <td>140.36</td>\n",
       "    </tr>\n",
       "    <tr>\n",
       "      <th>2</th>\n",
       "      <td>3DS</td>\n",
       "      <td>86.68</td>\n",
       "    </tr>\n",
       "    <tr>\n",
       "      <th>3</th>\n",
       "      <td>PS3</td>\n",
       "      <td>68.18</td>\n",
       "    </tr>\n",
       "    <tr>\n",
       "      <th>4</th>\n",
       "      <td>X360</td>\n",
       "      <td>48.22</td>\n",
       "    </tr>\n",
       "  </tbody>\n",
       "</table>\n",
       "</div>"
      ],
      "text/plain": [
       "  platform  total_sales\n",
       "0      PS4       288.15\n",
       "1     XOne       140.36\n",
       "2      3DS        86.68\n",
       "3      PS3        68.18\n",
       "4     X360        48.22"
      ]
     },
     "execution_count": 33,
     "metadata": {},
     "output_type": "execute_result"
    }
   ],
   "source": [
    "# посмотрим, какие платформы были самыми прибыльными за последние 3 года\n",
    "top_platform_pivot = games_upd.pivot_table(\n",
    "    values=\"total_sales\", index=\"platform\", aggfunc=\"sum\"\n",
    ").sort_values(by='total_sales', ascending=False).reset_index()\n",
    "top_platform_pivot.head()"
   ]
  },
  {
   "cell_type": "code",
   "execution_count": 34,
   "metadata": {},
   "outputs": [
    {
     "data": {
      "text/html": [
       "<div>\n",
       "<style scoped>\n",
       "    .dataframe tbody tr th:only-of-type {\n",
       "        vertical-align: middle;\n",
       "    }\n",
       "\n",
       "    .dataframe tbody tr th {\n",
       "        vertical-align: top;\n",
       "    }\n",
       "\n",
       "    .dataframe thead th {\n",
       "        text-align: right;\n",
       "    }\n",
       "</style>\n",
       "<table border=\"1\" class=\"dataframe\">\n",
       "  <thead>\n",
       "    <tr style=\"text-align: right;\">\n",
       "      <th></th>\n",
       "      <th>platform</th>\n",
       "      <th>year_of_release</th>\n",
       "      <th>total_sales</th>\n",
       "    </tr>\n",
       "  </thead>\n",
       "  <tbody>\n",
       "    <tr>\n",
       "      <th>0</th>\n",
       "      <td>PS4</td>\n",
       "      <td>2015</td>\n",
       "      <td>118.90</td>\n",
       "    </tr>\n",
       "    <tr>\n",
       "      <th>1</th>\n",
       "      <td>PS4</td>\n",
       "      <td>2014</td>\n",
       "      <td>100.00</td>\n",
       "    </tr>\n",
       "    <tr>\n",
       "      <th>2</th>\n",
       "      <td>PS4</td>\n",
       "      <td>2016</td>\n",
       "      <td>69.25</td>\n",
       "    </tr>\n",
       "    <tr>\n",
       "      <th>3</th>\n",
       "      <td>XOne</td>\n",
       "      <td>2015</td>\n",
       "      <td>60.14</td>\n",
       "    </tr>\n",
       "    <tr>\n",
       "      <th>4</th>\n",
       "      <td>XOne</td>\n",
       "      <td>2014</td>\n",
       "      <td>54.07</td>\n",
       "    </tr>\n",
       "  </tbody>\n",
       "</table>\n",
       "</div>"
      ],
      "text/plain": [
       "  platform  year_of_release  total_sales\n",
       "0      PS4             2015       118.90\n",
       "1      PS4             2014       100.00\n",
       "2      PS4             2016        69.25\n",
       "3     XOne             2015        60.14\n",
       "4     XOne             2014        54.07"
      ]
     },
     "execution_count": 34,
     "metadata": {},
     "output_type": "execute_result"
    }
   ],
   "source": [
    "# добавим в сводную таблицу также год\n",
    "top_platform_pivot = games_upd.pivot_table(\n",
    "    values=\"total_sales\", index=[\"platform\", \"year_of_release\"], aggfunc=\"sum\"\n",
    ").sort_values(by='total_sales', ascending=False).reset_index()\n",
    "top_platform_pivot.head()"
   ]
  },
  {
   "cell_type": "code",
   "execution_count": 35,
   "metadata": {},
   "outputs": [
    {
     "data": {
      "image/png": "[encoded data removed]",
      "text/plain": [
       "<Figure size 720x360 with 1 Axes>"
      ]
     },
     "metadata": {
      "needs_background": "light"
     },
     "output_type": "display_data"
    }
   ],
   "source": [
    "# посмотрим на динамику продаж по платформам на графике\n",
    "plt.figure(figsize=(10, 5))\n",
    "sns.lineplot(x='year_of_release', y='total_sales', hue='platform', data=top_platform_pivot)\n",
    "plt.title('Продажи по платформам за актуальный период')\n",
    "plt.grid(color=\"grey\", axis=\"both\", alpha=0.5)\n",
    "plt.xlabel(\"Год выпуска\")\n",
    "plt.ylabel(\"Продажи\")\n",
    "plt.xticks([2014, 2015, 2016])\n",
    "plt.show()"
   ]
  },
  {
   "cell_type": "markdown",
   "metadata": {},
   "source": [
    "По графику видно, что за последние 3 года платформы становились менее популярными, продажи падали. Наиболее прибыльными были PS4, XOne и 3DS."
   ]
  },
  {
   "cell_type": "markdown",
   "metadata": {},
   "source": [
    "### «Ящик с усами» по глобальным продажам игр в разбивке по платформам"
   ]
  },
  {
   "cell_type": "code",
   "execution_count": 37,
   "metadata": {},
   "outputs": [
    {
     "data": {
      "image/png": "[encoded data removed]",
      "text/plain": [
       "<Figure size 1440x432 with 1 Axes>"
      ]
     },
     "metadata": {
      "needs_background": "light"
     },
     "output_type": "display_data"
    }
   ],
   "source": [
    "# построим  «ящик с усами» по глобальным продажам игр в разбивке по платформам\n",
    "plt.figure(figsize=(20, 6))\n",
    "sns.boxplot(y='total_sales', x='platform', data=games_upd)\n",
    "plt.title('«Ящик с усами» по глобальным продажам игр')\n",
    "plt.grid(color=\"grey\", axis=\"both\", alpha=0.5)\n",
    "plt.xlabel(\"Платформа\")\n",
    "plt.ylabel(\"Продажи\")\n",
    "plt.show()"
   ]
  },
  {
   "cell_type": "code",
   "execution_count": 38,
   "metadata": {},
   "outputs": [
    {
     "data": {
      "image/png": "[encoded data removed]",
      "text/plain": [
       "<Figure size 1440x432 with 1 Axes>"
      ]
     },
     "metadata": {
      "needs_background": "light"
     },
     "output_type": "display_data"
    }
   ],
   "source": [
    "# масштабируем график\n",
    "plt.figure(figsize=(20, 6))\n",
    "sns.boxplot(y='total_sales', x='platform', data=games_upd)\n",
    "plt.title('«Ящик с усами» по глобальным продажам игр')\n",
    "plt.grid(color=\"grey\", axis=\"both\", alpha=0.5)\n",
    "plt.xlabel(\"Платформа\")\n",
    "plt.ylabel(\"Продажи\")\n",
    "plt.ylim(0, 2)\n",
    "plt.show()"
   ]
  },
  {
   "cell_type": "markdown",
   "metadata": {},
   "source": [
    "По графику видно, что на всех платформам (кроме Wii) большой разброс продаж и есть выбросы. <br>\n",
    "    Можно сделать вывод, что на платформах PS4, XOne, WiiU, X360 и Wii больше топовых игр, так как медианы графиков имеют наибольшие значения. Платформы PSP, PSV и PC представляют меньший интерес, так как медианы имеют маленькие значения, что говорит о более низких средних продажах. "
   ]
  },
  {
   "cell_type": "markdown",
   "metadata": {},
   "source": [
    "### Определение влияния отзывов критиков и пользователей на продажи "
   ]
  },
  {
   "cell_type": "markdown",
   "metadata": {},
   "source": [
    "\n",
    "Построим диаграммы рассеяния для наиболее популярных платформ и посчитаем корреляцию между отзывами и продажами."
   ]
  },
  {
   "cell_type": "code",
   "execution_count": 39,
   "metadata": {},
   "outputs": [
    {
     "data": {
      "text/html": [
       "<div>\n",
       "<style scoped>\n",
       "    .dataframe tbody tr th:only-of-type {\n",
       "        vertical-align: middle;\n",
       "    }\n",
       "\n",
       "    .dataframe tbody tr th {\n",
       "        vertical-align: top;\n",
       "    }\n",
       "\n",
       "    .dataframe thead th {\n",
       "        text-align: right;\n",
       "    }\n",
       "</style>\n",
       "<table border=\"1\" class=\"dataframe\">\n",
       "  <thead>\n",
       "    <tr style=\"text-align: right;\">\n",
       "      <th></th>\n",
       "      <th>name</th>\n",
       "      <th>platform</th>\n",
       "      <th>year_of_release</th>\n",
       "      <th>genre</th>\n",
       "      <th>na_sales</th>\n",
       "      <th>eu_sales</th>\n",
       "      <th>jp_sales</th>\n",
       "      <th>other_sales</th>\n",
       "      <th>critic_score</th>\n",
       "      <th>user_score</th>\n",
       "      <th>rating</th>\n",
       "      <th>total_sales</th>\n",
       "    </tr>\n",
       "  </thead>\n",
       "  <tbody>\n",
       "    <tr>\n",
       "      <th>31</th>\n",
       "      <td>Call of Duty: Black Ops 3</td>\n",
       "      <td>PS4</td>\n",
       "      <td>2015</td>\n",
       "      <td>Shooter</td>\n",
       "      <td>6.03</td>\n",
       "      <td>5.86</td>\n",
       "      <td>0.36</td>\n",
       "      <td>2.38</td>\n",
       "      <td>NaN</td>\n",
       "      <td>NaN</td>\n",
       "      <td>No</td>\n",
       "      <td>14.63</td>\n",
       "    </tr>\n",
       "    <tr>\n",
       "      <th>42</th>\n",
       "      <td>Grand Theft Auto V</td>\n",
       "      <td>PS4</td>\n",
       "      <td>2014</td>\n",
       "      <td>Action</td>\n",
       "      <td>3.96</td>\n",
       "      <td>6.31</td>\n",
       "      <td>0.38</td>\n",
       "      <td>1.97</td>\n",
       "      <td>97.0</td>\n",
       "      <td>8.3</td>\n",
       "      <td>M</td>\n",
       "      <td>12.62</td>\n",
       "    </tr>\n",
       "    <tr>\n",
       "      <th>77</th>\n",
       "      <td>FIFA 16</td>\n",
       "      <td>PS4</td>\n",
       "      <td>2015</td>\n",
       "      <td>Sports</td>\n",
       "      <td>1.12</td>\n",
       "      <td>6.12</td>\n",
       "      <td>0.06</td>\n",
       "      <td>1.28</td>\n",
       "      <td>82.0</td>\n",
       "      <td>4.3</td>\n",
       "      <td>E</td>\n",
       "      <td>8.58</td>\n",
       "    </tr>\n",
       "    <tr>\n",
       "      <th>87</th>\n",
       "      <td>Star Wars Battlefront (2015)</td>\n",
       "      <td>PS4</td>\n",
       "      <td>2015</td>\n",
       "      <td>Shooter</td>\n",
       "      <td>2.99</td>\n",
       "      <td>3.49</td>\n",
       "      <td>0.22</td>\n",
       "      <td>1.28</td>\n",
       "      <td>NaN</td>\n",
       "      <td>NaN</td>\n",
       "      <td>No</td>\n",
       "      <td>7.98</td>\n",
       "    </tr>\n",
       "    <tr>\n",
       "      <th>92</th>\n",
       "      <td>Call of Duty: Advanced Warfare</td>\n",
       "      <td>PS4</td>\n",
       "      <td>2014</td>\n",
       "      <td>Shooter</td>\n",
       "      <td>2.81</td>\n",
       "      <td>3.48</td>\n",
       "      <td>0.14</td>\n",
       "      <td>1.23</td>\n",
       "      <td>83.0</td>\n",
       "      <td>5.7</td>\n",
       "      <td>M</td>\n",
       "      <td>7.66</td>\n",
       "    </tr>\n",
       "    <tr>\n",
       "      <th>...</th>\n",
       "      <td>...</td>\n",
       "      <td>...</td>\n",
       "      <td>...</td>\n",
       "      <td>...</td>\n",
       "      <td>...</td>\n",
       "      <td>...</td>\n",
       "      <td>...</td>\n",
       "      <td>...</td>\n",
       "      <td>...</td>\n",
       "      <td>...</td>\n",
       "      <td>...</td>\n",
       "      <td>...</td>\n",
       "    </tr>\n",
       "    <tr>\n",
       "      <th>16500</th>\n",
       "      <td>Root Letter</td>\n",
       "      <td>PS4</td>\n",
       "      <td>2016</td>\n",
       "      <td>Adventure</td>\n",
       "      <td>0.00</td>\n",
       "      <td>0.00</td>\n",
       "      <td>0.01</td>\n",
       "      <td>0.00</td>\n",
       "      <td>69.0</td>\n",
       "      <td>7.5</td>\n",
       "      <td>No</td>\n",
       "      <td>0.01</td>\n",
       "    </tr>\n",
       "    <tr>\n",
       "      <th>16503</th>\n",
       "      <td>Shin Hayarigami 2</td>\n",
       "      <td>PS4</td>\n",
       "      <td>2016</td>\n",
       "      <td>Adventure</td>\n",
       "      <td>0.00</td>\n",
       "      <td>0.00</td>\n",
       "      <td>0.01</td>\n",
       "      <td>0.00</td>\n",
       "      <td>NaN</td>\n",
       "      <td>NaN</td>\n",
       "      <td>No</td>\n",
       "      <td>0.01</td>\n",
       "    </tr>\n",
       "    <tr>\n",
       "      <th>16526</th>\n",
       "      <td>Dungeons 2</td>\n",
       "      <td>PS4</td>\n",
       "      <td>2016</td>\n",
       "      <td>Role-Playing</td>\n",
       "      <td>0.01</td>\n",
       "      <td>0.00</td>\n",
       "      <td>0.00</td>\n",
       "      <td>0.00</td>\n",
       "      <td>61.0</td>\n",
       "      <td>7.9</td>\n",
       "      <td>T</td>\n",
       "      <td>0.01</td>\n",
       "    </tr>\n",
       "    <tr>\n",
       "      <th>16530</th>\n",
       "      <td>Carmageddon: Max Damage</td>\n",
       "      <td>PS4</td>\n",
       "      <td>2016</td>\n",
       "      <td>Action</td>\n",
       "      <td>0.01</td>\n",
       "      <td>0.00</td>\n",
       "      <td>0.00</td>\n",
       "      <td>0.00</td>\n",
       "      <td>51.0</td>\n",
       "      <td>5.5</td>\n",
       "      <td>M</td>\n",
       "      <td>0.01</td>\n",
       "    </tr>\n",
       "    <tr>\n",
       "      <th>16585</th>\n",
       "      <td>Farming 2017 - The Simulation</td>\n",
       "      <td>PS4</td>\n",
       "      <td>2016</td>\n",
       "      <td>Simulation</td>\n",
       "      <td>0.00</td>\n",
       "      <td>0.01</td>\n",
       "      <td>0.00</td>\n",
       "      <td>0.00</td>\n",
       "      <td>NaN</td>\n",
       "      <td>NaN</td>\n",
       "      <td>No</td>\n",
       "      <td>0.01</td>\n",
       "    </tr>\n",
       "  </tbody>\n",
       "</table>\n",
       "<p>376 rows × 12 columns</p>\n",
       "</div>"
      ],
      "text/plain": [
       "                                 name platform  year_of_release         genre  \\\n",
       "31          Call of Duty: Black Ops 3      PS4             2015       Shooter   \n",
       "42                 Grand Theft Auto V      PS4             2014        Action   \n",
       "77                            FIFA 16      PS4             2015        Sports   \n",
       "87       Star Wars Battlefront (2015)      PS4             2015       Shooter   \n",
       "92     Call of Duty: Advanced Warfare      PS4             2014       Shooter   \n",
       "...                               ...      ...              ...           ...   \n",
       "16500                     Root Letter      PS4             2016     Adventure   \n",
       "16503               Shin Hayarigami 2      PS4             2016     Adventure   \n",
       "16526                      Dungeons 2      PS4             2016  Role-Playing   \n",
       "16530         Carmageddon: Max Damage      PS4             2016        Action   \n",
       "16585   Farming 2017 - The Simulation      PS4             2016    Simulation   \n",
       "\n",
       "       na_sales  eu_sales  jp_sales  other_sales  critic_score  user_score  \\\n",
       "31         6.03      5.86      0.36         2.38           NaN         NaN   \n",
       "42         3.96      6.31      0.38         1.97          97.0         8.3   \n",
       "77         1.12      6.12      0.06         1.28          82.0         4.3   \n",
       "87         2.99      3.49      0.22         1.28           NaN         NaN   \n",
       "92         2.81      3.48      0.14         1.23          83.0         5.7   \n",
       "...         ...       ...       ...          ...           ...         ...   \n",
       "16500      0.00      0.00      0.01         0.00          69.0         7.5   \n",
       "16503      0.00      0.00      0.01         0.00           NaN         NaN   \n",
       "16526      0.01      0.00      0.00         0.00          61.0         7.9   \n",
       "16530      0.01      0.00      0.00         0.00          51.0         5.5   \n",
       "16585      0.00      0.01      0.00         0.00           NaN         NaN   \n",
       "\n",
       "      rating  total_sales  \n",
       "31        No        14.63  \n",
       "42         M        12.62  \n",
       "77         E         8.58  \n",
       "87        No         7.98  \n",
       "92         M         7.66  \n",
       "...      ...          ...  \n",
       "16500     No         0.01  \n",
       "16503     No         0.01  \n",
       "16526      T         0.01  \n",
       "16530      M         0.01  \n",
       "16585     No         0.01  \n",
       "\n",
       "[376 rows x 12 columns]"
      ]
     },
     "execution_count": 39,
     "metadata": {},
     "output_type": "execute_result"
    }
   ],
   "source": [
    "# отфильтруем данные для платформы PS4\n",
    "ps_four_data = games_upd[games_upd['platform'] == 'PS4']\n",
    "ps_four_data"
   ]
  },
  {
   "cell_type": "markdown",
   "metadata": {},
   "source": [
    "Посмотрим, как влияют на продажи внутри платформы PS4 отзывы пользователей и критиков."
   ]
  },
  {
   "cell_type": "code",
   "execution_count": 40,
   "metadata": {},
   "outputs": [
    {
     "data": {
      "text/html": [
       "<div>\n",
       "<style scoped>\n",
       "    .dataframe tbody tr th:only-of-type {\n",
       "        vertical-align: middle;\n",
       "    }\n",
       "\n",
       "    .dataframe tbody tr th {\n",
       "        vertical-align: top;\n",
       "    }\n",
       "\n",
       "    .dataframe thead th {\n",
       "        text-align: right;\n",
       "    }\n",
       "</style>\n",
       "<table border=\"1\" class=\"dataframe\">\n",
       "  <thead>\n",
       "    <tr style=\"text-align: right;\">\n",
       "      <th></th>\n",
       "      <th>total_sales</th>\n",
       "      <th>critic_score</th>\n",
       "      <th>user_score</th>\n",
       "    </tr>\n",
       "  </thead>\n",
       "  <tbody>\n",
       "    <tr>\n",
       "      <th>total_sales</th>\n",
       "      <td>1.000000</td>\n",
       "      <td>0.402661</td>\n",
       "      <td>-0.040132</td>\n",
       "    </tr>\n",
       "    <tr>\n",
       "      <th>critic_score</th>\n",
       "      <td>0.402661</td>\n",
       "      <td>1.000000</td>\n",
       "      <td>0.546434</td>\n",
       "    </tr>\n",
       "    <tr>\n",
       "      <th>user_score</th>\n",
       "      <td>-0.040132</td>\n",
       "      <td>0.546434</td>\n",
       "      <td>1.000000</td>\n",
       "    </tr>\n",
       "  </tbody>\n",
       "</table>\n",
       "</div>"
      ],
      "text/plain": [
       "              total_sales  critic_score  user_score\n",
       "total_sales      1.000000      0.402661   -0.040132\n",
       "critic_score     0.402661      1.000000    0.546434\n",
       "user_score      -0.040132      0.546434    1.000000"
      ]
     },
     "execution_count": 40,
     "metadata": {},
     "output_type": "execute_result"
    },
    {
     "data": {
      "image/png": "[encoded data removed]",
      "text/plain": [
       "<Figure size 720x720 with 9 Axes>"
      ]
     },
     "metadata": {
      "needs_background": "light"
     },
     "output_type": "display_data"
    }
   ],
   "source": [
    "# построим матрицу рассеяния и оценим коэффициент Пирсона для PS4\n",
    "ps_four_corr = ps_four_data[[\"total_sales\", \"critic_score\", \"user_score\"]]\n",
    "pd.plotting.scatter_matrix(ps_four_corr, color='purple', hist_kwds={'bins':15, 'color':'grey'}, figsize=(10, 10))\n",
    "ps_four_corr.corr()"
   ]
  },
  {
   "cell_type": "markdown",
   "metadata": {},
   "source": [
    "Построим диаграмму рассеяния для PS4 и посчитаем корреляцию между отзывами и продажами."
   ]
  },
  {
   "cell_type": "code",
   "execution_count": 41,
   "metadata": {},
   "outputs": [
    {
     "name": "stdout",
     "output_type": "stream",
     "text": [
      "0.40266141068104083\n",
      "-0.040131589472697356\n"
     ]
    },
    {
     "data": {
      "image/png": "[encoded data removed]",
      "text/plain": [
       "<Figure size 432x288 with 1 Axes>"
      ]
     },
     "metadata": {
      "needs_background": "light"
     },
     "output_type": "display_data"
    },
    {
     "data": {
      "image/png": "[encoded data removed]",
      "text/plain": [
       "<Figure size 432x288 with 1 Axes>"
      ]
     },
     "metadata": {
      "needs_background": "light"
     },
     "output_type": "display_data"
    }
   ],
   "source": [
    "#построим диаграммы рассеяния для PS4 \n",
    "ps_four_data.plot(x='total_sales', y='critic_score', kind='scatter')\n",
    "plt.title('Влияние оценки критиков PS4')\n",
    "plt.xlabel(\"Продажи\")\n",
    "plt.ylabel(\"Оценка критиков\")\n",
    "print(ps_four_data['total_sales'].corr(ps_four_data['critic_score']))\n",
    "ps_four_data.plot(x='total_sales', y='user_score', kind='scatter')\n",
    "plt.title('Влияние оценки пользователей PS4')\n",
    "plt.xlabel(\"Продажи\")\n",
    "plt.ylabel(\"Оценка пользователей\")\n",
    "print(ps_four_data['total_sales'].corr(ps_four_data['user_score']))\n",
    "plt.show()"
   ]
  },
  {
   "cell_type": "markdown",
   "metadata": {},
   "source": [
    "Коэффициент равный 0.40 говорит о наличии положительной корреляции между оценкой критиков и продажами, однако не слишком сильной. Выходит, увеличение оценки критиков сопровождается ростом продаж, но так бывает не всегда.\n",
    "\n",
    "Коэффициент -0.04 характеризует очень слабую отрицательную корреляцию. Скорее всего, особой связи между отзывыми пользователей и продажами нет."
   ]
  },
  {
   "cell_type": "markdown",
   "metadata": {},
   "source": [
    "\n",
    "Диаграмма рассеяния и рассчитанные коэффициенты говорят о том, что нет значительной корреляции между оценкой критиков и продажами."
   ]
  },
  {
   "cell_type": "code",
   "execution_count": 42,
   "metadata": {},
   "outputs": [
    {
     "data": {
      "text/html": [
       "<div>\n",
       "<style scoped>\n",
       "    .dataframe tbody tr th:only-of-type {\n",
       "        vertical-align: middle;\n",
       "    }\n",
       "\n",
       "    .dataframe tbody tr th {\n",
       "        vertical-align: top;\n",
       "    }\n",
       "\n",
       "    .dataframe thead th {\n",
       "        text-align: right;\n",
       "    }\n",
       "</style>\n",
       "<table border=\"1\" class=\"dataframe\">\n",
       "  <thead>\n",
       "    <tr style=\"text-align: right;\">\n",
       "      <th></th>\n",
       "      <th>total_sales</th>\n",
       "      <th>critic_score</th>\n",
       "      <th>user_score</th>\n",
       "    </tr>\n",
       "  </thead>\n",
       "  <tbody>\n",
       "    <tr>\n",
       "      <th>total_sales</th>\n",
       "      <td>1.000000</td>\n",
       "      <td>0.428677</td>\n",
       "      <td>-0.070384</td>\n",
       "    </tr>\n",
       "    <tr>\n",
       "      <th>critic_score</th>\n",
       "      <td>0.428677</td>\n",
       "      <td>1.000000</td>\n",
       "      <td>0.440977</td>\n",
       "    </tr>\n",
       "    <tr>\n",
       "      <th>user_score</th>\n",
       "      <td>-0.070384</td>\n",
       "      <td>0.440977</td>\n",
       "      <td>1.000000</td>\n",
       "    </tr>\n",
       "  </tbody>\n",
       "</table>\n",
       "</div>"
      ],
      "text/plain": [
       "              total_sales  critic_score  user_score\n",
       "total_sales      1.000000      0.428677   -0.070384\n",
       "critic_score     0.428677      1.000000    0.440977\n",
       "user_score      -0.070384      0.440977    1.000000"
      ]
     },
     "execution_count": 42,
     "metadata": {},
     "output_type": "execute_result"
    },
    {
     "data": {
      "image/png": "[encoded data removed]",
      "text/plain": [
       "<Figure size 720x720 with 9 Axes>"
      ]
     },
     "metadata": {
      "needs_background": "light"
     },
     "output_type": "display_data"
    }
   ],
   "source": [
    "# построим диаграмму рассеяния и оценим коэффициент Пирсона для XOne\n",
    "xone_data = games_upd[games_upd['platform'] == 'XOne']\n",
    "xone_data_corr = xone_data[[\"total_sales\", \"critic_score\", \"user_score\"]]\n",
    "pd.plotting.scatter_matrix(xone_data_corr, color='green', hist_kwds={'bins':15, 'color':'grey'}, figsize=(10, 10))\n",
    "xone_data_corr.corr()"
   ]
  },
  {
   "cell_type": "markdown",
   "metadata": {},
   "source": [
    "\n",
    "Построим диаграмму рассеяния для XOne и посчитаем корреляцию между отзывами и продажами."
   ]
  },
  {
   "cell_type": "code",
   "execution_count": 43,
   "metadata": {},
   "outputs": [
    {
     "name": "stdout",
     "output_type": "stream",
     "text": [
      "0.42867694370333226\n",
      "-0.0703839280647581\n"
     ]
    },
    {
     "data": {
      "image/png": "[encoded data removed]",
      "text/plain": [
       "<Figure size 432x288 with 1 Axes>"
      ]
     },
     "metadata": {
      "needs_background": "light"
     },
     "output_type": "display_data"
    },
    {
     "data": {
      "image/png": "[encoded data removed]",
      "text/plain": [
       "<Figure size 432x288 with 1 Axes>"
      ]
     },
     "metadata": {
      "needs_background": "light"
     },
     "output_type": "display_data"
    }
   ],
   "source": [
    "#построим диаграммы рассеяния для Xone\n",
    "xone_data.plot(x='total_sales', y='critic_score', kind='scatter')\n",
    "plt.title('Влияние оценки критиков XOne')\n",
    "plt.xlabel(\"Продажи\")\n",
    "plt.ylabel(\"Оценка критиков\")\n",
    "print(xone_data['total_sales'].corr(xone_data['critic_score']))\n",
    "xone_data.plot(x='total_sales', y='user_score', kind='scatter')\n",
    "plt.title('Влияние оценки пользователей Xone')\n",
    "plt.xlabel(\"Продажи\")\n",
    "plt.ylabel(\"Оценка пользователей\")\n",
    "print(xone_data['total_sales'].corr(xone_data['user_score']))\n",
    "plt.show()"
   ]
  },
  {
   "cell_type": "markdown",
   "metadata": {},
   "source": [
    "Ситуация схожа с платформой PS4. Коэффициент равный 0.42 говорит о наличии положительной корреляции между оценкой критиков и продажами, однако не слишком сильной. Коэффициент -0.07 говорит об отсутствии связи между отзывами пользователей и продажами, либо слишком слабой."
   ]
  },
  {
   "cell_type": "code",
   "execution_count": 44,
   "metadata": {},
   "outputs": [
    {
     "data": {
      "text/html": [
       "<div>\n",
       "<style scoped>\n",
       "    .dataframe tbody tr th:only-of-type {\n",
       "        vertical-align: middle;\n",
       "    }\n",
       "\n",
       "    .dataframe tbody tr th {\n",
       "        vertical-align: top;\n",
       "    }\n",
       "\n",
       "    .dataframe thead th {\n",
       "        text-align: right;\n",
       "    }\n",
       "</style>\n",
       "<table border=\"1\" class=\"dataframe\">\n",
       "  <thead>\n",
       "    <tr style=\"text-align: right;\">\n",
       "      <th></th>\n",
       "      <th>total_sales</th>\n",
       "      <th>critic_score</th>\n",
       "      <th>user_score</th>\n",
       "    </tr>\n",
       "  </thead>\n",
       "  <tbody>\n",
       "    <tr>\n",
       "      <th>total_sales</th>\n",
       "      <td>1.000000</td>\n",
       "      <td>0.314117</td>\n",
       "      <td>0.215193</td>\n",
       "    </tr>\n",
       "    <tr>\n",
       "      <th>critic_score</th>\n",
       "      <td>0.314117</td>\n",
       "      <td>1.000000</td>\n",
       "      <td>0.862485</td>\n",
       "    </tr>\n",
       "    <tr>\n",
       "      <th>user_score</th>\n",
       "      <td>0.215193</td>\n",
       "      <td>0.862485</td>\n",
       "      <td>1.000000</td>\n",
       "    </tr>\n",
       "  </tbody>\n",
       "</table>\n",
       "</div>"
      ],
      "text/plain": [
       "              total_sales  critic_score  user_score\n",
       "total_sales      1.000000      0.314117    0.215193\n",
       "critic_score     0.314117      1.000000    0.862485\n",
       "user_score       0.215193      0.862485    1.000000"
      ]
     },
     "execution_count": 44,
     "metadata": {},
     "output_type": "execute_result"
    },
    {
     "data": {
      "image/png": "[encoded data removed]",
      "text/plain": [
       "<Figure size 720x720 with 9 Axes>"
      ]
     },
     "metadata": {
      "needs_background": "light"
     },
     "output_type": "display_data"
    }
   ],
   "source": [
    "# построим диаграмму рассеяния и оценим коэффициент Пирсона для 3DS\n",
    "three_ds_data = games_upd[games_upd['platform'] == '3DS']\n",
    "three_ds_data_corr = three_ds_data[[\"total_sales\", \"critic_score\", \"user_score\"]]\n",
    "pd.plotting.scatter_matrix(three_ds_data_corr, color='green', hist_kwds={'bins':15, 'color':'grey'}, figsize=(10, 10))\n",
    "three_ds_data_corr.corr()"
   ]
  },
  {
   "cell_type": "markdown",
   "metadata": {},
   "source": [
    "По матрицам рассеяния можем сделать вывод, что по двум другим платформам ситуация схожа с PS4. По XOne коэффициенты корреляции близки к коэффициентам по PS4, а по 3DS связь еще слабее. "
   ]
  },
  {
   "cell_type": "markdown",
   "metadata": {},
   "source": [
    "Посмотрим на данные платформы Wii."
   ]
  },
  {
   "cell_type": "code",
   "execution_count": 45,
   "metadata": {},
   "outputs": [
    {
     "name": "stdout",
     "output_type": "stream",
     "text": [
      "<class 'pandas.core.frame.DataFrame'>\n",
      "Int64Index: 11 entries, 850 to 16312\n",
      "Data columns (total 12 columns):\n",
      " #   Column           Non-Null Count  Dtype  \n",
      "---  ------           --------------  -----  \n",
      " 0   name             11 non-null     object \n",
      " 1   platform         11 non-null     object \n",
      " 2   year_of_release  11 non-null     Int64  \n",
      " 3   genre            11 non-null     object \n",
      " 4   na_sales         11 non-null     float64\n",
      " 5   eu_sales         11 non-null     float64\n",
      " 6   jp_sales         11 non-null     float64\n",
      " 7   other_sales      11 non-null     float64\n",
      " 8   critic_score     0 non-null      float64\n",
      " 9   user_score       2 non-null      float64\n",
      " 10  rating           11 non-null     object \n",
      " 11  total_sales      11 non-null     float64\n",
      "dtypes: Int64(1), float64(7), object(4)\n",
      "memory usage: 1.1+ KB\n"
     ]
    }
   ],
   "source": [
    "wii_data = games_upd[games_upd['platform'] == 'Wii']\n",
    "wii_data.info()"
   ]
  },
  {
   "cell_type": "markdown",
   "metadata": {},
   "source": [
    "Мы видим, что данные по отзывам пользователей и критиков отсутствуют, поэтому установить корреляцию по этой платформе не представляется возможным. Посмотрим на данные платформы WiiU."
   ]
  },
  {
   "cell_type": "code",
   "execution_count": 46,
   "metadata": {},
   "outputs": [
    {
     "name": "stdout",
     "output_type": "stream",
     "text": [
      "<class 'pandas.core.frame.DataFrame'>\n",
      "Int64Index: 73 entries, 110 to 16652\n",
      "Data columns (total 12 columns):\n",
      " #   Column           Non-Null Count  Dtype  \n",
      "---  ------           --------------  -----  \n",
      " 0   name             73 non-null     object \n",
      " 1   platform         73 non-null     object \n",
      " 2   year_of_release  73 non-null     Int64  \n",
      " 3   genre            73 non-null     object \n",
      " 4   na_sales         73 non-null     float64\n",
      " 5   eu_sales         73 non-null     float64\n",
      " 6   jp_sales         73 non-null     float64\n",
      " 7   other_sales      73 non-null     float64\n",
      " 8   critic_score     43 non-null     float64\n",
      " 9   user_score       48 non-null     float64\n",
      " 10  rating           73 non-null     object \n",
      " 11  total_sales      73 non-null     float64\n",
      "dtypes: Int64(1), float64(7), object(4)\n",
      "memory usage: 7.5+ KB\n"
     ]
    }
   ],
   "source": [
    "wiiu_data = games_upd[games_upd['platform'] == 'WiiU']\n",
    "wiiu_data.info()"
   ]
  },
  {
   "cell_type": "code",
   "execution_count": 47,
   "metadata": {},
   "outputs": [
    {
     "name": "stdout",
     "output_type": "stream",
     "text": [
      "0.370201412480884\n",
      "0.4079264579217078\n"
     ]
    },
    {
     "data": {
      "image/png": "[encoded data removed]",
      "text/plain": [
       "<Figure size 432x288 with 1 Axes>"
      ]
     },
     "metadata": {
      "needs_background": "light"
     },
     "output_type": "display_data"
    },
    {
     "data": {
      "image/png": "[encoded data removed]",
      "text/plain": [
       "<Figure size 432x288 with 1 Axes>"
      ]
     },
     "metadata": {
      "needs_background": "light"
     },
     "output_type": "display_data"
    }
   ],
   "source": [
    "#построим диаграммы рассеяния для WiiU\n",
    "wiiu_data.plot(x='total_sales', y='critic_score', kind='scatter')\n",
    "plt.title('Влияние оценки критиков WiiU')\n",
    "plt.xlabel(\"Продажи\")\n",
    "plt.ylabel(\"Оценка критиков\")\n",
    "print(wiiu_data['total_sales'].corr(wiiu_data['critic_score']))\n",
    "wiiu_data.plot(x='total_sales', y='user_score', kind='scatter')\n",
    "plt.title('Влияние оценки пользователей WiiU')\n",
    "plt.xlabel(\"Продажи\")\n",
    "plt.ylabel(\"Оценка пользователей\")\n",
    "print(wiiu_data['total_sales'].corr(wiiu_data['user_score']))\n",
    "plt.show()"
   ]
  },
  {
   "cell_type": "markdown",
   "metadata": {},
   "source": [
    "Здесь коэффициент Пирсона для оценки пользоваталей имеет более высокое значение 0.40 и говорит о наличии связи, однако по-прежнему не слишком сильной."
   ]
  },
  {
   "cell_type": "markdown",
   "metadata": {},
   "source": [
    "В результате проведенного анализа можно сделать вывод, что отзывы критиков могут оказывать влияние на продажи по платформам, но так бывает не всегда. Отзывы пользователей имеют еще более слабую связь с продажами. "
   ]
  },
  {
   "cell_type": "markdown",
   "metadata": {},
   "source": [
    "### Общее распределение игр по жанрам"
   ]
  },
  {
   "cell_type": "markdown",
   "metadata": {},
   "source": [
    "Теперь посмотрим на общее распределение игр по жанрам. "
   ]
  },
  {
   "cell_type": "code",
   "execution_count": 49,
   "metadata": {},
   "outputs": [
    {
     "data": {
      "text/html": [
       "<div>\n",
       "<style scoped>\n",
       "    .dataframe tbody tr th:only-of-type {\n",
       "        vertical-align: middle;\n",
       "    }\n",
       "\n",
       "    .dataframe tbody tr th {\n",
       "        vertical-align: top;\n",
       "    }\n",
       "\n",
       "    .dataframe thead tr th {\n",
       "        text-align: left;\n",
       "    }\n",
       "</style>\n",
       "<table border=\"1\" class=\"dataframe\">\n",
       "  <thead>\n",
       "    <tr>\n",
       "      <th></th>\n",
       "      <th>genre</th>\n",
       "      <th>sum</th>\n",
       "      <th>median</th>\n",
       "    </tr>\n",
       "    <tr>\n",
       "      <th></th>\n",
       "      <th></th>\n",
       "      <th>total_sales</th>\n",
       "      <th>total_sales</th>\n",
       "    </tr>\n",
       "  </thead>\n",
       "  <tbody>\n",
       "    <tr>\n",
       "      <th>0</th>\n",
       "      <td>Shooter</td>\n",
       "      <td>170.94</td>\n",
       "      <td>0.515</td>\n",
       "    </tr>\n",
       "    <tr>\n",
       "      <th>1</th>\n",
       "      <td>Sports</td>\n",
       "      <td>109.48</td>\n",
       "      <td>0.180</td>\n",
       "    </tr>\n",
       "    <tr>\n",
       "      <th>2</th>\n",
       "      <td>Platform</td>\n",
       "      <td>18.09</td>\n",
       "      <td>0.140</td>\n",
       "    </tr>\n",
       "    <tr>\n",
       "      <th>3</th>\n",
       "      <td>Fighting</td>\n",
       "      <td>28.22</td>\n",
       "      <td>0.125</td>\n",
       "    </tr>\n",
       "    <tr>\n",
       "      <th>4</th>\n",
       "      <td>Role-Playing</td>\n",
       "      <td>101.44</td>\n",
       "      <td>0.110</td>\n",
       "    </tr>\n",
       "    <tr>\n",
       "      <th>5</th>\n",
       "      <td>Simulation</td>\n",
       "      <td>13.13</td>\n",
       "      <td>0.100</td>\n",
       "    </tr>\n",
       "    <tr>\n",
       "      <th>6</th>\n",
       "      <td>Action</td>\n",
       "      <td>199.36</td>\n",
       "      <td>0.090</td>\n",
       "    </tr>\n",
       "    <tr>\n",
       "      <th>7</th>\n",
       "      <td>Misc</td>\n",
       "      <td>37.55</td>\n",
       "      <td>0.090</td>\n",
       "    </tr>\n",
       "    <tr>\n",
       "      <th>8</th>\n",
       "      <td>Racing</td>\n",
       "      <td>27.52</td>\n",
       "      <td>0.090</td>\n",
       "    </tr>\n",
       "    <tr>\n",
       "      <th>9</th>\n",
       "      <td>Strategy</td>\n",
       "      <td>3.96</td>\n",
       "      <td>0.060</td>\n",
       "    </tr>\n",
       "  </tbody>\n",
       "</table>\n",
       "</div>"
      ],
      "text/plain": [
       "          genre         sum      median\n",
       "                total_sales total_sales\n",
       "0       Shooter      170.94       0.515\n",
       "1        Sports      109.48       0.180\n",
       "2      Platform       18.09       0.140\n",
       "3      Fighting       28.22       0.125\n",
       "4  Role-Playing      101.44       0.110\n",
       "5    Simulation       13.13       0.100\n",
       "6        Action      199.36       0.090\n",
       "7          Misc       37.55       0.090\n",
       "8        Racing       27.52       0.090\n",
       "9      Strategy        3.96       0.060"
      ]
     },
     "execution_count": 49,
     "metadata": {},
     "output_type": "execute_result"
    }
   ],
   "source": [
    "genres_pivot = games_upd.pivot_table(\n",
    "    values=\"total_sales\", index=\"genre\", aggfunc=['sum', 'median']\n",
    ").sort_values(by=('median', 'total_sales'), ascending=False).reset_index()\n",
    "genres_pivot.head(10)"
   ]
  },
  {
   "cell_type": "markdown",
   "metadata": {},
   "source": [
    "По общим продажам видно, что есть среди различных жанров есть явные лидеры. \n",
    "\n",
    ">- Самые высокие продажи у игр в жанре *Action*, где игроку предлагается контролировать героя или персонажа, который должен справиться с различными преградами, сражаться с врагами и достигнуть конечной цели. \n",
    ">- Вторым по популярности является жанр *Shooter*, где игроку предлагается сражаться с врагами, используя огнестрельное оружие. \n",
    ">- И на третьем месте игры в жанре *Sports* - игры по какому-либо из многочисленных видов спорта, будь то футбол или хоккей, боулинг или гольф, бокс или рестлинг. "
   ]
  },
  {
   "cell_type": "code",
   "execution_count": 50,
   "metadata": {},
   "outputs": [
    {
     "data": {
      "image/png": "[encoded data removed]",
      "text/plain": [
       "<Figure size 1440x432 with 1 Axes>"
      ]
     },
     "metadata": {
      "needs_background": "light"
     },
     "output_type": "display_data"
    }
   ],
   "source": [
    "# посмотрим на диаграмму размаха для популярных жанров\n",
    "plt.figure(figsize=(20, 6))\n",
    "sns.boxplot(y='total_sales', x='genre', data=games_upd)\n",
    "plt.title('«Ящик с усами» по жанрам')\n",
    "plt.grid(color=\"grey\", axis=\"both\", alpha=0.5)\n",
    "plt.xlabel(\"Жанр\")\n",
    "plt.ylabel(\"Продажи\")\n",
    "plt.ylim(0, 2)\n",
    "plt.show()"
   ]
  },
  {
   "cell_type": "markdown",
   "metadata": {},
   "source": [
    "\n",
    "Здесь мы можем сделать вывод, что несмотря на высокие суммарные продажи по некоторым жанрам, нельзя судить о их популярности в целом. Например, жанр экшен был самым прибыльным, но медиана продаж по этому жанру низкая, что говорит об отдельной игре, которая могла выстрелить. Таким образом, устойчивый спрос имеют жанры шутер, спортивные игры и платформер."
   ]
  },
  {
   "cell_type": "markdown",
   "metadata": {},
   "source": [
    "## Портрет пользователя каждого региона"
   ]
  },
  {
   "cell_type": "markdown",
   "metadata": {},
   "source": [
    "### Самые популярные платформы по регионам"
   ]
  },
  {
   "cell_type": "markdown",
   "metadata": {},
   "source": [
    "Посмотрим на самые популярные платформы в каждом регионе."
   ]
  },
  {
   "cell_type": "code",
   "execution_count": 51,
   "metadata": {},
   "outputs": [
    {
     "data": {
      "text/html": [
       "<div>\n",
       "<style scoped>\n",
       "    .dataframe tbody tr th:only-of-type {\n",
       "        vertical-align: middle;\n",
       "    }\n",
       "\n",
       "    .dataframe tbody tr th {\n",
       "        vertical-align: top;\n",
       "    }\n",
       "\n",
       "    .dataframe thead th {\n",
       "        text-align: right;\n",
       "    }\n",
       "</style>\n",
       "<table border=\"1\" class=\"dataframe\">\n",
       "  <thead>\n",
       "    <tr style=\"text-align: right;\">\n",
       "      <th></th>\n",
       "      <th>platform</th>\n",
       "      <th>na_sales</th>\n",
       "      <th>% sales</th>\n",
       "    </tr>\n",
       "  </thead>\n",
       "  <tbody>\n",
       "    <tr>\n",
       "      <th>0</th>\n",
       "      <td>PS4</td>\n",
       "      <td>98.61</td>\n",
       "      <td>34.714497</td>\n",
       "    </tr>\n",
       "    <tr>\n",
       "      <th>1</th>\n",
       "      <td>XOne</td>\n",
       "      <td>81.27</td>\n",
       "      <td>28.610153</td>\n",
       "    </tr>\n",
       "    <tr>\n",
       "      <th>2</th>\n",
       "      <td>X360</td>\n",
       "      <td>28.30</td>\n",
       "      <td>9.962684</td>\n",
       "    </tr>\n",
       "    <tr>\n",
       "      <th>3</th>\n",
       "      <td>3DS</td>\n",
       "      <td>22.64</td>\n",
       "      <td>7.970147</td>\n",
       "    </tr>\n",
       "    <tr>\n",
       "      <th>4</th>\n",
       "      <td>PS3</td>\n",
       "      <td>22.05</td>\n",
       "      <td>7.762445</td>\n",
       "    </tr>\n",
       "  </tbody>\n",
       "</table>\n",
       "</div>"
      ],
      "text/plain": [
       "  platform  na_sales    % sales\n",
       "0      PS4     98.61  34.714497\n",
       "1     XOne     81.27  28.610153\n",
       "2     X360     28.30   9.962684\n",
       "3      3DS     22.64   7.970147\n",
       "4      PS3     22.05   7.762445"
      ]
     },
     "execution_count": 51,
     "metadata": {},
     "output_type": "execute_result"
    }
   ],
   "source": [
    "# посмотрим на продажи по платформам в Северной Америке\n",
    "na_pivot = games_upd.pivot_table(\n",
    "    values=\"na_sales\", index=\"platform\", aggfunc=\"sum\"\n",
    ").sort_values(by='na_sales', ascending=False).reset_index()\n",
    "na_pivot['% sales'] = (na_pivot['na_sales']/na_pivot['na_sales'].sum())*100\n",
    "na_pivot.head()"
   ]
  },
  {
   "cell_type": "code",
   "execution_count": 52,
   "metadata": {},
   "outputs": [
    {
     "data": {
      "text/html": [
       "<div>\n",
       "<style scoped>\n",
       "    .dataframe tbody tr th:only-of-type {\n",
       "        vertical-align: middle;\n",
       "    }\n",
       "\n",
       "    .dataframe tbody tr th {\n",
       "        vertical-align: top;\n",
       "    }\n",
       "\n",
       "    .dataframe thead th {\n",
       "        text-align: right;\n",
       "    }\n",
       "</style>\n",
       "<table border=\"1\" class=\"dataframe\">\n",
       "  <thead>\n",
       "    <tr style=\"text-align: right;\">\n",
       "      <th></th>\n",
       "      <th>platform</th>\n",
       "      <th>eu_sales</th>\n",
       "      <th>% sales</th>\n",
       "    </tr>\n",
       "  </thead>\n",
       "  <tbody>\n",
       "    <tr>\n",
       "      <th>0</th>\n",
       "      <td>PS4</td>\n",
       "      <td>130.04</td>\n",
       "      <td>48.041968</td>\n",
       "    </tr>\n",
       "    <tr>\n",
       "      <th>1</th>\n",
       "      <td>XOne</td>\n",
       "      <td>46.25</td>\n",
       "      <td>17.086597</td>\n",
       "    </tr>\n",
       "    <tr>\n",
       "      <th>2</th>\n",
       "      <td>PS3</td>\n",
       "      <td>25.54</td>\n",
       "      <td>9.435496</td>\n",
       "    </tr>\n",
       "    <tr>\n",
       "      <th>3</th>\n",
       "      <td>PC</td>\n",
       "      <td>17.97</td>\n",
       "      <td>6.638836</td>\n",
       "    </tr>\n",
       "    <tr>\n",
       "      <th>4</th>\n",
       "      <td>3DS</td>\n",
       "      <td>16.12</td>\n",
       "      <td>5.955372</td>\n",
       "    </tr>\n",
       "  </tbody>\n",
       "</table>\n",
       "</div>"
      ],
      "text/plain": [
       "  platform  eu_sales    % sales\n",
       "0      PS4    130.04  48.041968\n",
       "1     XOne     46.25  17.086597\n",
       "2      PS3     25.54   9.435496\n",
       "3       PC     17.97   6.638836\n",
       "4      3DS     16.12   5.955372"
      ]
     },
     "execution_count": 52,
     "metadata": {},
     "output_type": "execute_result"
    }
   ],
   "source": [
    "# посмотрим на продажи по платформам в Европе\n",
    "eu_pivot = games_upd.pivot_table(\n",
    "    values=\"eu_sales\", index=\"platform\", aggfunc=\"sum\"\n",
    ").sort_values(by='eu_sales', ascending=False).reset_index()\n",
    "eu_pivot['% sales'] = (eu_pivot['eu_sales']/eu_pivot['eu_sales'].sum())*100\n",
    "eu_pivot.head()"
   ]
  },
  {
   "cell_type": "code",
   "execution_count": 53,
   "metadata": {},
   "outputs": [
    {
     "data": {
      "text/html": [
       "<div>\n",
       "<style scoped>\n",
       "    .dataframe tbody tr th:only-of-type {\n",
       "        vertical-align: middle;\n",
       "    }\n",
       "\n",
       "    .dataframe tbody tr th {\n",
       "        vertical-align: top;\n",
       "    }\n",
       "\n",
       "    .dataframe thead th {\n",
       "        text-align: right;\n",
       "    }\n",
       "</style>\n",
       "<table border=\"1\" class=\"dataframe\">\n",
       "  <thead>\n",
       "    <tr style=\"text-align: right;\">\n",
       "      <th></th>\n",
       "      <th>platform</th>\n",
       "      <th>jp_sales</th>\n",
       "      <th>% sales</th>\n",
       "    </tr>\n",
       "  </thead>\n",
       "  <tbody>\n",
       "    <tr>\n",
       "      <th>0</th>\n",
       "      <td>3DS</td>\n",
       "      <td>44.24</td>\n",
       "      <td>47.523902</td>\n",
       "    </tr>\n",
       "    <tr>\n",
       "      <th>1</th>\n",
       "      <td>PS4</td>\n",
       "      <td>15.02</td>\n",
       "      <td>16.134923</td>\n",
       "    </tr>\n",
       "    <tr>\n",
       "      <th>2</th>\n",
       "      <td>PSV</td>\n",
       "      <td>14.54</td>\n",
       "      <td>15.619293</td>\n",
       "    </tr>\n",
       "    <tr>\n",
       "      <th>3</th>\n",
       "      <td>PS3</td>\n",
       "      <td>11.22</td>\n",
       "      <td>12.052852</td>\n",
       "    </tr>\n",
       "    <tr>\n",
       "      <th>4</th>\n",
       "      <td>WiiU</td>\n",
       "      <td>7.31</td>\n",
       "      <td>7.852616</td>\n",
       "    </tr>\n",
       "  </tbody>\n",
       "</table>\n",
       "</div>"
      ],
      "text/plain": [
       "  platform  jp_sales    % sales\n",
       "0      3DS     44.24  47.523902\n",
       "1      PS4     15.02  16.134923\n",
       "2      PSV     14.54  15.619293\n",
       "3      PS3     11.22  12.052852\n",
       "4     WiiU      7.31   7.852616"
      ]
     },
     "execution_count": 53,
     "metadata": {},
     "output_type": "execute_result"
    }
   ],
   "source": [
    "# посмотрим на продажи по платформам в Японии\n",
    "jp_pivot = games_upd.pivot_table(\n",
    "    values=\"jp_sales\", index=\"platform\", aggfunc=\"sum\"\n",
    ").sort_values(by='jp_sales', ascending=False).reset_index()\n",
    "jp_pivot['% sales'] = (jp_pivot['jp_sales']/jp_pivot['jp_sales'].sum())*100\n",
    "jp_pivot.head()"
   ]
  },
  {
   "cell_type": "code",
   "execution_count": 54,
   "metadata": {},
   "outputs": [
    {
     "data": {
      "text/html": [
       "<div>\n",
       "<style scoped>\n",
       "    .dataframe tbody tr th:only-of-type {\n",
       "        vertical-align: middle;\n",
       "    }\n",
       "\n",
       "    .dataframe tbody tr th {\n",
       "        vertical-align: top;\n",
       "    }\n",
       "\n",
       "    .dataframe thead th {\n",
       "        text-align: right;\n",
       "    }\n",
       "</style>\n",
       "<table border=\"1\" class=\"dataframe\">\n",
       "  <thead>\n",
       "    <tr style=\"text-align: right;\">\n",
       "      <th></th>\n",
       "      <th>platform</th>\n",
       "      <th>jp_sales</th>\n",
       "      <th>% sales</th>\n",
       "    </tr>\n",
       "  </thead>\n",
       "  <tbody>\n",
       "    <tr>\n",
       "      <th>6</th>\n",
       "      <td>XOne</td>\n",
       "      <td>0.32</td>\n",
       "      <td>0.343753</td>\n",
       "    </tr>\n",
       "  </tbody>\n",
       "</table>\n",
       "</div>"
      ],
      "text/plain": [
       "  platform  jp_sales   % sales\n",
       "6     XOne      0.32  0.343753"
      ]
     },
     "execution_count": 54,
     "metadata": {},
     "output_type": "execute_result"
    }
   ],
   "source": [
    "jp_pivot[jp_pivot['platform'] == 'XOne']"
   ]
  },
  {
   "cell_type": "markdown",
   "metadata": {},
   "source": [
    "Таким образом, в Европе и Северной Америке за последние 3 года лидером среди игровых платформ является Sony PlayStation 4, в то время как в Японии эта консоль занимает только второе место. Cамой популярной в Японии является портативная Nintendo 3DS - на нее приходится почти половина всех продаж.\n",
    "\n",
    "В Европе и Северной Америке также популярной платформой является Xbox One. В Японии на ее долю приходится очень маленький процент продаж, что не дает возможности попасть в топ-5."
   ]
  },
  {
   "cell_type": "markdown",
   "metadata": {},
   "source": [
    "### Самые популярные жанры по регионам"
   ]
  },
  {
   "cell_type": "markdown",
   "metadata": {},
   "source": [
    "Посмотрим теперь, какие жанры популярны в каждом регионе."
   ]
  },
  {
   "cell_type": "code",
   "execution_count": 55,
   "metadata": {},
   "outputs": [
    {
     "data": {
      "text/html": [
       "<div>\n",
       "<style scoped>\n",
       "    .dataframe tbody tr th:only-of-type {\n",
       "        vertical-align: middle;\n",
       "    }\n",
       "\n",
       "    .dataframe tbody tr th {\n",
       "        vertical-align: top;\n",
       "    }\n",
       "\n",
       "    .dataframe thead th {\n",
       "        text-align: right;\n",
       "    }\n",
       "</style>\n",
       "<table border=\"1\" class=\"dataframe\">\n",
       "  <thead>\n",
       "    <tr style=\"text-align: right;\">\n",
       "      <th></th>\n",
       "      <th>genre</th>\n",
       "      <th>na_sales</th>\n",
       "      <th>% sales</th>\n",
       "    </tr>\n",
       "  </thead>\n",
       "  <tbody>\n",
       "    <tr>\n",
       "      <th>0</th>\n",
       "      <td>Shooter</td>\n",
       "      <td>79.02</td>\n",
       "      <td>27.818067</td>\n",
       "    </tr>\n",
       "    <tr>\n",
       "      <th>1</th>\n",
       "      <td>Action</td>\n",
       "      <td>72.53</td>\n",
       "      <td>25.533338</td>\n",
       "    </tr>\n",
       "    <tr>\n",
       "      <th>2</th>\n",
       "      <td>Sports</td>\n",
       "      <td>46.13</td>\n",
       "      <td>16.239527</td>\n",
       "    </tr>\n",
       "    <tr>\n",
       "      <th>3</th>\n",
       "      <td>Role-Playing</td>\n",
       "      <td>33.47</td>\n",
       "      <td>11.782722</td>\n",
       "    </tr>\n",
       "    <tr>\n",
       "      <th>4</th>\n",
       "      <td>Misc</td>\n",
       "      <td>15.05</td>\n",
       "      <td>5.298176</td>\n",
       "    </tr>\n",
       "  </tbody>\n",
       "</table>\n",
       "</div>"
      ],
      "text/plain": [
       "          genre  na_sales    % sales\n",
       "0       Shooter     79.02  27.818067\n",
       "1        Action     72.53  25.533338\n",
       "2        Sports     46.13  16.239527\n",
       "3  Role-Playing     33.47  11.782722\n",
       "4          Misc     15.05   5.298176"
      ]
     },
     "execution_count": 55,
     "metadata": {},
     "output_type": "execute_result"
    }
   ],
   "source": [
    "# посмотрим на самые популярные жанры в Северной Америке\n",
    "na_genres = games_upd.pivot_table(\n",
    "    values=\"na_sales\", index=\"genre\", aggfunc=\"sum\"\n",
    ").sort_values(by='na_sales', ascending=False).reset_index()\n",
    "na_genres['% sales'] = (na_genres['na_sales']/na_genres['na_sales'].sum())*100\n",
    "na_genres.head()"
   ]
  },
  {
   "cell_type": "code",
   "execution_count": 56,
   "metadata": {},
   "outputs": [
    {
     "data": {
      "text/html": [
       "<div>\n",
       "<style scoped>\n",
       "    .dataframe tbody tr th:only-of-type {\n",
       "        vertical-align: middle;\n",
       "    }\n",
       "\n",
       "    .dataframe tbody tr th {\n",
       "        vertical-align: top;\n",
       "    }\n",
       "\n",
       "    .dataframe thead th {\n",
       "        text-align: right;\n",
       "    }\n",
       "</style>\n",
       "<table border=\"1\" class=\"dataframe\">\n",
       "  <thead>\n",
       "    <tr style=\"text-align: right;\">\n",
       "      <th></th>\n",
       "      <th>genre</th>\n",
       "      <th>na_sales</th>\n",
       "      <th>% sales</th>\n",
       "    </tr>\n",
       "  </thead>\n",
       "  <tbody>\n",
       "    <tr>\n",
       "      <th>5</th>\n",
       "      <td>Fighting</td>\n",
       "      <td>12.43</td>\n",
       "      <td>4.375836</td>\n",
       "    </tr>\n",
       "  </tbody>\n",
       "</table>\n",
       "</div>"
      ],
      "text/plain": [
       "      genre  na_sales   % sales\n",
       "5  Fighting     12.43  4.375836"
      ]
     },
     "execution_count": 56,
     "metadata": {},
     "output_type": "execute_result"
    }
   ],
   "source": [
    "na_genres[na_genres['genre'] == 'Fighting']"
   ]
  },
  {
   "cell_type": "code",
   "execution_count": 57,
   "metadata": {},
   "outputs": [
    {
     "data": {
      "text/html": [
       "<div>\n",
       "<style scoped>\n",
       "    .dataframe tbody tr th:only-of-type {\n",
       "        vertical-align: middle;\n",
       "    }\n",
       "\n",
       "    .dataframe tbody tr th {\n",
       "        vertical-align: top;\n",
       "    }\n",
       "\n",
       "    .dataframe thead th {\n",
       "        text-align: right;\n",
       "    }\n",
       "</style>\n",
       "<table border=\"1\" class=\"dataframe\">\n",
       "  <thead>\n",
       "    <tr style=\"text-align: right;\">\n",
       "      <th></th>\n",
       "      <th>genre</th>\n",
       "      <th>eu_sales</th>\n",
       "      <th>% sales</th>\n",
       "    </tr>\n",
       "  </thead>\n",
       "  <tbody>\n",
       "    <tr>\n",
       "      <th>0</th>\n",
       "      <td>Action</td>\n",
       "      <td>74.68</td>\n",
       "      <td>27.589774</td>\n",
       "    </tr>\n",
       "    <tr>\n",
       "      <th>1</th>\n",
       "      <td>Shooter</td>\n",
       "      <td>65.52</td>\n",
       "      <td>24.205704</td>\n",
       "    </tr>\n",
       "    <tr>\n",
       "      <th>2</th>\n",
       "      <td>Sports</td>\n",
       "      <td>45.73</td>\n",
       "      <td>16.894488</td>\n",
       "    </tr>\n",
       "    <tr>\n",
       "      <th>3</th>\n",
       "      <td>Role-Playing</td>\n",
       "      <td>28.17</td>\n",
       "      <td>10.407123</td>\n",
       "    </tr>\n",
       "    <tr>\n",
       "      <th>4</th>\n",
       "      <td>Racing</td>\n",
       "      <td>14.13</td>\n",
       "      <td>5.220186</td>\n",
       "    </tr>\n",
       "  </tbody>\n",
       "</table>\n",
       "</div>"
      ],
      "text/plain": [
       "          genre  eu_sales    % sales\n",
       "0        Action     74.68  27.589774\n",
       "1       Shooter     65.52  24.205704\n",
       "2        Sports     45.73  16.894488\n",
       "3  Role-Playing     28.17  10.407123\n",
       "4        Racing     14.13   5.220186"
      ]
     },
     "execution_count": 57,
     "metadata": {},
     "output_type": "execute_result"
    }
   ],
   "source": [
    "# посмотрим на самые популярные жанры в Европе\n",
    "eu_genres = games_upd.pivot_table(\n",
    "    values=\"eu_sales\", index=\"genre\", aggfunc=\"sum\"\n",
    ").sort_values(by='eu_sales', ascending=False).reset_index()\n",
    "eu_genres['% sales'] = (eu_genres['eu_sales']/eu_genres['eu_sales'].sum())*100\n",
    "eu_genres.head()"
   ]
  },
  {
   "cell_type": "code",
   "execution_count": 58,
   "metadata": {},
   "outputs": [
    {
     "data": {
      "text/html": [
       "<div>\n",
       "<style scoped>\n",
       "    .dataframe tbody tr th:only-of-type {\n",
       "        vertical-align: middle;\n",
       "    }\n",
       "\n",
       "    .dataframe tbody tr th {\n",
       "        vertical-align: top;\n",
       "    }\n",
       "\n",
       "    .dataframe thead th {\n",
       "        text-align: right;\n",
       "    }\n",
       "</style>\n",
       "<table border=\"1\" class=\"dataframe\">\n",
       "  <thead>\n",
       "    <tr style=\"text-align: right;\">\n",
       "      <th></th>\n",
       "      <th>genre</th>\n",
       "      <th>eu_sales</th>\n",
       "      <th>% sales</th>\n",
       "    </tr>\n",
       "  </thead>\n",
       "  <tbody>\n",
       "    <tr>\n",
       "      <th>8</th>\n",
       "      <td>Fighting</td>\n",
       "      <td>6.69</td>\n",
       "      <td>2.471553</td>\n",
       "    </tr>\n",
       "  </tbody>\n",
       "</table>\n",
       "</div>"
      ],
      "text/plain": [
       "      genre  eu_sales   % sales\n",
       "8  Fighting      6.69  2.471553"
      ]
     },
     "execution_count": 58,
     "metadata": {},
     "output_type": "execute_result"
    }
   ],
   "source": [
    "eu_genres[eu_genres['genre'] == 'Fighting']"
   ]
  },
  {
   "cell_type": "code",
   "execution_count": 59,
   "metadata": {},
   "outputs": [
    {
     "data": {
      "text/html": [
       "<div>\n",
       "<style scoped>\n",
       "    .dataframe tbody tr th:only-of-type {\n",
       "        vertical-align: middle;\n",
       "    }\n",
       "\n",
       "    .dataframe tbody tr th {\n",
       "        vertical-align: top;\n",
       "    }\n",
       "\n",
       "    .dataframe thead th {\n",
       "        text-align: right;\n",
       "    }\n",
       "</style>\n",
       "<table border=\"1\" class=\"dataframe\">\n",
       "  <thead>\n",
       "    <tr style=\"text-align: right;\">\n",
       "      <th></th>\n",
       "      <th>genre</th>\n",
       "      <th>jp_sales</th>\n",
       "      <th>% sales</th>\n",
       "    </tr>\n",
       "  </thead>\n",
       "  <tbody>\n",
       "    <tr>\n",
       "      <th>0</th>\n",
       "      <td>Role-Playing</td>\n",
       "      <td>31.16</td>\n",
       "      <td>33.472983</td>\n",
       "    </tr>\n",
       "    <tr>\n",
       "      <th>1</th>\n",
       "      <td>Action</td>\n",
       "      <td>29.58</td>\n",
       "      <td>31.775701</td>\n",
       "    </tr>\n",
       "    <tr>\n",
       "      <th>2</th>\n",
       "      <td>Fighting</td>\n",
       "      <td>6.37</td>\n",
       "      <td>6.842840</td>\n",
       "    </tr>\n",
       "    <tr>\n",
       "      <th>3</th>\n",
       "      <td>Misc</td>\n",
       "      <td>5.61</td>\n",
       "      <td>6.026426</td>\n",
       "    </tr>\n",
       "    <tr>\n",
       "      <th>4</th>\n",
       "      <td>Shooter</td>\n",
       "      <td>4.87</td>\n",
       "      <td>5.231496</td>\n",
       "    </tr>\n",
       "  </tbody>\n",
       "</table>\n",
       "</div>"
      ],
      "text/plain": [
       "          genre  jp_sales    % sales\n",
       "0  Role-Playing     31.16  33.472983\n",
       "1        Action     29.58  31.775701\n",
       "2      Fighting      6.37   6.842840\n",
       "3          Misc      5.61   6.026426\n",
       "4       Shooter      4.87   5.231496"
      ]
     },
     "execution_count": 59,
     "metadata": {},
     "output_type": "execute_result"
    }
   ],
   "source": [
    "# посмотрим на самые популярные жанры в Японии\n",
    "jp_genres = games_upd.pivot_table(\n",
    "    values=\"jp_sales\", index=\"genre\", aggfunc=\"sum\"\n",
    ").sort_values(by='jp_sales', ascending=False).reset_index()\n",
    "jp_genres['% sales'] = (jp_genres['jp_sales']/jp_genres['jp_sales'].sum())*100\n",
    "jp_genres.head()"
   ]
  },
  {
   "cell_type": "code",
   "execution_count": 60,
   "metadata": {},
   "outputs": [
    {
     "data": {
      "image/png": "[encoded data removed]",
      "text/plain": [
       "<Figure size 1080x360 with 3 Axes>"
      ]
     },
     "metadata": {},
     "output_type": "display_data"
    },
    {
     "data": {
      "image/png": "[encoded data removed]",
      "text/plain": [
       "<Figure size 1080x360 with 3 Axes>"
      ]
     },
     "metadata": {},
     "output_type": "display_data"
    },
    {
     "data": {
      "image/png": "[encoded data removed]",
      "text/plain": [
       "<Figure size 1080x360 with 3 Axes>"
      ]
     },
     "metadata": {},
     "output_type": "display_data"
    }
   ],
   "source": [
    "tmp = games_upd.copy()                    # делаем копию текущего датасета, что бы не работать с исходным    \n",
    "parametr = 'platform'                     # задаем имя колонки для построения диаграмм\n",
    "\n",
    "def pie_chart(df, parametr = 'platform'): # в функцию передаем датасет и имя колонки платформ/жанров/рейтинга\n",
    "    region = df.columns[4:7]              # создаем список регионов из названий колонок\n",
    "                                          # начертим круговую диаграмму для каждого региона\n",
    "    fig, axs = plt.subplots(1, 3, figsize=(15, 5))\n",
    "    if parametr == 'platform':            # будем рисовать диаграммы по платформам\n",
    "        fig.suptitle('ТОП-5 платформ в регионах')\n",
    "    elif parametr == 'genre':             # будем рисовать диаграммы по жанрам\n",
    "        fig.suptitle('ТОП-5 жанров в регионах')\n",
    "    elif parametr == 'rating':            # будем рисовать диаграммы по возрастному рейтингу\n",
    "        fig.suptitle('Влияние рейтинга ESRB на продажи в регионах')\n",
    "    for r in range(len(region)):\n",
    "      if parametr != 'rating':            # здесь будет формировать топ-5 и группу \"другие\"\n",
    "                                          # выберем 5 самых продающих платформ/жанров\n",
    "        df_r = (df.groupby(parametr)[region[r]].sum().reset_index().\n",
    "                sort_values(region[r], ascending = False, ignore_index = True)[:5])\n",
    "                                          # занесем все остальные продажи в другие палатформы/жанры\n",
    "        df_r = df_r.append({parametr: 'Other', region[r]: df[region[r]].sum() - df_r[region[r]].sum()}, ignore_index= True)\n",
    "      else:                               # в возрастном рейтинге строим диаграммы по всем значениям\n",
    "        df_r = (df.groupby(parametr)[region[r]].sum().reset_index().\n",
    "                sort_values(region[r], ascending = False, ignore_index = True))\n",
    "        \n",
    "      axs[r].pie(df_r[region[r]], labels = df_r[parametr], autopct='%1.1f%%')\n",
    "                                          # зададим название региона.\n",
    "      axs[r].set_title(df_r.columns[1].split('_')[0].upper())\n",
    "    plt.show()\n",
    "    \n",
    "pie_chart(tmp, parametr)                  # выводим диаграмму\n",
    "pie_chart(tmp, 'genre')   \n",
    "pie_chart(tmp, 'rating')   "
   ]
  },
  {
   "cell_type": "markdown",
   "metadata": {},
   "source": [
    "В популярности жанров мы также видим значимые различия между рынками Северной Америки & Европы и рынком Японии. \n",
    "\n",
    "Если тройка лидеров в Северной Америке и Европе совпадает, разница лишь в незначительных расхождениях между жанрами Shooter и Action, которые занимают 1 и 2 место. То в Японии мы видим в первой тройке уже другие жанры, которые здесь наиболее популярны. Первое и второе место делят Role-Playing и Action, а на третьем месте Fighting, который имеет более низкие продажи в Северной Америке и Европе - меньше 5%."
   ]
  },
  {
   "cell_type": "markdown",
   "metadata": {},
   "source": [
    "### Влияние рейтинга ESRB на продажи в отдельном регионе"
   ]
  },
  {
   "cell_type": "markdown",
   "metadata": {},
   "source": [
    "Посмотрим, влияет ли рейтинг ESRB на продажи в отдельном регионе."
   ]
  },
  {
   "cell_type": "code",
   "execution_count": 61,
   "metadata": {},
   "outputs": [
    {
     "data": {
      "text/html": [
       "<div>\n",
       "<style scoped>\n",
       "    .dataframe tbody tr th:only-of-type {\n",
       "        vertical-align: middle;\n",
       "    }\n",
       "\n",
       "    .dataframe tbody tr th {\n",
       "        vertical-align: top;\n",
       "    }\n",
       "\n",
       "    .dataframe thead th {\n",
       "        text-align: right;\n",
       "    }\n",
       "</style>\n",
       "<table border=\"1\" class=\"dataframe\">\n",
       "  <thead>\n",
       "    <tr style=\"text-align: right;\">\n",
       "      <th></th>\n",
       "      <th>na_sales</th>\n",
       "      <th>eu_sales</th>\n",
       "      <th>jp_sales</th>\n",
       "    </tr>\n",
       "    <tr>\n",
       "      <th>rating</th>\n",
       "      <th></th>\n",
       "      <th></th>\n",
       "      <th></th>\n",
       "    </tr>\n",
       "  </thead>\n",
       "  <tbody>\n",
       "    <tr>\n",
       "      <th>M</th>\n",
       "      <td>0.339435</td>\n",
       "      <td>0.345205</td>\n",
       "      <td>0.086046</td>\n",
       "    </tr>\n",
       "    <tr>\n",
       "      <th>No</th>\n",
       "      <td>0.227839</td>\n",
       "      <td>0.217785</td>\n",
       "      <td>0.611236</td>\n",
       "    </tr>\n",
       "    <tr>\n",
       "      <th>E</th>\n",
       "      <td>0.178624</td>\n",
       "      <td>0.214497</td>\n",
       "      <td>0.096036</td>\n",
       "    </tr>\n",
       "    <tr>\n",
       "      <th>T</th>\n",
       "      <td>0.137119</td>\n",
       "      <td>0.125868</td>\n",
       "      <td>0.158771</td>\n",
       "    </tr>\n",
       "    <tr>\n",
       "      <th>E10+</th>\n",
       "      <td>0.116982</td>\n",
       "      <td>0.096645</td>\n",
       "      <td>0.047911</td>\n",
       "    </tr>\n",
       "  </tbody>\n",
       "</table>\n",
       "</div>"
      ],
      "text/plain": [
       "        na_sales  eu_sales  jp_sales\n",
       "rating                              \n",
       "M       0.339435  0.345205  0.086046\n",
       "No      0.227839  0.217785  0.611236\n",
       "E       0.178624  0.214497  0.096036\n",
       "T       0.137119  0.125868  0.158771\n",
       "E10+    0.116982  0.096645  0.047911"
      ]
     },
     "execution_count": 61,
     "metadata": {},
     "output_type": "execute_result"
    }
   ],
   "source": [
    "rating_stat = (games_upd\n",
    "                .groupby('rating').sum()\n",
    "                .sort_values('total_sales', ascending=False)\n",
    "                [['na_sales', 'eu_sales', 'jp_sales']])\n",
    "rating_stat /= rating_stat.sum()\n",
    "rating_stat"
   ]
  },
  {
   "cell_type": "markdown",
   "metadata": {},
   "source": [
    "Мы видим, что в Северной Америке и Европе самыми популярными играми является игры для взрослой аудитории от 17 лет и старше - рейтинг *М (Mature)* ESRB. В Японии лидируют игры для подростков от 13 лет - рейтинг *Т (Teen)*. Второе место на всех рынках у игр для всех возрастов, то есть *Е (Everyone)*."
   ]
  },
  {
   "cell_type": "markdown",
   "metadata": {},
   "source": [
    "Видим, что в Японии больше 60% не имеют рейтинга, а на рынках Северной Америки и Европы игр без рейтинга ESRB - около 20%."
   ]
  },
  {
   "cell_type": "code",
   "execution_count": 62,
   "metadata": {},
   "outputs": [
    {
     "name": "stdout",
     "output_type": "stream",
     "text": [
      "0 0.0\n"
     ]
    },
    {
     "data": {
      "text/plain": [
       "No      749\n",
       "T       271\n",
       "M       265\n",
       "E       219\n",
       "E10+    185\n",
       "Name: rating, dtype: int64"
      ]
     },
     "execution_count": 62,
     "metadata": {},
     "output_type": "execute_result"
    }
   ],
   "source": [
    "temp = games_upd.copy()\n",
    "print(temp.rating.isna().sum(), temp.rating.isna().sum()/len(temp))\n",
    "temp.rating.value_counts(dropna=False)"
   ]
  },
  {
   "cell_type": "markdown",
   "metadata": {},
   "source": [
    "Итак, какой портрет можно составить для пользователя каждого региона.\n",
    "\n",
    "\n",
    "Северная Америка:\n",
    "- взрослый человек от 17 лет и старше, преимущественно играющий на консоли PS4 в стрелялки.\n",
    "\n",
    "Европа:\n",
    "- также взрослый человек от 17 лет и старше, также играющий на PS4, но в экшен.\n",
    "\n",
    "Япония:\n",
    "- подросток от 13 лет с портативной приставкой 3DS, который предпочитает ролевую игру, где физические действия игрока рассматриваются как действия персонажа.\n"
   ]
  },
  {
   "cell_type": "markdown",
   "metadata": {},
   "source": [
    "## Проверка гипотез"
   ]
  },
  {
   "cell_type": "markdown",
   "metadata": {},
   "source": [
    "Проверим гипотезу о том, что средние пользовательские рейтинги платформ Xbox One и PC одинаковые.\n",
    "\n",
    "*Нулевая гипотеза H0*: Средний рейтинг пользователей платформ Xbox One и PC одинаковый. \n",
    "*Альтернативная гипотеза H1*: Средний рейтинг пользователей платформ Xbox One и PC разный."
   ]
  },
  {
   "cell_type": "code",
   "execution_count": 63,
   "metadata": {
    "scrolled": true
   },
   "outputs": [
    {
     "name": "stdout",
     "output_type": "stream",
     "text": [
      "p-value: nan\n",
      "Не получилось отвергнуть нулевую гипотезу\n"
     ]
    }
   ],
   "source": [
    "# проведем статистический тест\n",
    "pc_data = games_upd[games_upd['platform'] == 'PC']\n",
    "\n",
    "alpha = 0.05  # уровень статистической значимости\n",
    "# если p-value окажется меньше него, отвергнем гипотезу\n",
    "\n",
    "results = st.ttest_ind(xone_data['user_score'], pc_data['user_score'])\n",
    "\n",
    "print(\"p-value:\", results.pvalue)\n",
    "\n",
    "if results.pvalue < alpha:\n",
    "    print(\"Отвергаем нулевую гипотезу\")\n",
    "else:\n",
    "    print(\"Не получилось отвергнуть нулевую гипотезу\")"
   ]
  },
  {
   "cell_type": "markdown",
   "metadata": {},
   "source": [
    "В выборках есть пропуски, очистим данные от пропусков и повторим тест."
   ]
  },
  {
   "cell_type": "code",
   "execution_count": 64,
   "metadata": {},
   "outputs": [
    {
     "name": "stdout",
     "output_type": "stream",
     "text": [
      "p-value: 0.10450507919348415\n",
      "Средний рейтинг пользователей XOne: 6.594545454545456\n",
      "Средний рейтинг пользователей PC: 6.298360655737705\n",
      "Не получилось отвергнуть нулевую гипотезу\n"
     ]
    }
   ],
   "source": [
    "xone_data = xone_data.dropna(subset=['user_score'])\n",
    "pc_data = pc_data.dropna(subset=['user_score'])\n",
    "\n",
    "alpha = 0.05  # уровень статистической значимости\n",
    "# если p-value окажется меньше него, отвергнем гипотезу\n",
    "\n",
    "results = st.ttest_ind(xone_data['user_score'], pc_data['user_score'])\n",
    "\n",
    "print(\"p-value:\", results.pvalue)\n",
    "print(\"Средний рейтинг пользователей XOne:\", xone_data['user_score'].mean())\n",
    "print(\"Средний рейтинг пользователей PC:\", pc_data['user_score'].mean())\n",
    "\n",
    "if results.pvalue < alpha:\n",
    "    print(\"Отвергаем нулевую гипотезу\")\n",
    "else:\n",
    "    print(\"Не получилось отвергнуть нулевую гипотезу\")"
   ]
  },
  {
   "cell_type": "markdown",
   "metadata": {},
   "source": [
    "На имеющихся данных, на уровне значимости 5% нет оснований отвергнуть нулевую гипотезу о том, что средний рейтинги пользователей платформ Xbox One и PC одинаковы."
   ]
  },
  {
   "cell_type": "markdown",
   "metadata": {},
   "source": [
    "Проверим другую гипотезу о том, что средние пользовательские рейтинги жанров Action и Sports разные.\n",
    "\n",
    "*H0*: Средние рейтинги пользователей жанров Action и Sports одинаковые. \n",
    "*H1*: Средние рейтинги пользователей жанров Action и Sports разные."
   ]
  },
  {
   "cell_type": "code",
   "execution_count": 65,
   "metadata": {},
   "outputs": [
    {
     "name": "stdout",
     "output_type": "stream",
     "text": [
      "p-value: 2.8711147985105864e-19\n",
      "Средний рейтинг пользователей жанров Action: 6.760606060606061\n",
      "Средний рейтинг пользователей жанров Sports: 5.2251968503937\n",
      "Отвергаем нулевую гипотезу\n"
     ]
    }
   ],
   "source": [
    "action = games_upd[games_upd['genre'] == 'Action'].dropna(subset=['user_score'])\n",
    "sports = games_upd[games_upd['genre'] == 'Sports'].dropna(subset=['user_score'])\n",
    "\n",
    "alpha = 0.05  # уровень статистической значимости\n",
    "# если p-value окажется меньше него, отвергнем гипотезу\n",
    "\n",
    "results = st.ttest_ind(action['user_score'], sports['user_score'])\n",
    "\n",
    "print(\"p-value:\", results.pvalue)\n",
    "print(\"Средний рейтинг пользователей жанров Action:\", action['user_score'].mean())\n",
    "print(\"Средний рейтинг пользователей жанров Sports:\", sports['user_score'].mean())\n",
    "\n",
    "if results.pvalue < alpha:\n",
    "    print(\"Отвергаем нулевую гипотезу\")\n",
    "else:\n",
    "    print(\"Не получилось отвергнуть нулевую гипотезу\")"
   ]
  },
  {
   "cell_type": "markdown",
   "metadata": {},
   "source": [
    "\n",
    "На имеющихся данных, на уровне значимости 5% есть основания отвергнуть нулевую гипотезу о том, что средние рейтинги пользователей жанров Action и Sports одинаковые. Средние рейтинги пользователей жанров Action и Sports достаточно разные.\n"
   ]
  },
  {
   "cell_type": "markdown",
   "metadata": {},
   "source": [
    "## Выводы"
   ]
  },
  {
   "cell_type": "markdown",
   "metadata": {},
   "source": [
    "Итак, что удалось сделать в результате проделанной работы:\n",
    "\n",
    "- проверили данные на наличие пропусков, преобразовали форматы данных, названия столбцов привели к нижнему регистру, заменили значения, которые мешают проведению операций;\n",
    "- проанализировали данные по годам и пришли к выводу, что последние 3 года являются наиболее подходящими для анализа;\n",
    "- посчитали глобальные продажи по платформам и определили лидеров - это платформы PS4, XOne и 3DS;\n",
    "- посмотрели, как влияют на продажи внутри платформы PS4 отзывы пользователей и критиков, и выяснили, что увеличение оценки критиков может сопровождаться ростом продаж, но так бывает не всегда, а связи между отзывыми пользователей и продажами вовсе нет;\n",
    "- посмотрели на общее распределение игр по жанрам и определили, что самыми популярными являются экшен, шутер и спортивные;\n",
    "- составили общий портрет пользователя для каждого региона:\n",
    "    -   *для Северной Америки* - взрослый человек от 17 лет и старше, преимущественно играющий на консоли PS4 в стрелялки,\n",
    "    - *для Европы* - также взрослый человек от 17 лет и старше, также играющий на PS4, но в экшен,\n",
    "    - *для Японии* - подросток от 13 лет с портативной приставкой 3DS, который предпочитает ролевую игру, где физические действия игрока рассматриваются как действия персонажа;\n",
    "- проверили пару гипотез и пришли к выводу, что средние рейтинги пользователей платформ Xbox One и PC совпадают, в то время средние пользовательские рейтинги жанров Action и Sports разные, то есть, вероятно, средний рейтинг пользователей более чувствителен к жанру игры, нежели к приставке.\n",
    "\n",
    "\n",
    "Таким образом, из определяющих факторов в первую очередь стоит назвать рынок, на котором планируется запуск. Ему подчиняются жанр, платформа и целевая аудитория, которая определит успех продукта."
   ]
  }
 ],
 "metadata": {
  "ExecuteTimeLog": [
   {
    "duration": 48,
    "start_time": "2024-08-27T13:50:33.326Z"
   },
   {
    "duration": 413,
    "start_time": "2024-08-27T13:50:39.218Z"
   },
   {
    "duration": 207,
    "start_time": "2024-08-27T13:50:39.633Z"
   },
   {
    "duration": 22,
    "start_time": "2024-08-27T13:50:39.842Z"
   },
   {
    "duration": 428,
    "start_time": "2024-08-27T13:52:53.591Z"
   },
   {
    "duration": 57,
    "start_time": "2024-08-27T13:52:54.021Z"
   },
   {
    "duration": 20,
    "start_time": "2024-08-27T13:52:54.079Z"
   },
   {
    "duration": 16,
    "start_time": "2024-08-27T13:53:46.073Z"
   },
   {
    "duration": 600,
    "start_time": "2024-08-27T14:07:53.490Z"
   },
   {
    "duration": 8,
    "start_time": "2024-08-27T14:09:28.247Z"
   },
   {
    "duration": 887,
    "start_time": "2024-08-27T14:09:48.566Z"
   },
   {
    "duration": 985,
    "start_time": "2024-08-27T14:12:59.097Z"
   },
   {
    "duration": 900,
    "start_time": "2024-08-27T14:14:07.266Z"
   },
   {
    "duration": 385,
    "start_time": "2024-08-27T14:14:22.381Z"
   },
   {
    "duration": 57,
    "start_time": "2024-08-27T14:14:22.768Z"
   },
   {
    "duration": 21,
    "start_time": "2024-08-27T14:14:22.827Z"
   },
   {
    "duration": 66,
    "start_time": "2024-08-27T14:14:22.850Z"
   },
   {
    "duration": 995,
    "start_time": "2024-08-27T14:14:22.918Z"
   },
   {
    "duration": 0,
    "start_time": "2024-08-27T14:14:23.916Z"
   },
   {
    "duration": 16,
    "start_time": "2024-08-27T14:14:55.062Z"
   },
   {
    "duration": 9,
    "start_time": "2024-08-27T14:17:33.798Z"
   },
   {
    "duration": 7,
    "start_time": "2024-08-27T14:17:56.447Z"
   },
   {
    "duration": 20,
    "start_time": "2024-08-27T14:20:14.202Z"
   },
   {
    "duration": 480,
    "start_time": "2024-08-27T14:23:25.036Z"
   },
   {
    "duration": 12,
    "start_time": "2024-08-27T14:29:43.082Z"
   },
   {
    "duration": 5,
    "start_time": "2024-08-27T14:32:40.789Z"
   },
   {
    "duration": 49,
    "start_time": "2024-08-27T14:32:43.764Z"
   },
   {
    "duration": 438,
    "start_time": "2024-08-27T14:33:10.627Z"
   },
   {
    "duration": 56,
    "start_time": "2024-08-27T14:33:11.067Z"
   },
   {
    "duration": 19,
    "start_time": "2024-08-27T14:33:11.125Z"
   },
   {
    "duration": 14,
    "start_time": "2024-08-27T14:33:11.145Z"
   },
   {
    "duration": 4,
    "start_time": "2024-08-27T14:33:11.161Z"
   },
   {
    "duration": 24,
    "start_time": "2024-08-27T14:33:11.167Z"
   },
   {
    "duration": 14,
    "start_time": "2024-08-27T14:33:34.334Z"
   },
   {
    "duration": 46,
    "start_time": "2024-08-27T14:34:39.938Z"
   },
   {
    "duration": 384,
    "start_time": "2024-08-27T14:34:44.984Z"
   },
   {
    "duration": 59,
    "start_time": "2024-08-27T14:34:45.370Z"
   },
   {
    "duration": 21,
    "start_time": "2024-08-27T14:34:45.430Z"
   },
   {
    "duration": 43,
    "start_time": "2024-08-27T14:34:45.453Z"
   },
   {
    "duration": 8,
    "start_time": "2024-08-27T14:34:45.498Z"
   },
   {
    "duration": 33,
    "start_time": "2024-08-27T14:34:45.508Z"
   },
   {
    "duration": 14,
    "start_time": "2024-08-27T14:34:51.864Z"
   },
   {
    "duration": 430,
    "start_time": "2024-08-27T14:36:03.132Z"
   },
   {
    "duration": 58,
    "start_time": "2024-08-27T14:36:03.565Z"
   },
   {
    "duration": 21,
    "start_time": "2024-08-27T14:36:03.624Z"
   },
   {
    "duration": 17,
    "start_time": "2024-08-27T14:36:03.646Z"
   },
   {
    "duration": 5,
    "start_time": "2024-08-27T14:36:03.665Z"
   },
   {
    "duration": 30,
    "start_time": "2024-08-27T14:36:03.671Z"
   },
   {
    "duration": 72,
    "start_time": "2024-08-27T14:36:03.702Z"
   },
   {
    "duration": 382,
    "start_time": "2024-08-27T14:36:52.883Z"
   },
   {
    "duration": 55,
    "start_time": "2024-08-27T14:36:53.266Z"
   },
   {
    "duration": 20,
    "start_time": "2024-08-27T14:36:53.323Z"
   },
   {
    "duration": 14,
    "start_time": "2024-08-27T14:36:53.344Z"
   },
   {
    "duration": 5,
    "start_time": "2024-08-27T14:36:53.360Z"
   },
   {
    "duration": 25,
    "start_time": "2024-08-27T14:36:53.366Z"
   },
   {
    "duration": 13,
    "start_time": "2024-08-27T14:36:53.392Z"
   },
   {
    "duration": 5,
    "start_time": "2024-08-27T14:36:53.406Z"
   },
   {
    "duration": 41,
    "start_time": "2024-08-27T14:36:53.412Z"
   },
   {
    "duration": 384,
    "start_time": "2024-08-27T14:37:23.807Z"
   },
   {
    "duration": 57,
    "start_time": "2024-08-27T14:37:24.193Z"
   },
   {
    "duration": 21,
    "start_time": "2024-08-27T14:37:24.252Z"
   },
   {
    "duration": 17,
    "start_time": "2024-08-27T14:37:24.274Z"
   },
   {
    "duration": 5,
    "start_time": "2024-08-27T14:37:24.293Z"
   },
   {
    "duration": 59,
    "start_time": "2024-08-27T14:37:24.300Z"
   },
   {
    "duration": 20,
    "start_time": "2024-08-27T14:37:24.361Z"
   },
   {
    "duration": 5,
    "start_time": "2024-08-27T14:41:30.591Z"
   },
   {
    "duration": 66,
    "start_time": "2024-08-27T14:48:43.719Z"
   },
   {
    "duration": 14,
    "start_time": "2024-08-27T14:48:54.203Z"
   },
   {
    "duration": 433,
    "start_time": "2024-08-27T14:49:04.029Z"
   },
   {
    "duration": 58,
    "start_time": "2024-08-27T14:49:04.464Z"
   },
   {
    "duration": 21,
    "start_time": "2024-08-27T14:49:04.523Z"
   },
   {
    "duration": 16,
    "start_time": "2024-08-27T14:49:04.546Z"
   },
   {
    "duration": 16,
    "start_time": "2024-08-27T14:49:04.564Z"
   },
   {
    "duration": 976,
    "start_time": "2024-08-27T14:49:04.581Z"
   },
   {
    "duration": 0,
    "start_time": "2024-08-27T14:49:05.558Z"
   },
   {
    "duration": 0,
    "start_time": "2024-08-27T14:49:05.559Z"
   },
   {
    "duration": 0,
    "start_time": "2024-08-27T14:49:05.560Z"
   },
   {
    "duration": 68,
    "start_time": "2024-08-27T14:49:29.123Z"
   },
   {
    "duration": 67,
    "start_time": "2024-08-27T14:49:36.985Z"
   },
   {
    "duration": 68,
    "start_time": "2024-08-27T14:49:40.199Z"
   },
   {
    "duration": 434,
    "start_time": "2024-08-27T14:49:49.626Z"
   },
   {
    "duration": 57,
    "start_time": "2024-08-27T14:49:50.061Z"
   },
   {
    "duration": 20,
    "start_time": "2024-08-27T14:49:50.120Z"
   },
   {
    "duration": 19,
    "start_time": "2024-08-27T14:49:50.143Z"
   },
   {
    "duration": 14,
    "start_time": "2024-08-27T14:49:50.164Z"
   },
   {
    "duration": 70,
    "start_time": "2024-08-27T14:49:50.180Z"
   },
   {
    "duration": 0,
    "start_time": "2024-08-27T14:49:50.251Z"
   },
   {
    "duration": 0,
    "start_time": "2024-08-27T14:49:50.252Z"
   },
   {
    "duration": 0,
    "start_time": "2024-08-27T14:49:50.254Z"
   },
   {
    "duration": 5,
    "start_time": "2024-08-27T14:49:56.671Z"
   },
   {
    "duration": 373,
    "start_time": "2024-08-27T14:50:30.314Z"
   },
   {
    "duration": 57,
    "start_time": "2024-08-27T14:50:30.689Z"
   },
   {
    "duration": 20,
    "start_time": "2024-08-27T14:50:30.748Z"
   },
   {
    "duration": 14,
    "start_time": "2024-08-27T14:50:30.769Z"
   },
   {
    "duration": 41,
    "start_time": "2024-08-27T14:50:30.785Z"
   },
   {
    "duration": 7,
    "start_time": "2024-08-27T14:50:30.828Z"
   },
   {
    "duration": 102,
    "start_time": "2024-08-27T14:50:30.836Z"
   },
   {
    "duration": 67,
    "start_time": "2024-08-27T14:50:30.940Z"
   },
   {
    "duration": 5,
    "start_time": "2024-08-27T14:50:31.009Z"
   },
   {
    "duration": 48,
    "start_time": "2024-08-27T19:20:42.416Z"
   },
   {
    "duration": 449,
    "start_time": "2024-08-27T19:20:47.517Z"
   },
   {
    "duration": 192,
    "start_time": "2024-08-27T19:20:47.968Z"
   },
   {
    "duration": 24,
    "start_time": "2024-08-27T19:20:48.162Z"
   },
   {
    "duration": 24,
    "start_time": "2024-08-27T19:20:48.187Z"
   },
   {
    "duration": 14,
    "start_time": "2024-08-27T19:20:48.213Z"
   },
   {
    "duration": 8,
    "start_time": "2024-08-27T19:20:48.229Z"
   },
   {
    "duration": 27,
    "start_time": "2024-08-27T19:20:48.247Z"
   },
   {
    "duration": 14,
    "start_time": "2024-08-27T19:20:48.275Z"
   },
   {
    "duration": 12,
    "start_time": "2024-08-27T19:20:48.291Z"
   },
   {
    "duration": 11,
    "start_time": "2024-08-27T19:20:48.304Z"
   },
   {
    "duration": 14,
    "start_time": "2024-08-27T19:26:41.649Z"
   },
   {
    "duration": 386,
    "start_time": "2024-08-27T19:26:49.474Z"
   },
   {
    "duration": 57,
    "start_time": "2024-08-27T19:26:49.862Z"
   },
   {
    "duration": 21,
    "start_time": "2024-08-27T19:26:49.923Z"
   },
   {
    "duration": 45,
    "start_time": "2024-08-27T19:26:49.946Z"
   },
   {
    "duration": 14,
    "start_time": "2024-08-27T19:26:49.993Z"
   },
   {
    "duration": 51,
    "start_time": "2024-08-27T19:26:50.009Z"
   },
   {
    "duration": 20,
    "start_time": "2024-08-27T19:26:50.062Z"
   },
   {
    "duration": 34,
    "start_time": "2024-08-27T19:26:50.084Z"
   },
   {
    "duration": 27,
    "start_time": "2024-08-27T19:26:50.120Z"
   },
   {
    "duration": 17,
    "start_time": "2024-08-27T19:26:50.148Z"
   },
   {
    "duration": 6,
    "start_time": "2024-08-27T19:28:52.596Z"
   },
   {
    "duration": 6,
    "start_time": "2024-08-27T19:35:27.639Z"
   },
   {
    "duration": 18,
    "start_time": "2024-08-27T19:37:14.552Z"
   },
   {
    "duration": 43,
    "start_time": "2024-08-27T19:39:51.829Z"
   },
   {
    "duration": 15,
    "start_time": "2024-08-27T19:41:10.630Z"
   },
   {
    "duration": 6,
    "start_time": "2024-08-27T19:46:08.682Z"
   },
   {
    "duration": 9,
    "start_time": "2024-08-27T19:46:41.546Z"
   },
   {
    "duration": 444,
    "start_time": "2024-08-27T19:46:58.417Z"
   },
   {
    "duration": 59,
    "start_time": "2024-08-27T19:46:58.863Z"
   },
   {
    "duration": 20,
    "start_time": "2024-08-27T19:46:58.924Z"
   },
   {
    "duration": 14,
    "start_time": "2024-08-27T19:46:58.945Z"
   },
   {
    "duration": 19,
    "start_time": "2024-08-27T19:46:58.961Z"
   },
   {
    "duration": 5,
    "start_time": "2024-08-27T19:46:58.982Z"
   },
   {
    "duration": 48,
    "start_time": "2024-08-27T19:46:58.988Z"
   },
   {
    "duration": 14,
    "start_time": "2024-08-27T19:46:59.038Z"
   },
   {
    "duration": 63,
    "start_time": "2024-08-27T19:46:59.054Z"
   },
   {
    "duration": 15,
    "start_time": "2024-08-27T19:46:59.119Z"
   },
   {
    "duration": 21,
    "start_time": "2024-08-27T19:46:59.135Z"
   },
   {
    "duration": 6,
    "start_time": "2024-08-27T19:46:59.158Z"
   },
   {
    "duration": 23,
    "start_time": "2024-08-27T19:46:59.165Z"
   },
   {
    "duration": 5,
    "start_time": "2024-08-27T19:46:59.191Z"
   },
   {
    "duration": 8,
    "start_time": "2024-08-27T19:53:43.602Z"
   },
   {
    "duration": 14,
    "start_time": "2024-08-27T19:54:16.748Z"
   },
   {
    "duration": 390,
    "start_time": "2024-08-27T19:54:29.394Z"
   },
   {
    "duration": 57,
    "start_time": "2024-08-27T19:54:29.786Z"
   },
   {
    "duration": 21,
    "start_time": "2024-08-27T19:54:29.845Z"
   },
   {
    "duration": 13,
    "start_time": "2024-08-27T19:54:29.868Z"
   },
   {
    "duration": 14,
    "start_time": "2024-08-27T19:54:29.883Z"
   },
   {
    "duration": 5,
    "start_time": "2024-08-27T19:54:29.898Z"
   },
   {
    "duration": 42,
    "start_time": "2024-08-27T19:54:29.904Z"
   },
   {
    "duration": 14,
    "start_time": "2024-08-27T19:54:29.948Z"
   },
   {
    "duration": 19,
    "start_time": "2024-08-27T19:54:29.964Z"
   },
   {
    "duration": 18,
    "start_time": "2024-08-27T19:54:29.986Z"
   },
   {
    "duration": 99,
    "start_time": "2024-08-27T19:54:30.005Z"
   },
   {
    "duration": 49,
    "start_time": "2024-08-27T19:54:30.106Z"
   },
   {
    "duration": 46,
    "start_time": "2024-08-27T19:54:30.157Z"
   },
   {
    "duration": 39,
    "start_time": "2024-08-27T19:54:30.205Z"
   },
   {
    "duration": 46,
    "start_time": "2024-08-27T19:54:30.246Z"
   },
   {
    "duration": 7,
    "start_time": "2024-08-27T19:55:02.244Z"
   },
   {
    "duration": 47,
    "start_time": "2024-08-28T13:44:14.367Z"
   },
   {
    "duration": 357,
    "start_time": "2024-08-28T13:44:20.905Z"
   },
   {
    "duration": 201,
    "start_time": "2024-08-28T13:44:21.265Z"
   },
   {
    "duration": 20,
    "start_time": "2024-08-28T13:44:21.468Z"
   },
   {
    "duration": 14,
    "start_time": "2024-08-28T13:44:21.490Z"
   },
   {
    "duration": 13,
    "start_time": "2024-08-28T13:44:21.505Z"
   },
   {
    "duration": 4,
    "start_time": "2024-08-28T13:44:21.519Z"
   },
   {
    "duration": 29,
    "start_time": "2024-08-28T13:44:21.525Z"
   },
   {
    "duration": 15,
    "start_time": "2024-08-28T13:44:21.555Z"
   },
   {
    "duration": 8,
    "start_time": "2024-08-28T13:44:21.571Z"
   },
   {
    "duration": 11,
    "start_time": "2024-08-28T13:44:21.580Z"
   },
   {
    "duration": 16,
    "start_time": "2024-08-28T13:44:21.592Z"
   },
   {
    "duration": 7,
    "start_time": "2024-08-28T13:44:21.610Z"
   },
   {
    "duration": 35,
    "start_time": "2024-08-28T13:44:21.618Z"
   },
   {
    "duration": 5,
    "start_time": "2024-08-28T13:44:21.656Z"
   },
   {
    "duration": 17,
    "start_time": "2024-08-28T13:44:21.663Z"
   },
   {
    "duration": 58,
    "start_time": "2024-08-28T13:48:57.463Z"
   },
   {
    "duration": 5,
    "start_time": "2024-08-28T13:49:07.371Z"
   },
   {
    "duration": 5,
    "start_time": "2024-08-28T13:49:19.385Z"
   },
   {
    "duration": 11,
    "start_time": "2024-08-28T13:49:58.276Z"
   },
   {
    "duration": 7,
    "start_time": "2024-08-28T13:50:02.594Z"
   },
   {
    "duration": 5,
    "start_time": "2024-08-28T13:50:16.330Z"
   },
   {
    "duration": 6,
    "start_time": "2024-08-28T13:51:04.102Z"
   },
   {
    "duration": 17,
    "start_time": "2024-08-28T13:56:01.869Z"
   },
   {
    "duration": 7,
    "start_time": "2024-08-28T13:59:59.418Z"
   },
   {
    "duration": 418,
    "start_time": "2024-08-28T14:00:30.135Z"
   },
   {
    "duration": 56,
    "start_time": "2024-08-28T14:00:30.555Z"
   },
   {
    "duration": 20,
    "start_time": "2024-08-28T14:00:30.614Z"
   },
   {
    "duration": 14,
    "start_time": "2024-08-28T14:00:30.636Z"
   },
   {
    "duration": 15,
    "start_time": "2024-08-28T14:00:30.651Z"
   },
   {
    "duration": 1,
    "start_time": "2024-08-28T14:00:30.668Z"
   },
   {
    "duration": 12,
    "start_time": "2024-08-28T14:00:30.671Z"
   },
   {
    "duration": 14,
    "start_time": "2024-08-28T14:00:30.685Z"
   },
   {
    "duration": 7,
    "start_time": "2024-08-28T14:00:30.701Z"
   },
   {
    "duration": 11,
    "start_time": "2024-08-28T14:00:30.709Z"
   },
   {
    "duration": 33,
    "start_time": "2024-08-28T14:00:30.721Z"
   },
   {
    "duration": 9,
    "start_time": "2024-08-28T14:00:30.755Z"
   },
   {
    "duration": 15,
    "start_time": "2024-08-28T14:00:30.766Z"
   },
   {
    "duration": 14,
    "start_time": "2024-08-28T14:00:30.783Z"
   },
   {
    "duration": 10,
    "start_time": "2024-08-28T14:00:30.798Z"
   },
   {
    "duration": 17,
    "start_time": "2024-08-28T14:00:30.809Z"
   },
   {
    "duration": 6,
    "start_time": "2024-08-28T14:00:30.827Z"
   },
   {
    "duration": 22,
    "start_time": "2024-08-28T14:00:30.834Z"
   },
   {
    "duration": 6,
    "start_time": "2024-08-28T14:00:30.858Z"
   },
   {
    "duration": 75,
    "start_time": "2024-08-28T14:02:17.367Z"
   },
   {
    "duration": 10,
    "start_time": "2024-08-28T14:03:32.607Z"
   },
   {
    "duration": 5,
    "start_time": "2024-08-28T14:03:58.439Z"
   },
   {
    "duration": 6,
    "start_time": "2024-08-28T14:06:29.886Z"
   },
   {
    "duration": 364,
    "start_time": "2024-08-28T14:06:55.278Z"
   },
   {
    "duration": 55,
    "start_time": "2024-08-28T14:06:55.644Z"
   },
   {
    "duration": 20,
    "start_time": "2024-08-28T14:06:55.700Z"
   },
   {
    "duration": 14,
    "start_time": "2024-08-28T14:06:55.721Z"
   },
   {
    "duration": 13,
    "start_time": "2024-08-28T14:06:55.737Z"
   },
   {
    "duration": 6,
    "start_time": "2024-08-28T14:06:55.753Z"
   },
   {
    "duration": 64,
    "start_time": "2024-08-28T14:06:55.761Z"
   },
   {
    "duration": 0,
    "start_time": "2024-08-28T14:06:55.826Z"
   },
   {
    "duration": 0,
    "start_time": "2024-08-28T14:06:55.827Z"
   },
   {
    "duration": 0,
    "start_time": "2024-08-28T14:06:55.828Z"
   },
   {
    "duration": 0,
    "start_time": "2024-08-28T14:06:55.855Z"
   },
   {
    "duration": 0,
    "start_time": "2024-08-28T14:06:55.856Z"
   },
   {
    "duration": 0,
    "start_time": "2024-08-28T14:06:55.857Z"
   },
   {
    "duration": 0,
    "start_time": "2024-08-28T14:06:55.858Z"
   },
   {
    "duration": 0,
    "start_time": "2024-08-28T14:06:55.859Z"
   },
   {
    "duration": 0,
    "start_time": "2024-08-28T14:06:55.860Z"
   },
   {
    "duration": 0,
    "start_time": "2024-08-28T14:06:55.861Z"
   },
   {
    "duration": 0,
    "start_time": "2024-08-28T14:06:55.862Z"
   },
   {
    "duration": 0,
    "start_time": "2024-08-28T14:06:55.863Z"
   },
   {
    "duration": 0,
    "start_time": "2024-08-28T14:06:55.864Z"
   },
   {
    "duration": 9,
    "start_time": "2024-08-28T14:07:55.624Z"
   },
   {
    "duration": 6,
    "start_time": "2024-08-28T14:08:01.798Z"
   },
   {
    "duration": 7,
    "start_time": "2024-08-28T14:08:11.872Z"
   },
   {
    "duration": 8,
    "start_time": "2024-08-28T14:08:29.194Z"
   },
   {
    "duration": 8,
    "start_time": "2024-08-28T14:08:32.687Z"
   },
   {
    "duration": 379,
    "start_time": "2024-08-28T14:15:51.074Z"
   },
   {
    "duration": 55,
    "start_time": "2024-08-28T14:15:51.455Z"
   },
   {
    "duration": 19,
    "start_time": "2024-08-28T14:15:51.511Z"
   },
   {
    "duration": 13,
    "start_time": "2024-08-28T14:15:51.531Z"
   },
   {
    "duration": 16,
    "start_time": "2024-08-28T14:15:51.545Z"
   },
   {
    "duration": 9,
    "start_time": "2024-08-28T14:15:51.562Z"
   },
   {
    "duration": 65,
    "start_time": "2024-08-28T14:15:51.572Z"
   },
   {
    "duration": 1,
    "start_time": "2024-08-28T14:15:51.653Z"
   },
   {
    "duration": 0,
    "start_time": "2024-08-28T14:15:51.655Z"
   },
   {
    "duration": 0,
    "start_time": "2024-08-28T14:15:51.656Z"
   },
   {
    "duration": 0,
    "start_time": "2024-08-28T14:15:51.657Z"
   },
   {
    "duration": 0,
    "start_time": "2024-08-28T14:15:51.657Z"
   },
   {
    "duration": 0,
    "start_time": "2024-08-28T14:15:51.660Z"
   },
   {
    "duration": 0,
    "start_time": "2024-08-28T14:15:51.661Z"
   },
   {
    "duration": 0,
    "start_time": "2024-08-28T14:15:51.661Z"
   },
   {
    "duration": 0,
    "start_time": "2024-08-28T14:15:51.662Z"
   },
   {
    "duration": 0,
    "start_time": "2024-08-28T14:15:51.663Z"
   },
   {
    "duration": 0,
    "start_time": "2024-08-28T14:15:51.664Z"
   },
   {
    "duration": 0,
    "start_time": "2024-08-28T14:15:51.665Z"
   },
   {
    "duration": 74,
    "start_time": "2024-08-28T14:17:32.815Z"
   },
   {
    "duration": 4,
    "start_time": "2024-08-28T14:17:37.901Z"
   },
   {
    "duration": 407,
    "start_time": "2024-08-28T14:17:58.481Z"
   },
   {
    "duration": 59,
    "start_time": "2024-08-28T14:17:58.890Z"
   },
   {
    "duration": 21,
    "start_time": "2024-08-28T14:17:58.950Z"
   },
   {
    "duration": 30,
    "start_time": "2024-08-28T14:17:58.972Z"
   },
   {
    "duration": 14,
    "start_time": "2024-08-28T14:17:59.004Z"
   },
   {
    "duration": 15,
    "start_time": "2024-08-28T14:17:59.019Z"
   },
   {
    "duration": 4,
    "start_time": "2024-08-28T14:17:59.035Z"
   },
   {
    "duration": 14,
    "start_time": "2024-08-28T14:17:59.041Z"
   },
   {
    "duration": 20,
    "start_time": "2024-08-28T14:17:59.056Z"
   },
   {
    "duration": 16,
    "start_time": "2024-08-28T14:17:59.078Z"
   },
   {
    "duration": 13,
    "start_time": "2024-08-28T14:17:59.095Z"
   },
   {
    "duration": 17,
    "start_time": "2024-08-28T14:17:59.110Z"
   },
   {
    "duration": 10,
    "start_time": "2024-08-28T14:17:59.128Z"
   },
   {
    "duration": 7,
    "start_time": "2024-08-28T14:17:59.140Z"
   },
   {
    "duration": 5,
    "start_time": "2024-08-28T14:17:59.153Z"
   },
   {
    "duration": 9,
    "start_time": "2024-08-28T14:17:59.159Z"
   },
   {
    "duration": 10,
    "start_time": "2024-08-28T14:17:59.169Z"
   },
   {
    "duration": 81,
    "start_time": "2024-08-28T14:17:59.180Z"
   },
   {
    "duration": 89,
    "start_time": "2024-08-28T14:17:59.263Z"
   },
   {
    "duration": 60,
    "start_time": "2024-08-28T14:19:54.955Z"
   },
   {
    "duration": 7,
    "start_time": "2024-08-28T14:20:01.084Z"
   },
   {
    "duration": 20,
    "start_time": "2024-08-28T14:21:29.459Z"
   },
   {
    "duration": 16,
    "start_time": "2024-08-28T14:21:37.689Z"
   },
   {
    "duration": 13,
    "start_time": "2024-08-28T14:21:55.370Z"
   },
   {
    "duration": 11,
    "start_time": "2024-08-28T14:23:10.899Z"
   },
   {
    "duration": 739,
    "start_time": "2024-08-28T14:23:46.380Z"
   },
   {
    "duration": 60,
    "start_time": "2024-08-28T14:23:47.121Z"
   },
   {
    "duration": 18,
    "start_time": "2024-08-28T14:23:47.183Z"
   },
   {
    "duration": 77,
    "start_time": "2024-08-28T14:23:47.203Z"
   },
   {
    "duration": 124,
    "start_time": "2024-08-28T14:23:47.281Z"
   },
   {
    "duration": 12,
    "start_time": "2024-08-28T14:23:47.407Z"
   },
   {
    "duration": 4,
    "start_time": "2024-08-28T14:23:47.421Z"
   },
   {
    "duration": 20,
    "start_time": "2024-08-28T14:23:47.427Z"
   },
   {
    "duration": 4,
    "start_time": "2024-08-28T14:23:47.449Z"
   },
   {
    "duration": 26,
    "start_time": "2024-08-28T14:23:47.456Z"
   },
   {
    "duration": 12,
    "start_time": "2024-08-28T14:23:47.484Z"
   },
   {
    "duration": 9,
    "start_time": "2024-08-28T14:23:47.497Z"
   },
   {
    "duration": 22,
    "start_time": "2024-08-28T14:23:47.507Z"
   },
   {
    "duration": 4,
    "start_time": "2024-08-28T14:23:47.530Z"
   },
   {
    "duration": 4,
    "start_time": "2024-08-28T14:23:47.536Z"
   },
   {
    "duration": 12,
    "start_time": "2024-08-28T14:23:47.541Z"
   },
   {
    "duration": 19,
    "start_time": "2024-08-28T14:23:47.555Z"
   },
   {
    "duration": 18,
    "start_time": "2024-08-28T14:23:47.576Z"
   },
   {
    "duration": 20,
    "start_time": "2024-08-28T14:23:47.595Z"
   },
   {
    "duration": 73,
    "start_time": "2024-08-28T14:23:47.616Z"
   },
   {
    "duration": 1203,
    "start_time": "2024-08-28T14:24:09.771Z"
   },
   {
    "duration": 58,
    "start_time": "2024-08-28T14:24:10.976Z"
   },
   {
    "duration": 16,
    "start_time": "2024-08-28T14:24:11.036Z"
   },
   {
    "duration": 36,
    "start_time": "2024-08-28T14:24:11.053Z"
   },
   {
    "duration": 13,
    "start_time": "2024-08-28T14:24:11.091Z"
   },
   {
    "duration": 18,
    "start_time": "2024-08-28T14:24:11.105Z"
   },
   {
    "duration": 10,
    "start_time": "2024-08-28T14:24:11.124Z"
   },
   {
    "duration": 13,
    "start_time": "2024-08-28T14:24:11.135Z"
   },
   {
    "duration": 119,
    "start_time": "2024-08-28T14:24:11.149Z"
   },
   {
    "duration": 100,
    "start_time": "2024-08-28T14:24:11.269Z"
   },
   {
    "duration": 35,
    "start_time": "2024-08-28T14:24:11.371Z"
   },
   {
    "duration": 7,
    "start_time": "2024-08-28T14:24:11.407Z"
   },
   {
    "duration": 26,
    "start_time": "2024-08-28T14:24:11.415Z"
   },
   {
    "duration": 4,
    "start_time": "2024-08-28T14:24:11.444Z"
   },
   {
    "duration": 15,
    "start_time": "2024-08-28T14:24:11.449Z"
   },
   {
    "duration": 16,
    "start_time": "2024-08-28T14:24:11.465Z"
   },
   {
    "duration": 9,
    "start_time": "2024-08-28T14:24:11.482Z"
   },
   {
    "duration": 18,
    "start_time": "2024-08-28T14:24:11.492Z"
   },
   {
    "duration": 14,
    "start_time": "2024-08-28T14:24:11.511Z"
   },
   {
    "duration": 405,
    "start_time": "2024-08-28T14:24:11.526Z"
   },
   {
    "duration": 400,
    "start_time": "2024-08-28T14:24:22.680Z"
   },
   {
    "duration": 415,
    "start_time": "2024-08-28T14:24:31.160Z"
   },
   {
    "duration": 358,
    "start_time": "2024-08-28T14:24:38.745Z"
   },
   {
    "duration": 443,
    "start_time": "2024-08-28T14:24:42.554Z"
   },
   {
    "duration": 92,
    "start_time": "2024-08-28T14:29:50.980Z"
   },
   {
    "duration": 104,
    "start_time": "2024-08-28T14:30:02.751Z"
   },
   {
    "duration": 90,
    "start_time": "2024-08-28T14:30:24.699Z"
   },
   {
    "duration": 89,
    "start_time": "2024-08-28T14:30:52.654Z"
   },
   {
    "duration": 93,
    "start_time": "2024-08-28T14:31:57.458Z"
   },
   {
    "duration": 4,
    "start_time": "2024-08-28T14:32:12.160Z"
   },
   {
    "duration": 8,
    "start_time": "2024-08-28T14:33:59.669Z"
   },
   {
    "duration": 13,
    "start_time": "2024-08-28T14:36:38.600Z"
   },
   {
    "duration": 126,
    "start_time": "2024-08-28T14:36:59.240Z"
   },
   {
    "duration": 9,
    "start_time": "2024-08-28T14:39:04.746Z"
   },
   {
    "duration": 6,
    "start_time": "2024-08-28T14:39:18.417Z"
   },
   {
    "duration": 6,
    "start_time": "2024-08-28T14:41:07.091Z"
   },
   {
    "duration": 11,
    "start_time": "2024-08-28T14:42:03.304Z"
   },
   {
    "duration": 1165,
    "start_time": "2024-08-28T14:42:29.023Z"
   },
   {
    "duration": 58,
    "start_time": "2024-08-28T14:42:30.189Z"
   },
   {
    "duration": 18,
    "start_time": "2024-08-28T14:42:30.249Z"
   },
   {
    "duration": 53,
    "start_time": "2024-08-28T14:42:30.269Z"
   },
   {
    "duration": 30,
    "start_time": "2024-08-28T14:42:30.325Z"
   },
   {
    "duration": 32,
    "start_time": "2024-08-28T14:42:30.356Z"
   },
   {
    "duration": 55,
    "start_time": "2024-08-28T14:42:30.389Z"
   },
   {
    "duration": 15,
    "start_time": "2024-08-28T14:42:30.446Z"
   },
   {
    "duration": 18,
    "start_time": "2024-08-28T14:42:30.463Z"
   },
   {
    "duration": 61,
    "start_time": "2024-08-28T14:42:30.482Z"
   },
   {
    "duration": 15,
    "start_time": "2024-08-28T14:42:30.544Z"
   },
   {
    "duration": 19,
    "start_time": "2024-08-28T14:42:30.561Z"
   },
   {
    "duration": 21,
    "start_time": "2024-08-28T14:42:30.582Z"
   },
   {
    "duration": 10,
    "start_time": "2024-08-28T14:42:30.605Z"
   },
   {
    "duration": 13,
    "start_time": "2024-08-28T14:42:30.616Z"
   },
   {
    "duration": 7,
    "start_time": "2024-08-28T14:42:30.631Z"
   },
   {
    "duration": 16,
    "start_time": "2024-08-28T14:42:30.640Z"
   },
   {
    "duration": 24,
    "start_time": "2024-08-28T14:42:30.658Z"
   },
   {
    "duration": 44,
    "start_time": "2024-08-28T14:42:30.683Z"
   },
   {
    "duration": 34,
    "start_time": "2024-08-28T14:42:30.729Z"
   },
   {
    "duration": 400,
    "start_time": "2024-08-28T14:42:30.764Z"
   },
   {
    "duration": 7,
    "start_time": "2024-08-28T14:42:31.166Z"
   },
   {
    "duration": 57,
    "start_time": "2024-08-28T19:10:12.328Z"
   },
   {
    "duration": 1365,
    "start_time": "2024-08-28T19:10:22.040Z"
   },
   {
    "duration": 189,
    "start_time": "2024-08-28T19:10:23.407Z"
   },
   {
    "duration": 18,
    "start_time": "2024-08-28T19:10:23.598Z"
   },
   {
    "duration": 17,
    "start_time": "2024-08-28T19:10:23.618Z"
   },
   {
    "duration": 18,
    "start_time": "2024-08-28T19:10:23.636Z"
   },
   {
    "duration": 15,
    "start_time": "2024-08-28T19:10:23.656Z"
   },
   {
    "duration": 5,
    "start_time": "2024-08-28T19:10:23.673Z"
   },
   {
    "duration": 30,
    "start_time": "2024-08-28T19:10:23.680Z"
   },
   {
    "duration": 7,
    "start_time": "2024-08-28T19:10:23.712Z"
   },
   {
    "duration": 39,
    "start_time": "2024-08-28T19:10:23.722Z"
   },
   {
    "duration": 15,
    "start_time": "2024-08-28T19:10:23.763Z"
   },
   {
    "duration": 11,
    "start_time": "2024-08-28T19:10:23.780Z"
   },
   {
    "duration": 12,
    "start_time": "2024-08-28T19:10:23.793Z"
   },
   {
    "duration": 40,
    "start_time": "2024-08-28T19:10:23.807Z"
   },
   {
    "duration": 6,
    "start_time": "2024-08-28T19:10:23.849Z"
   },
   {
    "duration": 39,
    "start_time": "2024-08-28T19:10:23.857Z"
   },
   {
    "duration": 16,
    "start_time": "2024-08-28T19:10:23.899Z"
   },
   {
    "duration": 6,
    "start_time": "2024-08-28T19:10:23.916Z"
   },
   {
    "duration": 29,
    "start_time": "2024-08-28T19:10:23.924Z"
   },
   {
    "duration": 17,
    "start_time": "2024-08-28T19:10:23.955Z"
   },
   {
    "duration": 485,
    "start_time": "2024-08-28T19:10:23.974Z"
   },
   {
    "duration": 9,
    "start_time": "2024-08-28T19:10:24.461Z"
   },
   {
    "duration": 25,
    "start_time": "2024-08-28T19:10:24.472Z"
   },
   {
    "duration": 140,
    "start_time": "2024-08-28T19:10:24.499Z"
   },
   {
    "duration": 8,
    "start_time": "2024-08-28T19:11:12.151Z"
   },
   {
    "duration": 6,
    "start_time": "2024-08-28T19:11:27.130Z"
   },
   {
    "duration": 15,
    "start_time": "2024-08-28T19:13:54.333Z"
   },
   {
    "duration": 16,
    "start_time": "2024-08-28T19:14:18.286Z"
   },
   {
    "duration": 10,
    "start_time": "2024-08-28T19:17:54.431Z"
   },
   {
    "duration": 13,
    "start_time": "2024-08-28T19:18:09.879Z"
   },
   {
    "duration": 14,
    "start_time": "2024-08-28T19:19:11.712Z"
   },
   {
    "duration": 17,
    "start_time": "2024-08-28T19:20:38.191Z"
   },
   {
    "duration": 19,
    "start_time": "2024-08-28T19:26:23.341Z"
   },
   {
    "duration": 57,
    "start_time": "2024-08-28T19:27:00.868Z"
   },
   {
    "duration": 16,
    "start_time": "2024-08-28T19:27:44.607Z"
   },
   {
    "duration": 15,
    "start_time": "2024-08-28T19:28:04.630Z"
   },
   {
    "duration": 18,
    "start_time": "2024-08-28T19:43:54.991Z"
   },
   {
    "duration": 17,
    "start_time": "2024-08-28T19:44:09.236Z"
   },
   {
    "duration": 13,
    "start_time": "2024-08-28T19:47:01.878Z"
   },
   {
    "duration": 12,
    "start_time": "2024-08-28T19:47:07.205Z"
   },
   {
    "duration": 1208,
    "start_time": "2024-08-28T19:47:17.216Z"
   },
   {
    "duration": 58,
    "start_time": "2024-08-28T19:47:18.426Z"
   },
   {
    "duration": 18,
    "start_time": "2024-08-28T19:47:18.485Z"
   },
   {
    "duration": 15,
    "start_time": "2024-08-28T19:47:18.505Z"
   },
   {
    "duration": 33,
    "start_time": "2024-08-28T19:47:18.521Z"
   },
   {
    "duration": 15,
    "start_time": "2024-08-28T19:47:18.556Z"
   },
   {
    "duration": 5,
    "start_time": "2024-08-28T19:47:18.573Z"
   },
   {
    "duration": 18,
    "start_time": "2024-08-28T19:47:18.580Z"
   },
   {
    "duration": 7,
    "start_time": "2024-08-28T19:47:18.599Z"
   },
   {
    "duration": 20,
    "start_time": "2024-08-28T19:47:18.645Z"
   },
   {
    "duration": 18,
    "start_time": "2024-08-28T19:47:18.667Z"
   },
   {
    "duration": 12,
    "start_time": "2024-08-28T19:47:18.686Z"
   },
   {
    "duration": 13,
    "start_time": "2024-08-28T19:47:18.699Z"
   },
   {
    "duration": 35,
    "start_time": "2024-08-28T19:47:18.713Z"
   },
   {
    "duration": 10,
    "start_time": "2024-08-28T19:47:18.750Z"
   },
   {
    "duration": 5,
    "start_time": "2024-08-28T19:47:18.762Z"
   },
   {
    "duration": 8,
    "start_time": "2024-08-28T19:47:18.768Z"
   },
   {
    "duration": 10,
    "start_time": "2024-08-28T19:47:18.777Z"
   },
   {
    "duration": 5,
    "start_time": "2024-08-28T19:47:18.789Z"
   },
   {
    "duration": 59,
    "start_time": "2024-08-28T19:47:18.796Z"
   },
   {
    "duration": 15,
    "start_time": "2024-08-28T19:47:18.856Z"
   },
   {
    "duration": 440,
    "start_time": "2024-08-28T19:47:18.873Z"
   },
   {
    "duration": 8,
    "start_time": "2024-08-28T19:47:19.315Z"
   },
   {
    "duration": 30,
    "start_time": "2024-08-28T19:47:19.325Z"
   },
   {
    "duration": 9,
    "start_time": "2024-08-28T19:47:19.357Z"
   },
   {
    "duration": 5,
    "start_time": "2024-08-28T19:47:19.368Z"
   },
   {
    "duration": 4250,
    "start_time": "2024-08-28T19:47:19.375Z"
   },
   {
    "duration": 15,
    "start_time": "2024-08-28T19:47:29.625Z"
   },
   {
    "duration": 14,
    "start_time": "2024-08-28T19:47:54.820Z"
   },
   {
    "duration": 232,
    "start_time": "2024-08-28T19:48:41.821Z"
   },
   {
    "duration": 212,
    "start_time": "2024-08-28T19:48:51.496Z"
   },
   {
    "duration": 101,
    "start_time": "2024-08-28T19:49:37.832Z"
   },
   {
    "duration": 210,
    "start_time": "2024-08-28T19:49:43.029Z"
   },
   {
    "duration": 226,
    "start_time": "2024-08-28T19:50:06.661Z"
   },
   {
    "duration": 233,
    "start_time": "2024-08-28T19:50:57.865Z"
   },
   {
    "duration": 267,
    "start_time": "2024-08-28T19:51:26.975Z"
   },
   {
    "duration": 372,
    "start_time": "2024-08-28T19:52:41.533Z"
   },
   {
    "duration": 299,
    "start_time": "2024-08-28T19:52:50.539Z"
   },
   {
    "duration": 132,
    "start_time": "2024-08-28T19:53:31.577Z"
   },
   {
    "duration": 229,
    "start_time": "2024-08-28T19:54:48.730Z"
   },
   {
    "duration": 1136,
    "start_time": "2024-08-28T19:56:02.760Z"
   },
   {
    "duration": 56,
    "start_time": "2024-08-28T19:56:03.898Z"
   },
   {
    "duration": 25,
    "start_time": "2024-08-28T19:56:03.959Z"
   },
   {
    "duration": 28,
    "start_time": "2024-08-28T19:56:03.986Z"
   },
   {
    "duration": 20,
    "start_time": "2024-08-28T19:56:04.016Z"
   },
   {
    "duration": 13,
    "start_time": "2024-08-28T19:56:04.038Z"
   },
   {
    "duration": 4,
    "start_time": "2024-08-28T19:56:04.053Z"
   },
   {
    "duration": 13,
    "start_time": "2024-08-28T19:56:04.058Z"
   },
   {
    "duration": 9,
    "start_time": "2024-08-28T19:56:04.073Z"
   },
   {
    "duration": 18,
    "start_time": "2024-08-28T19:56:04.084Z"
   },
   {
    "duration": 16,
    "start_time": "2024-08-28T19:56:04.104Z"
   },
   {
    "duration": 59,
    "start_time": "2024-08-28T19:56:04.122Z"
   },
   {
    "duration": 30,
    "start_time": "2024-08-28T19:56:04.184Z"
   },
   {
    "duration": 12,
    "start_time": "2024-08-28T19:56:04.215Z"
   },
   {
    "duration": 12,
    "start_time": "2024-08-28T19:56:04.228Z"
   },
   {
    "duration": 5,
    "start_time": "2024-08-28T19:56:04.241Z"
   },
   {
    "duration": 13,
    "start_time": "2024-08-28T19:56:04.247Z"
   },
   {
    "duration": 8,
    "start_time": "2024-08-28T19:56:04.262Z"
   },
   {
    "duration": 9,
    "start_time": "2024-08-28T19:56:04.272Z"
   },
   {
    "duration": 18,
    "start_time": "2024-08-28T19:56:04.282Z"
   },
   {
    "duration": 14,
    "start_time": "2024-08-28T19:56:04.302Z"
   },
   {
    "duration": 462,
    "start_time": "2024-08-28T19:56:04.317Z"
   },
   {
    "duration": 8,
    "start_time": "2024-08-28T19:56:04.781Z"
   },
   {
    "duration": 27,
    "start_time": "2024-08-28T19:56:04.790Z"
   },
   {
    "duration": 26,
    "start_time": "2024-08-28T19:56:04.819Z"
   },
   {
    "duration": 113,
    "start_time": "2024-08-28T19:56:04.846Z"
   },
   {
    "duration": 0,
    "start_time": "2024-08-28T19:56:04.960Z"
   },
   {
    "duration": 209,
    "start_time": "2024-08-28T19:56:40.349Z"
   },
   {
    "duration": 303,
    "start_time": "2024-08-28T19:58:05.070Z"
   },
   {
    "duration": 322,
    "start_time": "2024-08-28T19:58:17.729Z"
   },
   {
    "duration": 274,
    "start_time": "2024-08-28T20:10:06.173Z"
   },
   {
    "duration": 1133,
    "start_time": "2024-08-28T20:14:30.487Z"
   },
   {
    "duration": 57,
    "start_time": "2024-08-28T20:14:31.622Z"
   },
   {
    "duration": 17,
    "start_time": "2024-08-28T20:14:31.681Z"
   },
   {
    "duration": 14,
    "start_time": "2024-08-28T20:14:31.700Z"
   },
   {
    "duration": 30,
    "start_time": "2024-08-28T20:14:31.716Z"
   },
   {
    "duration": 12,
    "start_time": "2024-08-28T20:14:31.747Z"
   },
   {
    "duration": 13,
    "start_time": "2024-08-28T20:14:31.760Z"
   },
   {
    "duration": 40,
    "start_time": "2024-08-28T20:14:31.775Z"
   },
   {
    "duration": 15,
    "start_time": "2024-08-28T20:14:31.817Z"
   },
   {
    "duration": 34,
    "start_time": "2024-08-28T20:14:31.833Z"
   },
   {
    "duration": 27,
    "start_time": "2024-08-28T20:14:31.869Z"
   },
   {
    "duration": 20,
    "start_time": "2024-08-28T20:14:31.898Z"
   },
   {
    "duration": 54,
    "start_time": "2024-08-28T20:14:31.919Z"
   },
   {
    "duration": 71,
    "start_time": "2024-08-28T20:14:31.976Z"
   },
   {
    "duration": 10,
    "start_time": "2024-08-28T20:14:32.049Z"
   },
   {
    "duration": 5,
    "start_time": "2024-08-28T20:14:32.061Z"
   },
   {
    "duration": 11,
    "start_time": "2024-08-28T20:14:32.067Z"
   },
   {
    "duration": 19,
    "start_time": "2024-08-28T20:14:32.080Z"
   },
   {
    "duration": 19,
    "start_time": "2024-08-28T20:14:32.100Z"
   },
   {
    "duration": 21,
    "start_time": "2024-08-28T20:14:32.121Z"
   },
   {
    "duration": 15,
    "start_time": "2024-08-28T20:14:32.146Z"
   },
   {
    "duration": 470,
    "start_time": "2024-08-28T20:14:32.162Z"
   },
   {
    "duration": 13,
    "start_time": "2024-08-28T20:14:32.634Z"
   },
   {
    "duration": 20,
    "start_time": "2024-08-28T20:14:32.649Z"
   },
   {
    "duration": 32,
    "start_time": "2024-08-28T20:14:32.670Z"
   },
   {
    "duration": 274,
    "start_time": "2024-08-28T20:14:32.703Z"
   },
   {
    "duration": 9,
    "start_time": "2024-08-28T20:17:57.513Z"
   },
   {
    "duration": 1162,
    "start_time": "2024-08-28T20:18:44.890Z"
   },
   {
    "duration": 65,
    "start_time": "2024-08-28T20:18:46.054Z"
   },
   {
    "duration": 19,
    "start_time": "2024-08-28T20:18:46.122Z"
   },
   {
    "duration": 31,
    "start_time": "2024-08-28T20:18:46.143Z"
   },
   {
    "duration": 15,
    "start_time": "2024-08-28T20:18:46.176Z"
   },
   {
    "duration": 22,
    "start_time": "2024-08-28T20:18:46.193Z"
   },
   {
    "duration": 15,
    "start_time": "2024-08-28T20:18:46.217Z"
   },
   {
    "duration": 35,
    "start_time": "2024-08-28T20:18:46.233Z"
   },
   {
    "duration": 41,
    "start_time": "2024-08-28T20:18:46.270Z"
   },
   {
    "duration": 24,
    "start_time": "2024-08-28T20:18:46.312Z"
   },
   {
    "duration": 23,
    "start_time": "2024-08-28T20:18:46.338Z"
   },
   {
    "duration": 26,
    "start_time": "2024-08-28T20:18:46.362Z"
   },
   {
    "duration": 15,
    "start_time": "2024-08-28T20:18:46.391Z"
   },
   {
    "duration": 11,
    "start_time": "2024-08-28T20:18:46.408Z"
   },
   {
    "duration": 15,
    "start_time": "2024-08-28T20:18:46.420Z"
   },
   {
    "duration": 17,
    "start_time": "2024-08-28T20:18:46.436Z"
   },
   {
    "duration": 17,
    "start_time": "2024-08-28T20:18:46.455Z"
   },
   {
    "duration": 29,
    "start_time": "2024-08-28T20:18:46.473Z"
   },
   {
    "duration": 77,
    "start_time": "2024-08-28T20:18:46.504Z"
   },
   {
    "duration": 70,
    "start_time": "2024-08-28T20:18:46.582Z"
   },
   {
    "duration": 32,
    "start_time": "2024-08-28T20:18:46.654Z"
   },
   {
    "duration": 424,
    "start_time": "2024-08-28T20:18:46.687Z"
   },
   {
    "duration": 7,
    "start_time": "2024-08-28T20:18:47.112Z"
   },
   {
    "duration": 176,
    "start_time": "2024-08-28T20:18:47.120Z"
   },
   {
    "duration": 24,
    "start_time": "2024-08-28T20:18:47.298Z"
   },
   {
    "duration": 305,
    "start_time": "2024-08-28T20:18:47.324Z"
   },
   {
    "duration": 1538,
    "start_time": "2024-08-28T20:37:09.889Z"
   },
   {
    "duration": 57,
    "start_time": "2024-08-28T20:37:11.429Z"
   },
   {
    "duration": 18,
    "start_time": "2024-08-28T20:37:11.487Z"
   },
   {
    "duration": 14,
    "start_time": "2024-08-28T20:37:11.507Z"
   },
   {
    "duration": 28,
    "start_time": "2024-08-28T20:37:11.522Z"
   },
   {
    "duration": 15,
    "start_time": "2024-08-28T20:37:11.552Z"
   },
   {
    "duration": 43,
    "start_time": "2024-08-28T20:37:11.568Z"
   },
   {
    "duration": 27,
    "start_time": "2024-08-28T20:37:11.613Z"
   },
   {
    "duration": 26,
    "start_time": "2024-08-28T20:37:11.642Z"
   },
   {
    "duration": 14,
    "start_time": "2024-08-28T20:37:11.671Z"
   },
   {
    "duration": 18,
    "start_time": "2024-08-28T20:37:11.687Z"
   },
   {
    "duration": 27,
    "start_time": "2024-08-28T20:37:11.706Z"
   },
   {
    "duration": 37,
    "start_time": "2024-08-28T20:37:11.735Z"
   },
   {
    "duration": 15,
    "start_time": "2024-08-28T20:37:11.774Z"
   },
   {
    "duration": 33,
    "start_time": "2024-08-28T20:37:11.791Z"
   },
   {
    "duration": 13,
    "start_time": "2024-08-28T20:37:11.826Z"
   },
   {
    "duration": 24,
    "start_time": "2024-08-28T20:37:11.841Z"
   },
   {
    "duration": 10,
    "start_time": "2024-08-28T20:37:11.867Z"
   },
   {
    "duration": 10,
    "start_time": "2024-08-28T20:37:11.879Z"
   },
   {
    "duration": 28,
    "start_time": "2024-08-28T20:37:11.891Z"
   },
   {
    "duration": 21,
    "start_time": "2024-08-28T20:37:11.921Z"
   },
   {
    "duration": 424,
    "start_time": "2024-08-28T20:37:11.944Z"
   },
   {
    "duration": 7,
    "start_time": "2024-08-28T20:37:12.370Z"
   },
   {
    "duration": 55,
    "start_time": "2024-08-28T20:37:12.379Z"
   },
   {
    "duration": 24,
    "start_time": "2024-08-28T20:37:12.436Z"
   },
   {
    "duration": 304,
    "start_time": "2024-08-28T20:37:12.462Z"
   },
   {
    "duration": 1212,
    "start_time": "2024-08-28T20:40:56.608Z"
   },
   {
    "duration": 59,
    "start_time": "2024-08-28T20:40:57.822Z"
   },
   {
    "duration": 16,
    "start_time": "2024-08-28T20:40:57.883Z"
   },
   {
    "duration": 24,
    "start_time": "2024-08-28T20:40:57.901Z"
   },
   {
    "duration": 23,
    "start_time": "2024-08-28T20:40:57.927Z"
   },
   {
    "duration": 9,
    "start_time": "2024-08-28T20:40:57.952Z"
   },
   {
    "duration": 26,
    "start_time": "2024-08-28T20:40:57.963Z"
   },
   {
    "duration": 9,
    "start_time": "2024-08-28T20:40:57.991Z"
   },
   {
    "duration": 10,
    "start_time": "2024-08-28T20:40:58.002Z"
   },
   {
    "duration": 5,
    "start_time": "2024-08-28T20:40:58.015Z"
   },
   {
    "duration": 15,
    "start_time": "2024-08-28T20:40:58.045Z"
   },
   {
    "duration": 14,
    "start_time": "2024-08-28T20:40:58.062Z"
   },
   {
    "duration": 19,
    "start_time": "2024-08-28T20:40:58.078Z"
   },
   {
    "duration": 22,
    "start_time": "2024-08-28T20:40:58.099Z"
   },
   {
    "duration": 23,
    "start_time": "2024-08-28T20:40:58.123Z"
   },
   {
    "duration": 5,
    "start_time": "2024-08-28T20:40:58.148Z"
   },
   {
    "duration": 28,
    "start_time": "2024-08-28T20:40:58.155Z"
   },
   {
    "duration": 30,
    "start_time": "2024-08-28T20:40:58.185Z"
   },
   {
    "duration": 8,
    "start_time": "2024-08-28T20:40:58.217Z"
   },
   {
    "duration": 25,
    "start_time": "2024-08-28T20:40:58.227Z"
   },
   {
    "duration": 15,
    "start_time": "2024-08-28T20:40:58.254Z"
   },
   {
    "duration": 489,
    "start_time": "2024-08-28T20:40:58.271Z"
   },
   {
    "duration": 7,
    "start_time": "2024-08-28T20:40:58.762Z"
   },
   {
    "duration": 42,
    "start_time": "2024-08-28T20:40:58.770Z"
   },
   {
    "duration": 14,
    "start_time": "2024-08-28T20:40:58.814Z"
   },
   {
    "duration": 275,
    "start_time": "2024-08-28T20:40:58.829Z"
   },
   {
    "duration": 8,
    "start_time": "2024-08-28T20:41:47.731Z"
   },
   {
    "duration": 5,
    "start_time": "2024-08-28T20:42:03.018Z"
   },
   {
    "duration": 100,
    "start_time": "2024-08-28T20:42:12.876Z"
   },
   {
    "duration": 5,
    "start_time": "2024-08-28T20:42:19.356Z"
   },
   {
    "duration": 5,
    "start_time": "2024-08-28T20:42:24.250Z"
   },
   {
    "duration": 14,
    "start_time": "2024-08-28T20:42:50.285Z"
   },
   {
    "duration": 15,
    "start_time": "2024-08-28T20:43:04.481Z"
   },
   {
    "duration": 1355,
    "start_time": "2024-08-29T19:00:43.918Z"
   },
   {
    "duration": 252,
    "start_time": "2024-08-29T19:00:45.275Z"
   },
   {
    "duration": 22,
    "start_time": "2024-08-29T19:00:45.529Z"
   },
   {
    "duration": 17,
    "start_time": "2024-08-29T19:00:45.552Z"
   },
   {
    "duration": 14,
    "start_time": "2024-08-29T19:00:45.571Z"
   },
   {
    "duration": 34,
    "start_time": "2024-08-29T19:00:45.587Z"
   },
   {
    "duration": 14,
    "start_time": "2024-08-29T19:00:45.623Z"
   },
   {
    "duration": 14,
    "start_time": "2024-08-29T19:00:45.639Z"
   },
   {
    "duration": 18,
    "start_time": "2024-08-29T19:00:45.654Z"
   },
   {
    "duration": 4,
    "start_time": "2024-08-29T19:00:45.674Z"
   },
   {
    "duration": 41,
    "start_time": "2024-08-29T19:00:45.680Z"
   },
   {
    "duration": 17,
    "start_time": "2024-08-29T19:00:45.723Z"
   },
   {
    "duration": 14,
    "start_time": "2024-08-29T19:00:45.742Z"
   },
   {
    "duration": 28,
    "start_time": "2024-08-29T19:00:45.758Z"
   },
   {
    "duration": 32,
    "start_time": "2024-08-29T19:00:45.788Z"
   },
   {
    "duration": 9,
    "start_time": "2024-08-29T19:00:45.822Z"
   },
   {
    "duration": 5,
    "start_time": "2024-08-29T19:00:45.833Z"
   },
   {
    "duration": 8,
    "start_time": "2024-08-29T19:00:45.839Z"
   },
   {
    "duration": 9,
    "start_time": "2024-08-29T19:00:45.848Z"
   },
   {
    "duration": 27,
    "start_time": "2024-08-29T19:00:45.859Z"
   },
   {
    "duration": 32,
    "start_time": "2024-08-29T19:00:45.887Z"
   },
   {
    "duration": 429,
    "start_time": "2024-08-29T19:00:45.921Z"
   },
   {
    "duration": 7,
    "start_time": "2024-08-29T19:00:46.351Z"
   },
   {
    "duration": 6,
    "start_time": "2024-08-29T19:00:46.359Z"
   },
   {
    "duration": 15,
    "start_time": "2024-08-29T19:00:46.366Z"
   },
   {
    "duration": 47,
    "start_time": "2024-08-29T19:00:46.383Z"
   },
   {
    "duration": 358,
    "start_time": "2024-08-29T19:00:46.432Z"
   },
   {
    "duration": 287,
    "start_time": "2024-08-29T19:01:21.710Z"
   },
   {
    "duration": 316,
    "start_time": "2024-08-29T19:01:37.974Z"
   },
   {
    "duration": 291,
    "start_time": "2024-08-29T19:01:48.104Z"
   },
   {
    "duration": 296,
    "start_time": "2024-08-29T19:01:54.878Z"
   },
   {
    "duration": 1256,
    "start_time": "2024-08-29T19:11:45.531Z"
   },
   {
    "duration": 63,
    "start_time": "2024-08-29T19:11:46.789Z"
   },
   {
    "duration": 19,
    "start_time": "2024-08-29T19:11:46.853Z"
   },
   {
    "duration": 17,
    "start_time": "2024-08-29T19:11:46.874Z"
   },
   {
    "duration": 21,
    "start_time": "2024-08-29T19:11:46.892Z"
   },
   {
    "duration": 11,
    "start_time": "2024-08-29T19:11:46.914Z"
   },
   {
    "duration": 16,
    "start_time": "2024-08-29T19:11:46.927Z"
   },
   {
    "duration": 10,
    "start_time": "2024-08-29T19:11:46.945Z"
   },
   {
    "duration": 11,
    "start_time": "2024-08-29T19:11:46.956Z"
   },
   {
    "duration": 38,
    "start_time": "2024-08-29T19:11:46.970Z"
   },
   {
    "duration": 24,
    "start_time": "2024-08-29T19:11:47.010Z"
   },
   {
    "duration": 5,
    "start_time": "2024-08-29T19:11:47.036Z"
   },
   {
    "duration": 15,
    "start_time": "2024-08-29T19:11:47.042Z"
   },
   {
    "duration": 14,
    "start_time": "2024-08-29T19:11:47.058Z"
   },
   {
    "duration": 19,
    "start_time": "2024-08-29T19:11:47.074Z"
   },
   {
    "duration": 5,
    "start_time": "2024-08-29T19:11:47.106Z"
   },
   {
    "duration": 16,
    "start_time": "2024-08-29T19:11:47.113Z"
   },
   {
    "duration": 12,
    "start_time": "2024-08-29T19:11:47.130Z"
   },
   {
    "duration": 8,
    "start_time": "2024-08-29T19:11:47.143Z"
   },
   {
    "duration": 23,
    "start_time": "2024-08-29T19:11:47.153Z"
   },
   {
    "duration": 37,
    "start_time": "2024-08-29T19:11:47.178Z"
   },
   {
    "duration": 447,
    "start_time": "2024-08-29T19:11:47.217Z"
   },
   {
    "duration": 8,
    "start_time": "2024-08-29T19:11:47.666Z"
   },
   {
    "duration": 18,
    "start_time": "2024-08-29T19:11:47.675Z"
   },
   {
    "duration": 24,
    "start_time": "2024-08-29T19:11:47.694Z"
   },
   {
    "duration": 16,
    "start_time": "2024-08-29T19:11:47.719Z"
   },
   {
    "duration": 319,
    "start_time": "2024-08-29T19:11:47.737Z"
   },
   {
    "duration": 5,
    "start_time": "2024-08-29T19:11:48.059Z"
   },
   {
    "duration": 1190,
    "start_time": "2024-08-29T19:12:47.542Z"
   },
   {
    "duration": 61,
    "start_time": "2024-08-29T19:12:48.734Z"
   },
   {
    "duration": 20,
    "start_time": "2024-08-29T19:12:48.797Z"
   },
   {
    "duration": 22,
    "start_time": "2024-08-29T19:12:48.819Z"
   },
   {
    "duration": 15,
    "start_time": "2024-08-29T19:12:48.843Z"
   },
   {
    "duration": 22,
    "start_time": "2024-08-29T19:12:48.860Z"
   },
   {
    "duration": 32,
    "start_time": "2024-08-29T19:12:48.884Z"
   },
   {
    "duration": 11,
    "start_time": "2024-08-29T19:12:48.918Z"
   },
   {
    "duration": 12,
    "start_time": "2024-08-29T19:12:48.930Z"
   },
   {
    "duration": 5,
    "start_time": "2024-08-29T19:12:48.944Z"
   },
   {
    "duration": 17,
    "start_time": "2024-08-29T19:12:48.950Z"
   },
   {
    "duration": 49,
    "start_time": "2024-08-29T19:12:48.969Z"
   },
   {
    "duration": 25,
    "start_time": "2024-08-29T19:12:49.020Z"
   },
   {
    "duration": 12,
    "start_time": "2024-08-29T19:12:49.048Z"
   },
   {
    "duration": 24,
    "start_time": "2024-08-29T19:12:49.062Z"
   },
   {
    "duration": 7,
    "start_time": "2024-08-29T19:12:49.088Z"
   },
   {
    "duration": 7,
    "start_time": "2024-08-29T19:12:49.097Z"
   },
   {
    "duration": 12,
    "start_time": "2024-08-29T19:12:49.113Z"
   },
   {
    "duration": 7,
    "start_time": "2024-08-29T19:12:49.126Z"
   },
   {
    "duration": 17,
    "start_time": "2024-08-29T19:12:49.134Z"
   },
   {
    "duration": 15,
    "start_time": "2024-08-29T19:12:49.152Z"
   },
   {
    "duration": 462,
    "start_time": "2024-08-29T19:12:49.169Z"
   },
   {
    "duration": 7,
    "start_time": "2024-08-29T19:12:49.633Z"
   },
   {
    "duration": 24,
    "start_time": "2024-08-29T19:12:49.641Z"
   },
   {
    "duration": 15,
    "start_time": "2024-08-29T19:12:49.667Z"
   },
   {
    "duration": 300,
    "start_time": "2024-08-29T19:12:49.684Z"
   },
   {
    "duration": 4,
    "start_time": "2024-08-29T19:12:49.985Z"
   },
   {
    "duration": 330,
    "start_time": "2024-08-29T19:13:02.910Z"
   },
   {
    "duration": 9,
    "start_time": "2024-08-29T19:13:25.289Z"
   },
   {
    "duration": 5,
    "start_time": "2024-08-29T19:13:35.836Z"
   },
   {
    "duration": 7,
    "start_time": "2024-08-29T19:13:37.755Z"
   },
   {
    "duration": 16,
    "start_time": "2024-08-29T19:15:06.380Z"
   },
   {
    "duration": 1149,
    "start_time": "2024-08-29T19:15:30.246Z"
   },
   {
    "duration": 64,
    "start_time": "2024-08-29T19:15:31.398Z"
   },
   {
    "duration": 19,
    "start_time": "2024-08-29T19:15:31.467Z"
   },
   {
    "duration": 16,
    "start_time": "2024-08-29T19:15:31.488Z"
   },
   {
    "duration": 15,
    "start_time": "2024-08-29T19:15:31.506Z"
   },
   {
    "duration": 11,
    "start_time": "2024-08-29T19:15:31.523Z"
   },
   {
    "duration": 18,
    "start_time": "2024-08-29T19:15:31.536Z"
   },
   {
    "duration": 12,
    "start_time": "2024-08-29T19:15:31.556Z"
   },
   {
    "duration": 38,
    "start_time": "2024-08-29T19:15:31.569Z"
   },
   {
    "duration": 5,
    "start_time": "2024-08-29T19:15:31.609Z"
   },
   {
    "duration": 21,
    "start_time": "2024-08-29T19:15:31.615Z"
   },
   {
    "duration": 6,
    "start_time": "2024-08-29T19:15:31.637Z"
   },
   {
    "duration": 34,
    "start_time": "2024-08-29T19:15:31.645Z"
   },
   {
    "duration": 32,
    "start_time": "2024-08-29T19:15:31.681Z"
   },
   {
    "duration": 9,
    "start_time": "2024-08-29T19:15:31.714Z"
   },
   {
    "duration": 8,
    "start_time": "2024-08-29T19:15:31.725Z"
   },
   {
    "duration": 10,
    "start_time": "2024-08-29T19:15:31.734Z"
   },
   {
    "duration": 18,
    "start_time": "2024-08-29T19:15:31.746Z"
   },
   {
    "duration": 9,
    "start_time": "2024-08-29T19:15:31.765Z"
   },
   {
    "duration": 32,
    "start_time": "2024-08-29T19:15:31.776Z"
   },
   {
    "duration": 16,
    "start_time": "2024-08-29T19:15:31.810Z"
   },
   {
    "duration": 454,
    "start_time": "2024-08-29T19:15:31.827Z"
   },
   {
    "duration": 7,
    "start_time": "2024-08-29T19:15:32.282Z"
   },
   {
    "duration": 28,
    "start_time": "2024-08-29T19:15:32.291Z"
   },
   {
    "duration": 17,
    "start_time": "2024-08-29T19:15:32.320Z"
   },
   {
    "duration": 301,
    "start_time": "2024-08-29T19:15:32.339Z"
   },
   {
    "duration": 4,
    "start_time": "2024-08-29T19:15:32.642Z"
   },
   {
    "duration": 96,
    "start_time": "2024-08-29T19:15:32.648Z"
   },
   {
    "duration": 14,
    "start_time": "2024-08-29T19:16:02.398Z"
   },
   {
    "duration": 16,
    "start_time": "2024-08-29T19:16:48.827Z"
   },
   {
    "duration": 5,
    "start_time": "2024-08-29T19:19:06.157Z"
   },
   {
    "duration": 112,
    "start_time": "2024-08-29T19:20:20.548Z"
   },
   {
    "duration": 24,
    "start_time": "2024-08-29T19:21:11.110Z"
   },
   {
    "duration": 24,
    "start_time": "2024-08-29T19:22:21.436Z"
   },
   {
    "duration": 18,
    "start_time": "2024-08-29T19:23:18.454Z"
   },
   {
    "duration": 370,
    "start_time": "2024-08-29T19:23:25.329Z"
   },
   {
    "duration": 291,
    "start_time": "2024-08-29T19:23:34.217Z"
   },
   {
    "duration": 387,
    "start_time": "2024-08-29T19:23:52.352Z"
   },
   {
    "duration": 304,
    "start_time": "2024-08-29T19:23:59.348Z"
   },
   {
    "duration": 279,
    "start_time": "2024-08-29T19:24:14.369Z"
   },
   {
    "duration": 5,
    "start_time": "2024-08-29T19:25:29.958Z"
   },
   {
    "duration": 283,
    "start_time": "2024-08-29T19:27:22.042Z"
   },
   {
    "duration": 19,
    "start_time": "2024-08-29T19:29:16.549Z"
   },
   {
    "duration": 18,
    "start_time": "2024-08-29T19:29:21.055Z"
   },
   {
    "duration": 1239,
    "start_time": "2024-08-29T19:29:43.555Z"
   },
   {
    "duration": 62,
    "start_time": "2024-08-29T19:29:44.796Z"
   },
   {
    "duration": 19,
    "start_time": "2024-08-29T19:29:44.860Z"
   },
   {
    "duration": 16,
    "start_time": "2024-08-29T19:29:44.881Z"
   },
   {
    "duration": 15,
    "start_time": "2024-08-29T19:29:44.899Z"
   },
   {
    "duration": 10,
    "start_time": "2024-08-29T19:29:44.916Z"
   },
   {
    "duration": 15,
    "start_time": "2024-08-29T19:29:44.927Z"
   },
   {
    "duration": 9,
    "start_time": "2024-08-29T19:29:44.944Z"
   },
   {
    "duration": 10,
    "start_time": "2024-08-29T19:29:44.955Z"
   },
   {
    "duration": 38,
    "start_time": "2024-08-29T19:29:44.967Z"
   },
   {
    "duration": 15,
    "start_time": "2024-08-29T19:29:45.007Z"
   },
   {
    "duration": 29,
    "start_time": "2024-08-29T19:29:45.023Z"
   },
   {
    "duration": 57,
    "start_time": "2024-08-29T19:29:45.054Z"
   },
   {
    "duration": 32,
    "start_time": "2024-08-29T19:29:45.115Z"
   },
   {
    "duration": 38,
    "start_time": "2024-08-29T19:29:45.149Z"
   },
   {
    "duration": 9,
    "start_time": "2024-08-29T19:29:45.189Z"
   },
   {
    "duration": 9,
    "start_time": "2024-08-29T19:29:45.200Z"
   },
   {
    "duration": 24,
    "start_time": "2024-08-29T19:29:45.211Z"
   },
   {
    "duration": 6,
    "start_time": "2024-08-29T19:29:45.238Z"
   },
   {
    "duration": 31,
    "start_time": "2024-08-29T19:29:45.246Z"
   },
   {
    "duration": 17,
    "start_time": "2024-08-29T19:29:45.278Z"
   },
   {
    "duration": 508,
    "start_time": "2024-08-29T19:29:45.297Z"
   },
   {
    "duration": 7,
    "start_time": "2024-08-29T19:29:45.807Z"
   },
   {
    "duration": 33,
    "start_time": "2024-08-29T19:29:45.816Z"
   },
   {
    "duration": 24,
    "start_time": "2024-08-29T19:29:45.852Z"
   },
   {
    "duration": 320,
    "start_time": "2024-08-29T19:29:45.905Z"
   },
   {
    "duration": 5,
    "start_time": "2024-08-29T19:29:46.227Z"
   },
   {
    "duration": 18,
    "start_time": "2024-08-29T19:29:46.234Z"
   },
   {
    "duration": 311,
    "start_time": "2024-08-29T19:29:46.253Z"
   },
   {
    "duration": 16,
    "start_time": "2024-08-29T19:30:12.032Z"
   },
   {
    "duration": 18,
    "start_time": "2024-08-29T19:31:05.315Z"
   },
   {
    "duration": 18,
    "start_time": "2024-08-29T19:31:48.850Z"
   },
   {
    "duration": 1282,
    "start_time": "2024-08-29T19:31:56.046Z"
   },
   {
    "duration": 64,
    "start_time": "2024-08-29T19:31:57.330Z"
   },
   {
    "duration": 28,
    "start_time": "2024-08-29T19:31:57.395Z"
   },
   {
    "duration": 42,
    "start_time": "2024-08-29T19:31:57.425Z"
   },
   {
    "duration": 22,
    "start_time": "2024-08-29T19:31:57.470Z"
   },
   {
    "duration": 14,
    "start_time": "2024-08-29T19:31:57.494Z"
   },
   {
    "duration": 20,
    "start_time": "2024-08-29T19:31:57.510Z"
   },
   {
    "duration": 10,
    "start_time": "2024-08-29T19:31:57.532Z"
   },
   {
    "duration": 10,
    "start_time": "2024-08-29T19:31:57.544Z"
   },
   {
    "duration": 11,
    "start_time": "2024-08-29T19:31:57.555Z"
   },
   {
    "duration": 56,
    "start_time": "2024-08-29T19:31:57.568Z"
   },
   {
    "duration": 5,
    "start_time": "2024-08-29T19:31:57.625Z"
   },
   {
    "duration": 14,
    "start_time": "2024-08-29T19:31:57.632Z"
   },
   {
    "duration": 11,
    "start_time": "2024-08-29T19:31:57.649Z"
   },
   {
    "duration": 10,
    "start_time": "2024-08-29T19:31:57.662Z"
   },
   {
    "duration": 5,
    "start_time": "2024-08-29T19:31:57.674Z"
   },
   {
    "duration": 33,
    "start_time": "2024-08-29T19:31:57.680Z"
   },
   {
    "duration": 10,
    "start_time": "2024-08-29T19:31:57.718Z"
   },
   {
    "duration": 24,
    "start_time": "2024-08-29T19:31:57.729Z"
   },
   {
    "duration": 28,
    "start_time": "2024-08-29T19:31:57.754Z"
   },
   {
    "duration": 23,
    "start_time": "2024-08-29T19:31:57.784Z"
   },
   {
    "duration": 473,
    "start_time": "2024-08-29T19:31:57.810Z"
   },
   {
    "duration": 7,
    "start_time": "2024-08-29T19:31:58.285Z"
   },
   {
    "duration": 32,
    "start_time": "2024-08-29T19:31:58.294Z"
   },
   {
    "duration": 15,
    "start_time": "2024-08-29T19:31:58.327Z"
   },
   {
    "duration": 306,
    "start_time": "2024-08-29T19:31:58.343Z"
   },
   {
    "duration": 4,
    "start_time": "2024-08-29T19:31:58.651Z"
   },
   {
    "duration": 16,
    "start_time": "2024-08-29T19:31:58.656Z"
   },
   {
    "duration": 42,
    "start_time": "2024-08-29T19:31:58.673Z"
   },
   {
    "duration": 303,
    "start_time": "2024-08-29T19:31:58.717Z"
   },
   {
    "duration": 115,
    "start_time": "2024-08-29T19:34:12.016Z"
   },
   {
    "duration": 14,
    "start_time": "2024-08-29T19:34:49.376Z"
   },
   {
    "duration": 1033,
    "start_time": "2024-08-29T19:40:17.732Z"
   },
   {
    "duration": 969,
    "start_time": "2024-08-29T19:40:57.317Z"
   },
   {
    "duration": 64,
    "start_time": "2024-08-29T19:45:55.801Z"
   },
   {
    "duration": 65,
    "start_time": "2024-08-29T19:46:17.050Z"
   },
   {
    "duration": 21,
    "start_time": "2024-08-29T19:46:37.670Z"
   },
   {
    "duration": 19,
    "start_time": "2024-08-29T19:46:53.154Z"
   },
   {
    "duration": 19,
    "start_time": "2024-08-29T19:47:01.257Z"
   },
   {
    "duration": 18,
    "start_time": "2024-08-29T19:56:10.706Z"
   },
   {
    "duration": 21,
    "start_time": "2024-08-29T19:59:46.691Z"
   },
   {
    "duration": 1218,
    "start_time": "2024-08-29T19:59:54.616Z"
   },
   {
    "duration": 63,
    "start_time": "2024-08-29T19:59:55.837Z"
   },
   {
    "duration": 18,
    "start_time": "2024-08-29T19:59:55.901Z"
   },
   {
    "duration": 27,
    "start_time": "2024-08-29T19:59:55.921Z"
   },
   {
    "duration": 20,
    "start_time": "2024-08-29T19:59:55.950Z"
   },
   {
    "duration": 13,
    "start_time": "2024-08-29T19:59:55.972Z"
   },
   {
    "duration": 63,
    "start_time": "2024-08-29T19:59:55.987Z"
   },
   {
    "duration": 38,
    "start_time": "2024-08-29T19:59:56.052Z"
   },
   {
    "duration": 12,
    "start_time": "2024-08-29T19:59:56.091Z"
   },
   {
    "duration": 5,
    "start_time": "2024-08-29T19:59:56.105Z"
   },
   {
    "duration": 15,
    "start_time": "2024-08-29T19:59:56.111Z"
   },
   {
    "duration": 10,
    "start_time": "2024-08-29T19:59:56.127Z"
   },
   {
    "duration": 17,
    "start_time": "2024-08-29T19:59:56.138Z"
   },
   {
    "duration": 26,
    "start_time": "2024-08-29T19:59:56.158Z"
   },
   {
    "duration": 20,
    "start_time": "2024-08-29T19:59:56.186Z"
   },
   {
    "duration": 5,
    "start_time": "2024-08-29T19:59:56.208Z"
   },
   {
    "duration": 8,
    "start_time": "2024-08-29T19:59:56.215Z"
   },
   {
    "duration": 28,
    "start_time": "2024-08-29T19:59:56.224Z"
   },
   {
    "duration": 14,
    "start_time": "2024-08-29T19:59:56.254Z"
   },
   {
    "duration": 16,
    "start_time": "2024-08-29T19:59:56.270Z"
   },
   {
    "duration": 28,
    "start_time": "2024-08-29T19:59:56.288Z"
   },
   {
    "duration": 433,
    "start_time": "2024-08-29T19:59:56.317Z"
   },
   {
    "duration": 7,
    "start_time": "2024-08-29T19:59:56.751Z"
   },
   {
    "duration": 27,
    "start_time": "2024-08-29T19:59:56.760Z"
   },
   {
    "duration": 24,
    "start_time": "2024-08-29T19:59:56.789Z"
   },
   {
    "duration": 285,
    "start_time": "2024-08-29T19:59:56.814Z"
   },
   {
    "duration": 4,
    "start_time": "2024-08-29T19:59:57.105Z"
   },
   {
    "duration": 19,
    "start_time": "2024-08-29T19:59:57.111Z"
   },
   {
    "duration": 20,
    "start_time": "2024-08-29T19:59:57.132Z"
   },
   {
    "duration": 129,
    "start_time": "2024-08-29T19:59:57.153Z"
   },
   {
    "duration": 19,
    "start_time": "2024-08-29T20:01:12.589Z"
   },
   {
    "duration": 68,
    "start_time": "2024-08-29T20:02:00.691Z"
   },
   {
    "duration": 19,
    "start_time": "2024-08-29T20:02:31.761Z"
   },
   {
    "duration": 19,
    "start_time": "2024-08-29T20:03:42.969Z"
   },
   {
    "duration": 19,
    "start_time": "2024-08-29T20:05:01.236Z"
   },
   {
    "duration": 29,
    "start_time": "2024-08-29T20:05:28.122Z"
   },
   {
    "duration": 4,
    "start_time": "2024-08-29T20:06:03.392Z"
   },
   {
    "duration": 1338,
    "start_time": "2024-08-29T20:06:53.546Z"
   },
   {
    "duration": 1342,
    "start_time": "2024-08-29T20:07:05.631Z"
   },
   {
    "duration": 1500,
    "start_time": "2024-08-29T20:08:16.014Z"
   },
   {
    "duration": 1527,
    "start_time": "2024-08-29T20:08:42.681Z"
   },
   {
    "duration": 18,
    "start_time": "2024-08-29T20:09:11.262Z"
   },
   {
    "duration": 22,
    "start_time": "2024-08-29T20:09:46.847Z"
   },
   {
    "duration": 1797,
    "start_time": "2024-08-29T20:13:38.676Z"
   },
   {
    "duration": 171,
    "start_time": "2024-08-29T20:15:00.794Z"
   },
   {
    "duration": 20,
    "start_time": "2024-08-29T20:15:19.582Z"
   },
   {
    "duration": 310,
    "start_time": "2024-08-29T20:15:36.460Z"
   },
   {
    "duration": 213,
    "start_time": "2024-08-29T20:16:42.877Z"
   },
   {
    "duration": 351,
    "start_time": "2024-08-29T20:21:12.749Z"
   },
   {
    "duration": 406,
    "start_time": "2024-08-29T20:21:25.663Z"
   },
   {
    "duration": 421,
    "start_time": "2024-08-29T20:21:32.200Z"
   },
   {
    "duration": 391,
    "start_time": "2024-08-29T20:21:56.214Z"
   },
   {
    "duration": 415,
    "start_time": "2024-08-29T20:22:00.004Z"
   },
   {
    "duration": 396,
    "start_time": "2024-08-29T20:22:36.038Z"
   },
   {
    "duration": 394,
    "start_time": "2024-08-29T20:22:46.679Z"
   },
   {
    "duration": 362,
    "start_time": "2024-08-29T20:28:58.804Z"
   },
   {
    "duration": 355,
    "start_time": "2024-08-29T20:31:00.550Z"
   },
   {
    "duration": 1209,
    "start_time": "2024-08-29T20:31:06.370Z"
   },
   {
    "duration": 64,
    "start_time": "2024-08-29T20:31:07.581Z"
   },
   {
    "duration": 18,
    "start_time": "2024-08-29T20:31:07.647Z"
   },
   {
    "duration": 21,
    "start_time": "2024-08-29T20:31:07.667Z"
   },
   {
    "duration": 19,
    "start_time": "2024-08-29T20:31:07.690Z"
   },
   {
    "duration": 24,
    "start_time": "2024-08-29T20:31:07.711Z"
   },
   {
    "duration": 18,
    "start_time": "2024-08-29T20:31:07.737Z"
   },
   {
    "duration": 16,
    "start_time": "2024-08-29T20:31:07.757Z"
   },
   {
    "duration": 12,
    "start_time": "2024-08-29T20:31:07.774Z"
   },
   {
    "duration": 5,
    "start_time": "2024-08-29T20:31:07.787Z"
   },
   {
    "duration": 30,
    "start_time": "2024-08-29T20:31:07.794Z"
   },
   {
    "duration": 10,
    "start_time": "2024-08-29T20:31:07.826Z"
   },
   {
    "duration": 26,
    "start_time": "2024-08-29T20:31:07.837Z"
   },
   {
    "duration": 13,
    "start_time": "2024-08-29T20:31:07.866Z"
   },
   {
    "duration": 9,
    "start_time": "2024-08-29T20:31:07.881Z"
   },
   {
    "duration": 12,
    "start_time": "2024-08-29T20:31:07.891Z"
   },
   {
    "duration": 6,
    "start_time": "2024-08-29T20:31:07.905Z"
   },
   {
    "duration": 18,
    "start_time": "2024-08-29T20:31:07.912Z"
   },
   {
    "duration": 7,
    "start_time": "2024-08-29T20:31:07.932Z"
   },
   {
    "duration": 25,
    "start_time": "2024-08-29T20:31:07.941Z"
   },
   {
    "duration": 41,
    "start_time": "2024-08-29T20:31:07.968Z"
   },
   {
    "duration": 435,
    "start_time": "2024-08-29T20:31:08.011Z"
   },
   {
    "duration": 7,
    "start_time": "2024-08-29T20:31:08.447Z"
   },
   {
    "duration": 18,
    "start_time": "2024-08-29T20:31:08.456Z"
   },
   {
    "duration": 37,
    "start_time": "2024-08-29T20:31:08.476Z"
   },
   {
    "duration": 292,
    "start_time": "2024-08-29T20:31:08.515Z"
   },
   {
    "duration": 5,
    "start_time": "2024-08-29T20:31:08.809Z"
   },
   {
    "duration": 14,
    "start_time": "2024-08-29T20:31:08.816Z"
   },
   {
    "duration": 16,
    "start_time": "2024-08-29T20:31:08.832Z"
   },
   {
    "duration": 371,
    "start_time": "2024-08-29T20:31:08.850Z"
   },
   {
    "duration": 336,
    "start_time": "2024-08-29T20:31:26.776Z"
   },
   {
    "duration": 350,
    "start_time": "2024-08-29T20:32:59.058Z"
   },
   {
    "duration": 367,
    "start_time": "2024-08-29T20:33:27.072Z"
   },
   {
    "duration": 20,
    "start_time": "2024-08-29T20:34:48.690Z"
   },
   {
    "duration": 1254,
    "start_time": "2024-08-29T20:34:58.239Z"
   },
   {
    "duration": 65,
    "start_time": "2024-08-29T20:34:59.495Z"
   },
   {
    "duration": 18,
    "start_time": "2024-08-29T20:34:59.561Z"
   },
   {
    "duration": 15,
    "start_time": "2024-08-29T20:34:59.581Z"
   },
   {
    "duration": 15,
    "start_time": "2024-08-29T20:34:59.599Z"
   },
   {
    "duration": 11,
    "start_time": "2024-08-29T20:34:59.616Z"
   },
   {
    "duration": 65,
    "start_time": "2024-08-29T20:34:59.628Z"
   },
   {
    "duration": 9,
    "start_time": "2024-08-29T20:34:59.695Z"
   },
   {
    "duration": 10,
    "start_time": "2024-08-29T20:34:59.705Z"
   },
   {
    "duration": 5,
    "start_time": "2024-08-29T20:34:59.717Z"
   },
   {
    "duration": 17,
    "start_time": "2024-08-29T20:34:59.723Z"
   },
   {
    "duration": 5,
    "start_time": "2024-08-29T20:34:59.741Z"
   },
   {
    "duration": 15,
    "start_time": "2024-08-29T20:34:59.747Z"
   },
   {
    "duration": 43,
    "start_time": "2024-08-29T20:34:59.765Z"
   },
   {
    "duration": 26,
    "start_time": "2024-08-29T20:34:59.810Z"
   },
   {
    "duration": 5,
    "start_time": "2024-08-29T20:34:59.838Z"
   },
   {
    "duration": 6,
    "start_time": "2024-08-29T20:34:59.845Z"
   },
   {
    "duration": 10,
    "start_time": "2024-08-29T20:34:59.853Z"
   },
   {
    "duration": 5,
    "start_time": "2024-08-29T20:34:59.864Z"
   },
   {
    "duration": 36,
    "start_time": "2024-08-29T20:34:59.871Z"
   },
   {
    "duration": 16,
    "start_time": "2024-08-29T20:34:59.908Z"
   },
   {
    "duration": 464,
    "start_time": "2024-08-29T20:34:59.926Z"
   },
   {
    "duration": 14,
    "start_time": "2024-08-29T20:35:00.392Z"
   },
   {
    "duration": 34,
    "start_time": "2024-08-29T20:35:00.407Z"
   },
   {
    "duration": 16,
    "start_time": "2024-08-29T20:35:00.443Z"
   },
   {
    "duration": 295,
    "start_time": "2024-08-29T20:35:00.461Z"
   },
   {
    "duration": 6,
    "start_time": "2024-08-29T20:35:00.758Z"
   },
   {
    "duration": 30,
    "start_time": "2024-08-29T20:35:00.765Z"
   },
   {
    "duration": 24,
    "start_time": "2024-08-29T20:35:00.797Z"
   },
   {
    "duration": 376,
    "start_time": "2024-08-29T20:35:00.823Z"
   },
   {
    "duration": 1247,
    "start_time": "2024-08-29T20:36:33.819Z"
   },
   {
    "duration": 66,
    "start_time": "2024-08-29T20:36:35.068Z"
   },
   {
    "duration": 20,
    "start_time": "2024-08-29T20:36:35.136Z"
   },
   {
    "duration": 19,
    "start_time": "2024-08-29T20:36:35.158Z"
   },
   {
    "duration": 40,
    "start_time": "2024-08-29T20:36:35.180Z"
   },
   {
    "duration": 11,
    "start_time": "2024-08-29T20:36:35.222Z"
   },
   {
    "duration": 34,
    "start_time": "2024-08-29T20:36:35.235Z"
   },
   {
    "duration": 26,
    "start_time": "2024-08-29T20:36:35.271Z"
   },
   {
    "duration": 20,
    "start_time": "2024-08-29T20:36:35.299Z"
   },
   {
    "duration": 6,
    "start_time": "2024-08-29T20:36:35.321Z"
   },
   {
    "duration": 23,
    "start_time": "2024-08-29T20:36:35.330Z"
   },
   {
    "duration": 9,
    "start_time": "2024-08-29T20:36:35.355Z"
   },
   {
    "duration": 45,
    "start_time": "2024-08-29T20:36:35.366Z"
   },
   {
    "duration": 19,
    "start_time": "2024-08-29T20:36:35.414Z"
   },
   {
    "duration": 8,
    "start_time": "2024-08-29T20:36:35.435Z"
   },
   {
    "duration": 17,
    "start_time": "2024-08-29T20:36:35.445Z"
   },
   {
    "duration": 21,
    "start_time": "2024-08-29T20:36:35.465Z"
   },
   {
    "duration": 21,
    "start_time": "2024-08-29T20:36:35.488Z"
   },
   {
    "duration": 5,
    "start_time": "2024-08-29T20:36:35.511Z"
   },
   {
    "duration": 21,
    "start_time": "2024-08-29T20:36:35.518Z"
   },
   {
    "duration": 16,
    "start_time": "2024-08-29T20:36:35.541Z"
   },
   {
    "duration": 483,
    "start_time": "2024-08-29T20:36:35.559Z"
   },
   {
    "duration": 8,
    "start_time": "2024-08-29T20:36:36.044Z"
   },
   {
    "duration": 29,
    "start_time": "2024-08-29T20:36:36.054Z"
   },
   {
    "duration": 29,
    "start_time": "2024-08-29T20:36:36.085Z"
   },
   {
    "duration": 301,
    "start_time": "2024-08-29T20:36:36.115Z"
   },
   {
    "duration": 5,
    "start_time": "2024-08-29T20:36:36.418Z"
   },
   {
    "duration": 36,
    "start_time": "2024-08-29T20:36:36.424Z"
   },
   {
    "duration": 20,
    "start_time": "2024-08-29T20:36:36.462Z"
   },
   {
    "duration": 362,
    "start_time": "2024-08-29T20:36:36.484Z"
   },
   {
    "duration": 531,
    "start_time": "2024-08-29T21:11:21.245Z"
   },
   {
    "duration": 236,
    "start_time": "2024-08-29T21:11:32.151Z"
   },
   {
    "duration": 108,
    "start_time": "2024-08-29T21:12:13.365Z"
   },
   {
    "duration": 217,
    "start_time": "2024-08-29T21:12:19.197Z"
   },
   {
    "duration": 18,
    "start_time": "2024-08-29T21:12:35.933Z"
   },
   {
    "duration": 232,
    "start_time": "2024-08-29T21:12:42.676Z"
   },
   {
    "duration": 244,
    "start_time": "2024-08-29T21:13:14.181Z"
   },
   {
    "duration": 266,
    "start_time": "2024-08-29T21:13:29.207Z"
   },
   {
    "duration": 378,
    "start_time": "2024-08-29T21:13:35.217Z"
   },
   {
    "duration": 249,
    "start_time": "2024-08-29T21:14:17.447Z"
   },
   {
    "duration": 1144,
    "start_time": "2024-08-29T21:16:19.829Z"
   },
   {
    "duration": 65,
    "start_time": "2024-08-29T21:16:20.975Z"
   },
   {
    "duration": 19,
    "start_time": "2024-08-29T21:16:21.041Z"
   },
   {
    "duration": 15,
    "start_time": "2024-08-29T21:16:21.061Z"
   },
   {
    "duration": 30,
    "start_time": "2024-08-29T21:16:21.079Z"
   },
   {
    "duration": 11,
    "start_time": "2024-08-29T21:16:21.111Z"
   },
   {
    "duration": 17,
    "start_time": "2024-08-29T21:16:21.123Z"
   },
   {
    "duration": 19,
    "start_time": "2024-08-29T21:16:21.142Z"
   },
   {
    "duration": 11,
    "start_time": "2024-08-29T21:16:21.163Z"
   },
   {
    "duration": 5,
    "start_time": "2024-08-29T21:16:21.175Z"
   },
   {
    "duration": 35,
    "start_time": "2024-08-29T21:16:21.182Z"
   },
   {
    "duration": 9,
    "start_time": "2024-08-29T21:16:21.219Z"
   },
   {
    "duration": 19,
    "start_time": "2024-08-29T21:16:21.230Z"
   },
   {
    "duration": 19,
    "start_time": "2024-08-29T21:16:21.252Z"
   },
   {
    "duration": 5,
    "start_time": "2024-08-29T21:16:21.273Z"
   },
   {
    "duration": 47,
    "start_time": "2024-08-29T21:16:21.280Z"
   },
   {
    "duration": 31,
    "start_time": "2024-08-29T21:16:21.329Z"
   },
   {
    "duration": 9,
    "start_time": "2024-08-29T21:16:21.361Z"
   },
   {
    "duration": 5,
    "start_time": "2024-08-29T21:16:21.372Z"
   },
   {
    "duration": 17,
    "start_time": "2024-08-29T21:16:21.378Z"
   },
   {
    "duration": 15,
    "start_time": "2024-08-29T21:16:21.396Z"
   },
   {
    "duration": 421,
    "start_time": "2024-08-29T21:16:21.413Z"
   },
   {
    "duration": 7,
    "start_time": "2024-08-29T21:16:21.836Z"
   },
   {
    "duration": 47,
    "start_time": "2024-08-29T21:16:21.844Z"
   },
   {
    "duration": 15,
    "start_time": "2024-08-29T21:16:21.893Z"
   },
   {
    "duration": 281,
    "start_time": "2024-08-29T21:16:21.909Z"
   },
   {
    "duration": 13,
    "start_time": "2024-08-29T21:16:22.192Z"
   },
   {
    "duration": 17,
    "start_time": "2024-08-29T21:16:22.207Z"
   },
   {
    "duration": 18,
    "start_time": "2024-08-29T21:16:22.225Z"
   },
   {
    "duration": 348,
    "start_time": "2024-08-29T21:16:22.244Z"
   },
   {
    "duration": 265,
    "start_time": "2024-08-29T21:16:22.594Z"
   },
   {
    "duration": 100,
    "start_time": "2024-08-29T21:16:49.281Z"
   },
   {
    "duration": 334,
    "start_time": "2024-08-29T21:17:00.195Z"
   },
   {
    "duration": 5,
    "start_time": "2024-08-29T21:27:18.055Z"
   },
   {
    "duration": 15,
    "start_time": "2024-08-29T21:28:27.927Z"
   },
   {
    "duration": 14,
    "start_time": "2024-08-29T21:29:13.051Z"
   },
   {
    "duration": 145,
    "start_time": "2024-08-29T21:30:02.652Z"
   },
   {
    "duration": 144,
    "start_time": "2024-08-29T21:31:04.628Z"
   },
   {
    "duration": 157,
    "start_time": "2024-08-29T21:32:02.090Z"
   },
   {
    "duration": 150,
    "start_time": "2024-08-29T21:32:09.437Z"
   },
   {
    "duration": 697,
    "start_time": "2024-08-29T21:32:48.167Z"
   },
   {
    "duration": 154,
    "start_time": "2024-08-29T21:33:01.174Z"
   },
   {
    "duration": 778,
    "start_time": "2024-08-29T21:33:53.952Z"
   },
   {
    "duration": 436,
    "start_time": "2024-08-29T21:39:48.322Z"
   },
   {
    "duration": 23,
    "start_time": "2024-08-29T21:40:47.061Z"
   },
   {
    "duration": 1133,
    "start_time": "2024-08-29T21:41:23.955Z"
   },
   {
    "duration": 62,
    "start_time": "2024-08-29T21:41:25.090Z"
   },
   {
    "duration": 18,
    "start_time": "2024-08-29T21:41:25.154Z"
   },
   {
    "duration": 16,
    "start_time": "2024-08-29T21:41:25.173Z"
   },
   {
    "duration": 16,
    "start_time": "2024-08-29T21:41:25.192Z"
   },
   {
    "duration": 15,
    "start_time": "2024-08-29T21:41:25.210Z"
   },
   {
    "duration": 15,
    "start_time": "2024-08-29T21:41:25.227Z"
   },
   {
    "duration": 11,
    "start_time": "2024-08-29T21:41:25.244Z"
   },
   {
    "duration": 11,
    "start_time": "2024-08-29T21:41:25.257Z"
   },
   {
    "duration": 35,
    "start_time": "2024-08-29T21:41:25.270Z"
   },
   {
    "duration": 35,
    "start_time": "2024-08-29T21:41:25.308Z"
   },
   {
    "duration": 11,
    "start_time": "2024-08-29T21:41:25.345Z"
   },
   {
    "duration": 21,
    "start_time": "2024-08-29T21:41:25.358Z"
   },
   {
    "duration": 24,
    "start_time": "2024-08-29T21:41:25.384Z"
   },
   {
    "duration": 5,
    "start_time": "2024-08-29T21:41:25.409Z"
   },
   {
    "duration": 5,
    "start_time": "2024-08-29T21:41:25.416Z"
   },
   {
    "duration": 11,
    "start_time": "2024-08-29T21:41:25.423Z"
   },
   {
    "duration": 11,
    "start_time": "2024-08-29T21:41:25.437Z"
   },
   {
    "duration": 7,
    "start_time": "2024-08-29T21:41:25.451Z"
   },
   {
    "duration": 56,
    "start_time": "2024-08-29T21:41:25.460Z"
   },
   {
    "duration": 16,
    "start_time": "2024-08-29T21:41:25.518Z"
   },
   {
    "duration": 441,
    "start_time": "2024-08-29T21:41:25.536Z"
   },
   {
    "duration": 7,
    "start_time": "2024-08-29T21:41:25.979Z"
   },
   {
    "duration": 28,
    "start_time": "2024-08-29T21:41:25.987Z"
   },
   {
    "duration": 14,
    "start_time": "2024-08-29T21:41:26.017Z"
   },
   {
    "duration": 302,
    "start_time": "2024-08-29T21:41:26.032Z"
   },
   {
    "duration": 5,
    "start_time": "2024-08-29T21:41:26.335Z"
   },
   {
    "duration": 39,
    "start_time": "2024-08-29T21:41:26.342Z"
   },
   {
    "duration": 34,
    "start_time": "2024-08-29T21:41:26.382Z"
   },
   {
    "duration": 343,
    "start_time": "2024-08-29T21:41:26.418Z"
   },
   {
    "duration": 265,
    "start_time": "2024-08-29T21:41:26.763Z"
   },
   {
    "duration": 25,
    "start_time": "2024-08-29T21:41:27.030Z"
   },
   {
    "duration": 461,
    "start_time": "2024-08-29T21:41:27.057Z"
   },
   {
    "duration": 154,
    "start_time": "2024-08-29T21:41:27.520Z"
   },
   {
    "duration": 686,
    "start_time": "2024-08-29T21:41:27.676Z"
   },
   {
    "duration": 177,
    "start_time": "2024-08-29T21:41:34.892Z"
   },
   {
    "duration": 103,
    "start_time": "2024-08-29T21:42:41.397Z"
   },
   {
    "duration": 516,
    "start_time": "2024-08-29T21:43:53.390Z"
   },
   {
    "duration": 46,
    "start_time": "2024-09-01T08:14:34.636Z"
   },
   {
    "duration": 7,
    "start_time": "2024-09-01T08:20:08.178Z"
   },
   {
    "duration": 1336,
    "start_time": "2024-09-01T08:20:16.711Z"
   },
   {
    "duration": 240,
    "start_time": "2024-09-01T08:20:18.049Z"
   },
   {
    "duration": 25,
    "start_time": "2024-09-01T08:20:18.290Z"
   },
   {
    "duration": 22,
    "start_time": "2024-09-01T08:20:18.317Z"
   },
   {
    "duration": 18,
    "start_time": "2024-09-01T08:20:18.341Z"
   },
   {
    "duration": 35,
    "start_time": "2024-09-01T08:20:18.361Z"
   },
   {
    "duration": 20,
    "start_time": "2024-09-01T08:20:18.398Z"
   },
   {
    "duration": 10,
    "start_time": "2024-09-01T08:20:18.420Z"
   },
   {
    "duration": 9,
    "start_time": "2024-09-01T08:20:18.431Z"
   },
   {
    "duration": 12,
    "start_time": "2024-09-01T08:20:18.442Z"
   },
   {
    "duration": 42,
    "start_time": "2024-09-01T08:20:18.455Z"
   },
   {
    "duration": 10,
    "start_time": "2024-09-01T08:20:18.498Z"
   },
   {
    "duration": 22,
    "start_time": "2024-09-01T08:20:18.510Z"
   },
   {
    "duration": 18,
    "start_time": "2024-09-01T08:20:18.534Z"
   },
   {
    "duration": 5,
    "start_time": "2024-09-01T08:20:18.553Z"
   },
   {
    "duration": 34,
    "start_time": "2024-09-01T08:20:18.559Z"
   },
   {
    "duration": 6,
    "start_time": "2024-09-01T08:20:18.594Z"
   },
   {
    "duration": 26,
    "start_time": "2024-09-01T08:20:18.601Z"
   },
   {
    "duration": 22,
    "start_time": "2024-09-01T08:20:18.629Z"
   },
   {
    "duration": 4,
    "start_time": "2024-09-01T08:20:18.653Z"
   },
   {
    "duration": 20,
    "start_time": "2024-09-01T08:20:18.659Z"
   },
   {
    "duration": 27,
    "start_time": "2024-09-01T08:20:18.681Z"
   },
   {
    "duration": 447,
    "start_time": "2024-09-01T08:20:18.709Z"
   },
   {
    "duration": 6,
    "start_time": "2024-09-01T08:20:19.158Z"
   },
   {
    "duration": 32,
    "start_time": "2024-09-01T08:20:19.166Z"
   },
   {
    "duration": 19,
    "start_time": "2024-09-01T08:20:19.200Z"
   },
   {
    "duration": 280,
    "start_time": "2024-09-01T08:20:19.221Z"
   },
   {
    "duration": 5,
    "start_time": "2024-09-01T08:20:19.503Z"
   },
   {
    "duration": 21,
    "start_time": "2024-09-01T08:20:19.509Z"
   },
   {
    "duration": 19,
    "start_time": "2024-09-01T08:20:19.531Z"
   },
   {
    "duration": 333,
    "start_time": "2024-09-01T08:20:19.551Z"
   },
   {
    "duration": 260,
    "start_time": "2024-09-01T08:20:19.889Z"
   },
   {
    "duration": 25,
    "start_time": "2024-09-01T08:20:20.150Z"
   },
   {
    "duration": 203,
    "start_time": "2024-09-01T08:20:20.177Z"
   },
   {
    "duration": 217,
    "start_time": "2024-09-01T08:20:20.382Z"
   },
   {
    "duration": 657,
    "start_time": "2024-09-01T08:20:20.601Z"
   },
   {
    "duration": 98,
    "start_time": "2024-09-01T08:21:35.802Z"
   },
   {
    "duration": 43,
    "start_time": "2024-09-01T08:23:05.197Z"
   },
   {
    "duration": 1089,
    "start_time": "2024-09-01T08:23:05.329Z"
   },
   {
    "duration": 60,
    "start_time": "2024-09-01T08:23:06.420Z"
   },
   {
    "duration": 17,
    "start_time": "2024-09-01T08:23:06.482Z"
   },
   {
    "duration": 13,
    "start_time": "2024-09-01T08:23:06.501Z"
   },
   {
    "duration": 17,
    "start_time": "2024-09-01T08:23:06.516Z"
   },
   {
    "duration": 9,
    "start_time": "2024-09-01T08:23:06.534Z"
   },
   {
    "duration": 12,
    "start_time": "2024-09-01T08:23:06.544Z"
   },
   {
    "duration": 36,
    "start_time": "2024-09-01T08:23:06.557Z"
   },
   {
    "duration": 11,
    "start_time": "2024-09-01T08:23:06.594Z"
   },
   {
    "duration": 9,
    "start_time": "2024-09-01T08:23:06.607Z"
   },
   {
    "duration": 16,
    "start_time": "2024-09-01T08:23:06.618Z"
   },
   {
    "duration": 20,
    "start_time": "2024-09-01T08:23:06.636Z"
   },
   {
    "duration": 13,
    "start_time": "2024-09-01T08:23:06.657Z"
   },
   {
    "duration": 19,
    "start_time": "2024-09-01T08:23:06.672Z"
   },
   {
    "duration": 5,
    "start_time": "2024-09-01T08:23:06.693Z"
   },
   {
    "duration": 15,
    "start_time": "2024-09-01T08:23:06.699Z"
   },
   {
    "duration": 25,
    "start_time": "2024-09-01T08:23:06.715Z"
   },
   {
    "duration": 52,
    "start_time": "2024-09-01T08:23:06.742Z"
   },
   {
    "duration": 82,
    "start_time": "2024-09-01T08:23:06.796Z"
   },
   {
    "duration": 0,
    "start_time": "2024-09-01T08:23:06.880Z"
   },
   {
    "duration": 0,
    "start_time": "2024-09-01T08:23:06.881Z"
   },
   {
    "duration": 0,
    "start_time": "2024-09-01T08:23:06.882Z"
   },
   {
    "duration": 0,
    "start_time": "2024-09-01T08:23:06.883Z"
   },
   {
    "duration": 0,
    "start_time": "2024-09-01T08:23:06.886Z"
   },
   {
    "duration": 0,
    "start_time": "2024-09-01T08:23:06.887Z"
   },
   {
    "duration": 0,
    "start_time": "2024-09-01T08:23:06.889Z"
   },
   {
    "duration": 0,
    "start_time": "2024-09-01T08:23:06.890Z"
   },
   {
    "duration": 0,
    "start_time": "2024-09-01T08:23:06.891Z"
   },
   {
    "duration": 0,
    "start_time": "2024-09-01T08:23:06.892Z"
   },
   {
    "duration": 0,
    "start_time": "2024-09-01T08:23:06.893Z"
   },
   {
    "duration": 0,
    "start_time": "2024-09-01T08:23:06.894Z"
   },
   {
    "duration": 0,
    "start_time": "2024-09-01T08:23:06.895Z"
   },
   {
    "duration": 0,
    "start_time": "2024-09-01T08:23:06.895Z"
   },
   {
    "duration": 0,
    "start_time": "2024-09-01T08:23:06.896Z"
   },
   {
    "duration": 0,
    "start_time": "2024-09-01T08:23:06.897Z"
   },
   {
    "duration": 0,
    "start_time": "2024-09-01T08:23:06.899Z"
   },
   {
    "duration": 15,
    "start_time": "2024-09-01T08:25:17.119Z"
   },
   {
    "duration": 58,
    "start_time": "2024-09-01T08:25:49.448Z"
   },
   {
    "duration": 8,
    "start_time": "2024-09-01T08:25:53.389Z"
   },
   {
    "duration": 10,
    "start_time": "2024-09-01T08:26:09.354Z"
   },
   {
    "duration": 1045,
    "start_time": "2024-09-01T08:35:25.035Z"
   },
   {
    "duration": 59,
    "start_time": "2024-09-01T08:35:26.082Z"
   },
   {
    "duration": 16,
    "start_time": "2024-09-01T08:35:26.143Z"
   },
   {
    "duration": 15,
    "start_time": "2024-09-01T08:35:26.160Z"
   },
   {
    "duration": 24,
    "start_time": "2024-09-01T08:35:26.177Z"
   },
   {
    "duration": 17,
    "start_time": "2024-09-01T08:35:26.202Z"
   },
   {
    "duration": 12,
    "start_time": "2024-09-01T08:35:26.220Z"
   },
   {
    "duration": 11,
    "start_time": "2024-09-01T08:35:26.233Z"
   },
   {
    "duration": 9,
    "start_time": "2024-09-01T08:35:26.245Z"
   },
   {
    "duration": 4,
    "start_time": "2024-09-01T08:35:26.256Z"
   },
   {
    "duration": 31,
    "start_time": "2024-09-01T08:35:26.261Z"
   },
   {
    "duration": 37,
    "start_time": "2024-09-01T08:35:26.294Z"
   },
   {
    "duration": 22,
    "start_time": "2024-09-01T08:35:26.333Z"
   },
   {
    "duration": 11,
    "start_time": "2024-09-01T08:35:26.357Z"
   },
   {
    "duration": 4,
    "start_time": "2024-09-01T08:35:26.370Z"
   },
   {
    "duration": 5,
    "start_time": "2024-09-01T08:35:26.376Z"
   },
   {
    "duration": 5,
    "start_time": "2024-09-01T08:35:26.382Z"
   },
   {
    "duration": 39,
    "start_time": "2024-09-01T08:35:26.389Z"
   },
   {
    "duration": 30,
    "start_time": "2024-09-01T08:35:26.430Z"
   },
   {
    "duration": 4,
    "start_time": "2024-09-01T08:35:26.462Z"
   },
   {
    "duration": 17,
    "start_time": "2024-09-01T08:35:26.467Z"
   },
   {
    "duration": 23,
    "start_time": "2024-09-01T08:35:26.485Z"
   },
   {
    "duration": 381,
    "start_time": "2024-09-01T08:35:26.509Z"
   },
   {
    "duration": 6,
    "start_time": "2024-09-01T08:35:26.891Z"
   },
   {
    "duration": 18,
    "start_time": "2024-09-01T08:35:26.898Z"
   },
   {
    "duration": 17,
    "start_time": "2024-09-01T08:35:26.917Z"
   },
   {
    "duration": 256,
    "start_time": "2024-09-01T08:35:26.935Z"
   },
   {
    "duration": 5,
    "start_time": "2024-09-01T08:35:27.192Z"
   },
   {
    "duration": 14,
    "start_time": "2024-09-01T08:35:27.198Z"
   },
   {
    "duration": 16,
    "start_time": "2024-09-01T08:35:27.213Z"
   },
   {
    "duration": 331,
    "start_time": "2024-09-01T08:35:27.230Z"
   },
   {
    "duration": 231,
    "start_time": "2024-09-01T08:35:27.563Z"
   },
   {
    "duration": 20,
    "start_time": "2024-09-01T08:35:27.796Z"
   },
   {
    "duration": 184,
    "start_time": "2024-09-01T08:35:27.818Z"
   },
   {
    "duration": 239,
    "start_time": "2024-09-01T08:35:28.003Z"
   },
   {
    "duration": 636,
    "start_time": "2024-09-01T08:35:28.244Z"
   },
   {
    "duration": 43,
    "start_time": "2024-09-01T08:47:04.537Z"
   },
   {
    "duration": 1082,
    "start_time": "2024-09-01T08:47:10.915Z"
   },
   {
    "duration": 59,
    "start_time": "2024-09-01T08:47:11.999Z"
   },
   {
    "duration": 17,
    "start_time": "2024-09-01T08:47:12.059Z"
   },
   {
    "duration": 14,
    "start_time": "2024-09-01T08:47:12.078Z"
   },
   {
    "duration": 26,
    "start_time": "2024-09-01T08:47:12.094Z"
   },
   {
    "duration": 13,
    "start_time": "2024-09-01T08:47:12.121Z"
   },
   {
    "duration": 25,
    "start_time": "2024-09-01T08:47:12.136Z"
   },
   {
    "duration": 8,
    "start_time": "2024-09-01T08:47:12.163Z"
   },
   {
    "duration": 9,
    "start_time": "2024-09-01T08:47:12.172Z"
   },
   {
    "duration": 8,
    "start_time": "2024-09-01T08:47:12.184Z"
   },
   {
    "duration": 16,
    "start_time": "2024-09-01T08:47:12.194Z"
   },
   {
    "duration": 22,
    "start_time": "2024-09-01T08:47:12.212Z"
   },
   {
    "duration": 17,
    "start_time": "2024-09-01T08:47:12.235Z"
   },
   {
    "duration": 5,
    "start_time": "2024-09-01T08:47:12.253Z"
   },
   {
    "duration": 9,
    "start_time": "2024-09-01T08:47:12.259Z"
   },
   {
    "duration": 8,
    "start_time": "2024-09-01T08:47:12.269Z"
   },
   {
    "duration": 16,
    "start_time": "2024-09-01T08:47:12.279Z"
   },
   {
    "duration": 27,
    "start_time": "2024-09-01T08:47:12.296Z"
   },
   {
    "duration": 4,
    "start_time": "2024-09-01T08:47:12.325Z"
   },
   {
    "duration": 25,
    "start_time": "2024-09-01T08:47:12.330Z"
   },
   {
    "duration": 14,
    "start_time": "2024-09-01T08:47:12.356Z"
   },
   {
    "duration": 379,
    "start_time": "2024-09-01T08:47:12.371Z"
   },
   {
    "duration": 5,
    "start_time": "2024-09-01T08:47:12.752Z"
   },
   {
    "duration": 14,
    "start_time": "2024-09-01T08:47:12.759Z"
   },
   {
    "duration": 26,
    "start_time": "2024-09-01T08:47:12.774Z"
   },
   {
    "duration": 254,
    "start_time": "2024-09-01T08:47:12.802Z"
   },
   {
    "duration": 4,
    "start_time": "2024-09-01T08:47:13.057Z"
   },
   {
    "duration": 26,
    "start_time": "2024-09-01T08:47:13.064Z"
   },
   {
    "duration": 21,
    "start_time": "2024-09-01T08:47:13.092Z"
   },
   {
    "duration": 315,
    "start_time": "2024-09-01T08:47:13.115Z"
   },
   {
    "duration": 227,
    "start_time": "2024-09-01T08:47:13.431Z"
   },
   {
    "duration": 30,
    "start_time": "2024-09-01T08:47:13.660Z"
   },
   {
    "duration": 375,
    "start_time": "2024-09-01T08:47:13.692Z"
   },
   {
    "duration": 141,
    "start_time": "2024-09-01T08:47:14.069Z"
   },
   {
    "duration": 137,
    "start_time": "2024-09-01T08:47:14.211Z"
   },
   {
    "duration": 588,
    "start_time": "2024-09-01T08:48:18.202Z"
   },
   {
    "duration": 606,
    "start_time": "2024-09-01T08:59:17.674Z"
   },
   {
    "duration": 675,
    "start_time": "2024-09-01T08:59:44.491Z"
   },
   {
    "duration": 583,
    "start_time": "2024-09-01T08:59:57.463Z"
   },
   {
    "duration": 613,
    "start_time": "2024-09-01T09:00:13.851Z"
   },
   {
    "duration": 464,
    "start_time": "2024-09-01T09:00:28.097Z"
   },
   {
    "duration": 543,
    "start_time": "2024-09-01T09:00:33.291Z"
   },
   {
    "duration": 1086,
    "start_time": "2024-09-01T09:01:58.922Z"
   },
   {
    "duration": 59,
    "start_time": "2024-09-01T09:02:00.010Z"
   },
   {
    "duration": 17,
    "start_time": "2024-09-01T09:02:00.070Z"
   },
   {
    "duration": 37,
    "start_time": "2024-09-01T09:02:00.088Z"
   },
   {
    "duration": 44,
    "start_time": "2024-09-01T09:02:00.127Z"
   },
   {
    "duration": 35,
    "start_time": "2024-09-01T09:02:00.172Z"
   },
   {
    "duration": 39,
    "start_time": "2024-09-01T09:02:00.209Z"
   },
   {
    "duration": 50,
    "start_time": "2024-09-01T09:02:00.250Z"
   },
   {
    "duration": 40,
    "start_time": "2024-09-01T09:02:00.302Z"
   },
   {
    "duration": 42,
    "start_time": "2024-09-01T09:02:00.344Z"
   },
   {
    "duration": 31,
    "start_time": "2024-09-01T09:02:00.387Z"
   },
   {
    "duration": 16,
    "start_time": "2024-09-01T09:02:00.420Z"
   },
   {
    "duration": 25,
    "start_time": "2024-09-01T09:02:00.438Z"
   },
   {
    "duration": 8,
    "start_time": "2024-09-01T09:02:00.464Z"
   },
   {
    "duration": 7,
    "start_time": "2024-09-01T09:02:00.473Z"
   },
   {
    "duration": 12,
    "start_time": "2024-09-01T09:02:00.481Z"
   },
   {
    "duration": 9,
    "start_time": "2024-09-01T09:02:00.494Z"
   },
   {
    "duration": 19,
    "start_time": "2024-09-01T09:02:00.504Z"
   },
   {
    "duration": 22,
    "start_time": "2024-09-01T09:02:00.524Z"
   },
   {
    "duration": 26,
    "start_time": "2024-09-01T09:02:00.547Z"
   },
   {
    "duration": 15,
    "start_time": "2024-09-01T09:02:00.574Z"
   },
   {
    "duration": 378,
    "start_time": "2024-09-01T09:02:00.590Z"
   },
   {
    "duration": 20,
    "start_time": "2024-09-01T09:02:00.970Z"
   },
   {
    "duration": 23,
    "start_time": "2024-09-01T09:02:00.991Z"
   },
   {
    "duration": 14,
    "start_time": "2024-09-01T09:02:01.016Z"
   },
   {
    "duration": 260,
    "start_time": "2024-09-01T09:02:01.031Z"
   },
   {
    "duration": 3,
    "start_time": "2024-09-01T09:02:01.293Z"
   },
   {
    "duration": 36,
    "start_time": "2024-09-01T09:02:01.299Z"
   },
   {
    "duration": 32,
    "start_time": "2024-09-01T09:02:01.336Z"
   },
   {
    "duration": 334,
    "start_time": "2024-09-01T09:02:01.370Z"
   },
   {
    "duration": 241,
    "start_time": "2024-09-01T09:02:01.705Z"
   },
   {
    "duration": 21,
    "start_time": "2024-09-01T09:02:01.947Z"
   },
   {
    "duration": 692,
    "start_time": "2024-09-01T09:02:01.970Z"
   },
   {
    "duration": 137,
    "start_time": "2024-09-01T09:02:02.664Z"
   },
   {
    "duration": 146,
    "start_time": "2024-09-01T09:02:02.802Z"
   },
   {
    "duration": 572,
    "start_time": "2024-09-01T09:02:13.187Z"
   },
   {
    "duration": 1284,
    "start_time": "2024-09-01T09:32:39.390Z"
   },
   {
    "duration": 62,
    "start_time": "2024-09-01T09:32:40.677Z"
   },
   {
    "duration": 17,
    "start_time": "2024-09-01T09:32:40.741Z"
   },
   {
    "duration": 18,
    "start_time": "2024-09-01T09:32:40.761Z"
   },
   {
    "duration": 21,
    "start_time": "2024-09-01T09:32:40.780Z"
   },
   {
    "duration": 27,
    "start_time": "2024-09-01T09:32:40.803Z"
   },
   {
    "duration": 31,
    "start_time": "2024-09-01T09:32:40.832Z"
   },
   {
    "duration": 9,
    "start_time": "2024-09-01T09:32:40.865Z"
   },
   {
    "duration": 14,
    "start_time": "2024-09-01T09:32:40.876Z"
   },
   {
    "duration": 5,
    "start_time": "2024-09-01T09:32:40.893Z"
   },
   {
    "duration": 20,
    "start_time": "2024-09-01T09:32:40.900Z"
   },
   {
    "duration": 11,
    "start_time": "2024-09-01T09:32:40.922Z"
   },
   {
    "duration": 12,
    "start_time": "2024-09-01T09:32:40.935Z"
   },
   {
    "duration": 5,
    "start_time": "2024-09-01T09:32:40.949Z"
   },
   {
    "duration": 34,
    "start_time": "2024-09-01T09:32:40.956Z"
   },
   {
    "duration": 6,
    "start_time": "2024-09-01T09:32:40.992Z"
   },
   {
    "duration": 15,
    "start_time": "2024-09-01T09:32:40.999Z"
   },
   {
    "duration": 24,
    "start_time": "2024-09-01T09:32:41.016Z"
   },
   {
    "duration": 5,
    "start_time": "2024-09-01T09:32:41.042Z"
   },
   {
    "duration": 15,
    "start_time": "2024-09-01T09:32:41.049Z"
   },
   {
    "duration": 35,
    "start_time": "2024-09-01T09:32:41.066Z"
   },
   {
    "duration": 399,
    "start_time": "2024-09-01T09:32:41.103Z"
   },
   {
    "duration": 7,
    "start_time": "2024-09-01T09:32:41.503Z"
   },
   {
    "duration": 28,
    "start_time": "2024-09-01T09:32:41.511Z"
   },
   {
    "duration": 15,
    "start_time": "2024-09-01T09:32:41.541Z"
   },
   {
    "duration": 279,
    "start_time": "2024-09-01T09:32:41.557Z"
   },
   {
    "duration": 5,
    "start_time": "2024-09-01T09:32:41.839Z"
   },
   {
    "duration": 28,
    "start_time": "2024-09-01T09:32:41.849Z"
   },
   {
    "duration": 32,
    "start_time": "2024-09-01T09:32:41.891Z"
   },
   {
    "duration": 319,
    "start_time": "2024-09-01T09:32:41.925Z"
   },
   {
    "duration": 236,
    "start_time": "2024-09-01T09:32:42.246Z"
   },
   {
    "duration": 27,
    "start_time": "2024-09-01T09:32:42.483Z"
   },
   {
    "duration": 723,
    "start_time": "2024-09-01T09:32:42.512Z"
   },
   {
    "duration": 18,
    "start_time": "2024-09-01T09:32:43.237Z"
   },
   {
    "duration": 19,
    "start_time": "2024-09-01T09:35:51.846Z"
   },
   {
    "duration": 14,
    "start_time": "2024-09-01T09:52:54.251Z"
   },
   {
    "duration": 14,
    "start_time": "2024-09-01T09:54:56.653Z"
   },
   {
    "duration": 106,
    "start_time": "2024-09-01T09:55:31.542Z"
   },
   {
    "duration": 15,
    "start_time": "2024-09-01T09:55:41.240Z"
   },
   {
    "duration": 14,
    "start_time": "2024-09-01T09:55:54.596Z"
   },
   {
    "duration": 16,
    "start_time": "2024-09-01T10:04:40.901Z"
   },
   {
    "duration": 17,
    "start_time": "2024-09-01T10:05:44.906Z"
   },
   {
    "duration": 20,
    "start_time": "2024-09-01T10:06:18.779Z"
   },
   {
    "duration": 933,
    "start_time": "2024-09-01T10:07:36.719Z"
   },
   {
    "duration": 15,
    "start_time": "2024-09-01T10:07:46.686Z"
   },
   {
    "duration": 112,
    "start_time": "2024-09-01T10:10:59.680Z"
   },
   {
    "duration": 112,
    "start_time": "2024-09-01T10:11:48.270Z"
   },
   {
    "duration": 1126,
    "start_time": "2024-09-01T10:13:17.368Z"
   },
   {
    "duration": 109,
    "start_time": "2024-09-01T10:13:22.558Z"
   },
   {
    "duration": 9,
    "start_time": "2024-09-01T10:14:17.748Z"
   },
   {
    "duration": 111,
    "start_time": "2024-09-01T10:15:01.494Z"
   },
   {
    "duration": 42,
    "start_time": "2024-09-01T17:24:33.760Z"
   },
   {
    "duration": 1228,
    "start_time": "2024-09-01T17:24:41.254Z"
   },
   {
    "duration": 234,
    "start_time": "2024-09-01T17:24:42.484Z"
   },
   {
    "duration": 16,
    "start_time": "2024-09-01T17:24:42.719Z"
   },
   {
    "duration": 12,
    "start_time": "2024-09-01T17:24:42.737Z"
   },
   {
    "duration": 12,
    "start_time": "2024-09-01T17:24:42.750Z"
   },
   {
    "duration": 9,
    "start_time": "2024-09-01T17:24:42.763Z"
   },
   {
    "duration": 17,
    "start_time": "2024-09-01T17:24:42.773Z"
   },
   {
    "duration": 14,
    "start_time": "2024-09-01T17:24:42.791Z"
   },
   {
    "duration": 22,
    "start_time": "2024-09-01T17:24:42.806Z"
   },
   {
    "duration": 4,
    "start_time": "2024-09-01T17:24:42.830Z"
   },
   {
    "duration": 20,
    "start_time": "2024-09-01T17:24:42.835Z"
   },
   {
    "duration": 41,
    "start_time": "2024-09-01T17:24:42.856Z"
   },
   {
    "duration": 14,
    "start_time": "2024-09-01T17:24:42.898Z"
   },
   {
    "duration": 4,
    "start_time": "2024-09-01T17:24:42.914Z"
   },
   {
    "duration": 13,
    "start_time": "2024-09-01T17:24:42.919Z"
   },
   {
    "duration": 7,
    "start_time": "2024-09-01T17:24:42.933Z"
   },
   {
    "duration": 10,
    "start_time": "2024-09-01T17:24:42.942Z"
   },
   {
    "duration": 22,
    "start_time": "2024-09-01T17:24:42.953Z"
   },
   {
    "duration": 4,
    "start_time": "2024-09-01T17:24:42.976Z"
   },
   {
    "duration": 17,
    "start_time": "2024-09-01T17:24:42.981Z"
   },
   {
    "duration": 13,
    "start_time": "2024-09-01T17:24:42.999Z"
   },
   {
    "duration": 367,
    "start_time": "2024-09-01T17:24:43.025Z"
   },
   {
    "duration": 6,
    "start_time": "2024-09-01T17:24:43.394Z"
   },
   {
    "duration": 106,
    "start_time": "2024-09-01T17:24:43.401Z"
   },
   {
    "duration": 13,
    "start_time": "2024-09-01T17:24:43.509Z"
   },
   {
    "duration": 241,
    "start_time": "2024-09-01T17:24:43.523Z"
   },
   {
    "duration": 5,
    "start_time": "2024-09-01T17:24:43.766Z"
   },
   {
    "duration": 25,
    "start_time": "2024-09-01T17:24:43.774Z"
   },
   {
    "duration": 15,
    "start_time": "2024-09-01T17:24:43.801Z"
   },
   {
    "duration": 296,
    "start_time": "2024-09-01T17:24:43.818Z"
   },
   {
    "duration": 215,
    "start_time": "2024-09-01T17:24:44.116Z"
   },
   {
    "duration": 21,
    "start_time": "2024-09-01T17:24:44.332Z"
   },
   {
    "duration": 628,
    "start_time": "2024-09-01T17:24:44.354Z"
   },
   {
    "duration": 14,
    "start_time": "2024-09-01T17:24:44.983Z"
   },
   {
    "duration": 54,
    "start_time": "2024-09-01T17:24:44.998Z"
   },
   {
    "duration": 110,
    "start_time": "2024-09-01T17:24:45.053Z"
   },
   {
    "duration": 0,
    "start_time": "2024-09-01T17:24:45.164Z"
   },
   {
    "duration": 0,
    "start_time": "2024-09-01T17:24:45.165Z"
   },
   {
    "duration": 0,
    "start_time": "2024-09-01T17:24:45.167Z"
   },
   {
    "duration": 4,
    "start_time": "2024-09-01T17:24:59.250Z"
   },
   {
    "duration": 1093,
    "start_time": "2024-09-01T17:25:24.425Z"
   },
   {
    "duration": 58,
    "start_time": "2024-09-01T17:25:25.519Z"
   },
   {
    "duration": 15,
    "start_time": "2024-09-01T17:25:25.578Z"
   },
   {
    "duration": 22,
    "start_time": "2024-09-01T17:25:25.595Z"
   },
   {
    "duration": 13,
    "start_time": "2024-09-01T17:25:25.618Z"
   },
   {
    "duration": 9,
    "start_time": "2024-09-01T17:25:25.632Z"
   },
   {
    "duration": 11,
    "start_time": "2024-09-01T17:25:25.642Z"
   },
   {
    "duration": 27,
    "start_time": "2024-09-01T17:25:25.654Z"
   },
   {
    "duration": 10,
    "start_time": "2024-09-01T17:25:25.683Z"
   },
   {
    "duration": 3,
    "start_time": "2024-09-01T17:25:25.696Z"
   },
   {
    "duration": 12,
    "start_time": "2024-09-01T17:25:25.700Z"
   },
   {
    "duration": 14,
    "start_time": "2024-09-01T17:25:25.714Z"
   },
   {
    "duration": 10,
    "start_time": "2024-09-01T17:25:25.729Z"
   },
   {
    "duration": 4,
    "start_time": "2024-09-01T17:25:25.741Z"
   },
   {
    "duration": 6,
    "start_time": "2024-09-01T17:25:25.746Z"
   },
   {
    "duration": 4,
    "start_time": "2024-09-01T17:25:25.753Z"
   },
   {
    "duration": 6,
    "start_time": "2024-09-01T17:25:25.758Z"
   },
   {
    "duration": 15,
    "start_time": "2024-09-01T17:25:25.766Z"
   },
   {
    "duration": 3,
    "start_time": "2024-09-01T17:25:25.783Z"
   },
   {
    "duration": 50,
    "start_time": "2024-09-01T17:25:25.787Z"
   },
   {
    "duration": 14,
    "start_time": "2024-09-01T17:25:25.838Z"
   },
   {
    "duration": 382,
    "start_time": "2024-09-01T17:25:25.854Z"
   },
   {
    "duration": 7,
    "start_time": "2024-09-01T17:25:26.238Z"
   },
   {
    "duration": 15,
    "start_time": "2024-09-01T17:25:26.246Z"
   },
   {
    "duration": 13,
    "start_time": "2024-09-01T17:25:26.262Z"
   },
   {
    "duration": 273,
    "start_time": "2024-09-01T17:25:26.276Z"
   },
   {
    "duration": 4,
    "start_time": "2024-09-01T17:25:26.551Z"
   },
   {
    "duration": 13,
    "start_time": "2024-09-01T17:25:26.557Z"
   },
   {
    "duration": 14,
    "start_time": "2024-09-01T17:25:26.571Z"
   },
   {
    "duration": 304,
    "start_time": "2024-09-01T17:25:26.586Z"
   },
   {
    "duration": 215,
    "start_time": "2024-09-01T17:25:26.891Z"
   },
   {
    "duration": 27,
    "start_time": "2024-09-01T17:25:27.107Z"
   },
   {
    "duration": 643,
    "start_time": "2024-09-01T17:25:27.135Z"
   },
   {
    "duration": 14,
    "start_time": "2024-09-01T17:25:27.779Z"
   },
   {
    "duration": 14,
    "start_time": "2024-09-01T17:25:27.795Z"
   },
   {
    "duration": 26,
    "start_time": "2024-09-01T17:25:27.810Z"
   },
   {
    "duration": 14,
    "start_time": "2024-09-01T17:25:27.837Z"
   },
   {
    "duration": 7,
    "start_time": "2024-09-01T17:25:27.852Z"
   },
   {
    "duration": 16,
    "start_time": "2024-09-01T17:32:30.582Z"
   },
   {
    "duration": 15,
    "start_time": "2024-09-01T17:33:34.916Z"
   },
   {
    "duration": 99,
    "start_time": "2024-09-01T17:33:52.794Z"
   },
   {
    "duration": 16,
    "start_time": "2024-09-01T17:33:58.553Z"
   },
   {
    "duration": 16,
    "start_time": "2024-09-01T17:34:53.096Z"
   },
   {
    "duration": 3,
    "start_time": "2024-09-01T17:42:44.845Z"
   },
   {
    "duration": 3,
    "start_time": "2024-09-01T17:43:07.998Z"
   },
   {
    "duration": 5,
    "start_time": "2024-09-01T17:43:31.911Z"
   },
   {
    "duration": 9,
    "start_time": "2024-09-01T17:43:58.847Z"
   },
   {
    "duration": 8,
    "start_time": "2024-09-01T17:44:16.447Z"
   },
   {
    "duration": 1445,
    "start_time": "2024-09-02T06:53:27.398Z"
   },
   {
    "duration": 218,
    "start_time": "2024-09-02T06:53:28.845Z"
   },
   {
    "duration": 18,
    "start_time": "2024-09-02T06:53:29.065Z"
   },
   {
    "duration": 15,
    "start_time": "2024-09-02T06:53:29.085Z"
   },
   {
    "duration": 16,
    "start_time": "2024-09-02T06:53:29.102Z"
   },
   {
    "duration": 17,
    "start_time": "2024-09-02T06:53:29.120Z"
   },
   {
    "duration": 22,
    "start_time": "2024-09-02T06:53:29.139Z"
   },
   {
    "duration": 39,
    "start_time": "2024-09-02T06:53:29.163Z"
   },
   {
    "duration": 15,
    "start_time": "2024-09-02T06:53:29.205Z"
   },
   {
    "duration": 11,
    "start_time": "2024-09-02T06:53:29.223Z"
   },
   {
    "duration": 21,
    "start_time": "2024-09-02T06:53:29.236Z"
   },
   {
    "duration": 6,
    "start_time": "2024-09-02T06:53:29.259Z"
   },
   {
    "duration": 38,
    "start_time": "2024-09-02T06:53:29.267Z"
   },
   {
    "duration": 9,
    "start_time": "2024-09-02T06:53:29.306Z"
   },
   {
    "duration": 9,
    "start_time": "2024-09-02T06:53:29.316Z"
   },
   {
    "duration": 6,
    "start_time": "2024-09-02T06:53:29.326Z"
   },
   {
    "duration": 8,
    "start_time": "2024-09-02T06:53:29.334Z"
   },
   {
    "duration": 22,
    "start_time": "2024-09-02T06:53:29.343Z"
   },
   {
    "duration": 6,
    "start_time": "2024-09-02T06:53:29.398Z"
   },
   {
    "duration": 18,
    "start_time": "2024-09-02T06:53:29.406Z"
   },
   {
    "duration": 16,
    "start_time": "2024-09-02T06:53:29.426Z"
   },
   {
    "duration": 459,
    "start_time": "2024-09-02T06:53:29.444Z"
   },
   {
    "duration": 7,
    "start_time": "2024-09-02T06:53:29.905Z"
   },
   {
    "duration": 20,
    "start_time": "2024-09-02T06:53:29.914Z"
   },
   {
    "duration": 22,
    "start_time": "2024-09-02T06:53:29.935Z"
   },
   {
    "duration": 349,
    "start_time": "2024-09-02T06:53:29.959Z"
   },
   {
    "duration": 5,
    "start_time": "2024-09-02T06:53:30.310Z"
   },
   {
    "duration": 69,
    "start_time": "2024-09-02T06:53:30.318Z"
   },
   {
    "duration": 76,
    "start_time": "2024-09-02T06:53:30.389Z"
   },
   {
    "duration": 353,
    "start_time": "2024-09-02T06:53:30.467Z"
   },
   {
    "duration": 271,
    "start_time": "2024-09-02T06:53:30.822Z"
   },
   {
    "duration": 26,
    "start_time": "2024-09-02T06:53:31.094Z"
   },
   {
    "duration": 772,
    "start_time": "2024-09-02T06:53:31.122Z"
   },
   {
    "duration": 16,
    "start_time": "2024-09-02T06:53:31.896Z"
   },
   {
    "duration": 24,
    "start_time": "2024-09-02T06:53:31.914Z"
   },
   {
    "duration": 58,
    "start_time": "2024-09-02T06:53:31.940Z"
   },
   {
    "duration": 21,
    "start_time": "2024-09-02T06:53:31.999Z"
   },
   {
    "duration": 27,
    "start_time": "2024-09-02T06:53:32.022Z"
   },
   {
    "duration": 17,
    "start_time": "2024-09-02T06:53:32.051Z"
   },
   {
    "duration": 10,
    "start_time": "2024-09-02T06:53:32.070Z"
   },
   {
    "duration": 28,
    "start_time": "2024-09-02T06:53:32.081Z"
   },
   {
    "duration": 11,
    "start_time": "2024-09-02T06:53:32.111Z"
   },
   {
    "duration": 20,
    "start_time": "2024-09-02T06:53:32.123Z"
   },
   {
    "duration": 667,
    "start_time": "2024-09-02T06:55:31.934Z"
   },
   {
    "duration": 677,
    "start_time": "2024-09-02T06:55:46.691Z"
   },
   {
    "duration": 69,
    "start_time": "2024-09-02T06:56:41.174Z"
   },
   {
    "duration": 59,
    "start_time": "2024-09-02T06:57:12.035Z"
   },
   {
    "duration": 753,
    "start_time": "2024-09-02T06:57:16.797Z"
   },
   {
    "duration": 108,
    "start_time": "2024-09-02T07:07:34.721Z"
   },
   {
    "duration": 22,
    "start_time": "2024-09-02T07:08:39.419Z"
   },
   {
    "duration": 23,
    "start_time": "2024-09-02T07:09:42.787Z"
   },
   {
    "duration": 14,
    "start_time": "2024-09-02T07:11:41.695Z"
   },
   {
    "duration": 15,
    "start_time": "2024-09-02T07:11:49.018Z"
   },
   {
    "duration": 3,
    "start_time": "2024-09-02T07:32:08.376Z"
   },
   {
    "duration": 22,
    "start_time": "2024-09-02T08:13:24.573Z"
   },
   {
    "duration": 1192,
    "start_time": "2024-09-02T08:13:33.450Z"
   },
   {
    "duration": 61,
    "start_time": "2024-09-02T08:13:34.643Z"
   },
   {
    "duration": 20,
    "start_time": "2024-09-02T08:13:34.706Z"
   },
   {
    "duration": 16,
    "start_time": "2024-09-02T08:13:34.729Z"
   },
   {
    "duration": 29,
    "start_time": "2024-09-02T08:13:34.747Z"
   },
   {
    "duration": 24,
    "start_time": "2024-09-02T08:13:34.778Z"
   },
   {
    "duration": 18,
    "start_time": "2024-09-02T08:13:34.804Z"
   },
   {
    "duration": 21,
    "start_time": "2024-09-02T08:13:34.824Z"
   },
   {
    "duration": 19,
    "start_time": "2024-09-02T08:13:34.847Z"
   },
   {
    "duration": 8,
    "start_time": "2024-09-02T08:13:34.868Z"
   },
   {
    "duration": 23,
    "start_time": "2024-09-02T08:13:34.878Z"
   },
   {
    "duration": 5,
    "start_time": "2024-09-02T08:13:34.903Z"
   },
   {
    "duration": 17,
    "start_time": "2024-09-02T08:13:34.910Z"
   },
   {
    "duration": 5,
    "start_time": "2024-09-02T08:13:34.929Z"
   },
   {
    "duration": 16,
    "start_time": "2024-09-02T08:13:34.936Z"
   },
   {
    "duration": 10,
    "start_time": "2024-09-02T08:13:34.954Z"
   },
   {
    "duration": 10,
    "start_time": "2024-09-02T08:13:34.965Z"
   },
   {
    "duration": 40,
    "start_time": "2024-09-02T08:13:34.977Z"
   },
   {
    "duration": 6,
    "start_time": "2024-09-02T08:13:35.018Z"
   },
   {
    "duration": 21,
    "start_time": "2024-09-02T08:13:35.025Z"
   },
   {
    "duration": 23,
    "start_time": "2024-09-02T08:13:35.048Z"
   },
   {
    "duration": 468,
    "start_time": "2024-09-02T08:13:35.072Z"
   },
   {
    "duration": 7,
    "start_time": "2024-09-02T08:13:35.542Z"
   },
   {
    "duration": 26,
    "start_time": "2024-09-02T08:13:35.551Z"
   },
   {
    "duration": 27,
    "start_time": "2024-09-02T08:13:35.578Z"
   },
   {
    "duration": 302,
    "start_time": "2024-09-02T08:13:35.607Z"
   },
   {
    "duration": 6,
    "start_time": "2024-09-02T08:13:35.912Z"
   },
   {
    "duration": 50,
    "start_time": "2024-09-02T08:13:35.923Z"
   },
   {
    "duration": 42,
    "start_time": "2024-09-02T08:13:35.975Z"
   },
   {
    "duration": 360,
    "start_time": "2024-09-02T08:13:36.019Z"
   },
   {
    "duration": 281,
    "start_time": "2024-09-02T08:13:36.381Z"
   },
   {
    "duration": 35,
    "start_time": "2024-09-02T08:13:36.664Z"
   },
   {
    "duration": 782,
    "start_time": "2024-09-02T08:13:36.700Z"
   },
   {
    "duration": 674,
    "start_time": "2024-09-02T08:13:37.484Z"
   },
   {
    "duration": 670,
    "start_time": "2024-09-02T08:13:38.160Z"
   },
   {
    "duration": 17,
    "start_time": "2024-09-02T08:13:38.832Z"
   },
   {
    "duration": 25,
    "start_time": "2024-09-02T08:13:38.851Z"
   },
   {
    "duration": 32,
    "start_time": "2024-09-02T08:13:38.878Z"
   },
   {
    "duration": 22,
    "start_time": "2024-09-02T08:13:38.912Z"
   },
   {
    "duration": 13,
    "start_time": "2024-09-02T08:13:38.935Z"
   },
   {
    "duration": 133,
    "start_time": "2024-09-02T08:13:38.950Z"
   },
   {
    "duration": 19,
    "start_time": "2024-09-02T08:13:39.084Z"
   },
   {
    "duration": 27,
    "start_time": "2024-09-02T08:13:39.105Z"
   },
   {
    "duration": 14,
    "start_time": "2024-09-02T08:13:39.133Z"
   },
   {
    "duration": 24,
    "start_time": "2024-09-02T08:13:39.149Z"
   },
   {
    "duration": 29,
    "start_time": "2024-09-02T08:13:39.175Z"
   },
   {
    "duration": 95,
    "start_time": "2024-09-02T08:13:39.206Z"
   },
   {
    "duration": 9,
    "start_time": "2024-09-02T08:15:54.413Z"
   },
   {
    "duration": 9,
    "start_time": "2024-09-02T08:16:58.881Z"
   },
   {
    "duration": 10,
    "start_time": "2024-09-02T08:17:14.817Z"
   },
   {
    "duration": 107,
    "start_time": "2024-09-02T08:18:19.827Z"
   },
   {
    "duration": 5,
    "start_time": "2024-09-02T08:18:32.435Z"
   },
   {
    "duration": 7,
    "start_time": "2024-09-02T08:19:01.905Z"
   },
   {
    "duration": 10,
    "start_time": "2024-09-02T08:19:16.548Z"
   },
   {
    "duration": 58,
    "start_time": "2024-09-02T08:22:54.913Z"
   },
   {
    "duration": 16,
    "start_time": "2024-09-02T08:25:28.235Z"
   },
   {
    "duration": 18,
    "start_time": "2024-09-02T08:25:34.403Z"
   },
   {
    "duration": 9,
    "start_time": "2024-09-02T08:26:08.214Z"
   },
   {
    "duration": 13,
    "start_time": "2024-09-02T08:26:30.567Z"
   },
   {
    "duration": 13,
    "start_time": "2024-09-02T08:26:38.315Z"
   },
   {
    "duration": 12,
    "start_time": "2024-09-02T08:27:17.794Z"
   },
   {
    "duration": 1124,
    "start_time": "2024-09-02T08:43:32.938Z"
   },
   {
    "duration": 59,
    "start_time": "2024-09-02T08:43:34.064Z"
   },
   {
    "duration": 19,
    "start_time": "2024-09-02T08:43:34.125Z"
   },
   {
    "duration": 16,
    "start_time": "2024-09-02T08:43:34.146Z"
   },
   {
    "duration": 36,
    "start_time": "2024-09-02T08:43:34.164Z"
   },
   {
    "duration": 11,
    "start_time": "2024-09-02T08:43:34.202Z"
   },
   {
    "duration": 16,
    "start_time": "2024-09-02T08:43:34.215Z"
   },
   {
    "duration": 21,
    "start_time": "2024-09-02T08:43:34.233Z"
   },
   {
    "duration": 16,
    "start_time": "2024-09-02T08:43:34.256Z"
   },
   {
    "duration": 58,
    "start_time": "2024-09-02T08:43:34.275Z"
   },
   {
    "duration": 16,
    "start_time": "2024-09-02T08:43:34.334Z"
   },
   {
    "duration": 12,
    "start_time": "2024-09-02T08:43:34.351Z"
   },
   {
    "duration": 18,
    "start_time": "2024-09-02T08:43:34.365Z"
   },
   {
    "duration": 18,
    "start_time": "2024-09-02T08:43:34.385Z"
   },
   {
    "duration": 7,
    "start_time": "2024-09-02T08:43:34.405Z"
   },
   {
    "duration": 10,
    "start_time": "2024-09-02T08:43:34.413Z"
   },
   {
    "duration": 33,
    "start_time": "2024-09-02T08:43:34.426Z"
   },
   {
    "duration": 25,
    "start_time": "2024-09-02T08:43:34.461Z"
   },
   {
    "duration": 5,
    "start_time": "2024-09-02T08:43:34.487Z"
   },
   {
    "duration": 26,
    "start_time": "2024-09-02T08:43:34.493Z"
   },
   {
    "duration": 16,
    "start_time": "2024-09-02T08:43:34.521Z"
   },
   {
    "duration": 452,
    "start_time": "2024-09-02T08:43:34.539Z"
   },
   {
    "duration": 10,
    "start_time": "2024-09-02T08:43:34.992Z"
   },
   {
    "duration": 22,
    "start_time": "2024-09-02T08:43:35.003Z"
   },
   {
    "duration": 15,
    "start_time": "2024-09-02T08:43:35.027Z"
   },
   {
    "duration": 296,
    "start_time": "2024-09-02T08:43:35.043Z"
   },
   {
    "duration": 4,
    "start_time": "2024-09-02T08:43:35.341Z"
   },
   {
    "duration": 46,
    "start_time": "2024-09-02T08:43:35.348Z"
   },
   {
    "duration": 18,
    "start_time": "2024-09-02T08:43:35.396Z"
   },
   {
    "duration": 347,
    "start_time": "2024-09-02T08:43:35.415Z"
   },
   {
    "duration": 264,
    "start_time": "2024-09-02T08:43:35.763Z"
   },
   {
    "duration": 23,
    "start_time": "2024-09-02T08:43:36.029Z"
   },
   {
    "duration": 84,
    "start_time": "2024-09-02T08:43:36.054Z"
   },
   {
    "duration": 0,
    "start_time": "2024-09-02T08:43:36.140Z"
   },
   {
    "duration": 0,
    "start_time": "2024-09-02T08:43:36.141Z"
   },
   {
    "duration": 0,
    "start_time": "2024-09-02T08:43:36.143Z"
   },
   {
    "duration": 0,
    "start_time": "2024-09-02T08:43:36.145Z"
   },
   {
    "duration": 0,
    "start_time": "2024-09-02T08:43:36.146Z"
   },
   {
    "duration": 0,
    "start_time": "2024-09-02T08:43:36.148Z"
   },
   {
    "duration": 0,
    "start_time": "2024-09-02T08:43:36.149Z"
   },
   {
    "duration": 0,
    "start_time": "2024-09-02T08:43:36.151Z"
   },
   {
    "duration": 0,
    "start_time": "2024-09-02T08:43:36.152Z"
   },
   {
    "duration": 0,
    "start_time": "2024-09-02T08:43:36.154Z"
   },
   {
    "duration": 0,
    "start_time": "2024-09-02T08:43:36.155Z"
   },
   {
    "duration": 0,
    "start_time": "2024-09-02T08:43:36.157Z"
   },
   {
    "duration": 0,
    "start_time": "2024-09-02T08:43:36.158Z"
   },
   {
    "duration": 0,
    "start_time": "2024-09-02T08:43:36.160Z"
   },
   {
    "duration": 0,
    "start_time": "2024-09-02T08:43:36.161Z"
   },
   {
    "duration": 0,
    "start_time": "2024-09-02T08:43:36.163Z"
   },
   {
    "duration": 1125,
    "start_time": "2024-09-02T08:44:49.448Z"
   },
   {
    "duration": 61,
    "start_time": "2024-09-02T08:44:50.576Z"
   },
   {
    "duration": 18,
    "start_time": "2024-09-02T08:44:50.638Z"
   },
   {
    "duration": 115,
    "start_time": "2024-09-02T08:44:50.658Z"
   },
   {
    "duration": 38,
    "start_time": "2024-09-02T08:44:50.774Z"
   },
   {
    "duration": 46,
    "start_time": "2024-09-02T08:44:50.814Z"
   },
   {
    "duration": 23,
    "start_time": "2024-09-02T08:44:50.861Z"
   },
   {
    "duration": 27,
    "start_time": "2024-09-02T08:44:50.885Z"
   },
   {
    "duration": 41,
    "start_time": "2024-09-02T08:44:50.914Z"
   },
   {
    "duration": 13,
    "start_time": "2024-09-02T08:44:50.958Z"
   },
   {
    "duration": 18,
    "start_time": "2024-09-02T08:44:50.973Z"
   },
   {
    "duration": 8,
    "start_time": "2024-09-02T08:44:50.993Z"
   },
   {
    "duration": 31,
    "start_time": "2024-09-02T08:44:51.002Z"
   },
   {
    "duration": 38,
    "start_time": "2024-09-02T08:44:51.034Z"
   },
   {
    "duration": 22,
    "start_time": "2024-09-02T08:44:51.074Z"
   },
   {
    "duration": 33,
    "start_time": "2024-09-02T08:44:51.098Z"
   },
   {
    "duration": 48,
    "start_time": "2024-09-02T08:44:51.132Z"
   },
   {
    "duration": 43,
    "start_time": "2024-09-02T08:44:51.182Z"
   },
   {
    "duration": 20,
    "start_time": "2024-09-02T08:44:51.227Z"
   },
   {
    "duration": 39,
    "start_time": "2024-09-02T08:44:51.248Z"
   },
   {
    "duration": 16,
    "start_time": "2024-09-02T08:44:51.289Z"
   },
   {
    "duration": 457,
    "start_time": "2024-09-02T08:44:51.307Z"
   },
   {
    "duration": 7,
    "start_time": "2024-09-02T08:44:51.766Z"
   },
   {
    "duration": 35,
    "start_time": "2024-09-02T08:44:51.774Z"
   },
   {
    "duration": 19,
    "start_time": "2024-09-02T08:44:51.811Z"
   },
   {
    "duration": 297,
    "start_time": "2024-09-02T08:44:51.831Z"
   },
   {
    "duration": 4,
    "start_time": "2024-09-02T08:44:52.130Z"
   },
   {
    "duration": 32,
    "start_time": "2024-09-02T08:44:52.138Z"
   },
   {
    "duration": 28,
    "start_time": "2024-09-02T08:44:52.172Z"
   },
   {
    "duration": 363,
    "start_time": "2024-09-02T08:44:52.202Z"
   },
   {
    "duration": 262,
    "start_time": "2024-09-02T08:44:52.567Z"
   },
   {
    "duration": 29,
    "start_time": "2024-09-02T08:44:52.831Z"
   },
   {
    "duration": 800,
    "start_time": "2024-09-02T08:44:52.862Z"
   },
   {
    "duration": 665,
    "start_time": "2024-09-02T08:44:53.664Z"
   },
   {
    "duration": 616,
    "start_time": "2024-09-02T08:44:54.331Z"
   },
   {
    "duration": 15,
    "start_time": "2024-09-02T08:44:54.949Z"
   },
   {
    "duration": 34,
    "start_time": "2024-09-02T08:44:54.966Z"
   },
   {
    "duration": 19,
    "start_time": "2024-09-02T08:44:55.002Z"
   },
   {
    "duration": 40,
    "start_time": "2024-09-02T08:44:55.023Z"
   },
   {
    "duration": 22,
    "start_time": "2024-09-02T08:44:55.065Z"
   },
   {
    "duration": 116,
    "start_time": "2024-09-02T08:44:55.089Z"
   },
   {
    "duration": 9,
    "start_time": "2024-09-02T08:44:55.206Z"
   },
   {
    "duration": 25,
    "start_time": "2024-09-02T08:44:55.217Z"
   },
   {
    "duration": 37,
    "start_time": "2024-09-02T08:44:55.244Z"
   },
   {
    "duration": 21,
    "start_time": "2024-09-02T08:44:55.283Z"
   },
   {
    "duration": 17,
    "start_time": "2024-09-02T08:44:55.305Z"
   },
   {
    "duration": 147,
    "start_time": "2024-09-02T08:44:55.323Z"
   },
   {
    "duration": 0,
    "start_time": "2024-09-02T08:44:55.471Z"
   },
   {
    "duration": 0,
    "start_time": "2024-09-02T08:44:55.473Z"
   },
   {
    "duration": 8,
    "start_time": "2024-09-02T08:47:19.999Z"
   },
   {
    "duration": 7,
    "start_time": "2024-09-02T08:47:57.780Z"
   },
   {
    "duration": 10,
    "start_time": "2024-09-02T08:47:58.983Z"
   },
   {
    "duration": 13,
    "start_time": "2024-09-02T08:48:15.112Z"
   },
   {
    "duration": 11,
    "start_time": "2024-09-02T09:34:16.479Z"
   },
   {
    "duration": 958,
    "start_time": "2024-09-02T09:34:21.847Z"
   },
   {
    "duration": 276,
    "start_time": "2024-09-02T09:40:56.713Z"
   },
   {
    "duration": 270,
    "start_time": "2024-09-02T09:41:52.263Z"
   },
   {
    "duration": 12,
    "start_time": "2024-09-02T09:43:29.109Z"
   },
   {
    "duration": 13,
    "start_time": "2024-09-02T09:43:43.025Z"
   },
   {
    "duration": 1950,
    "start_time": "2024-09-02T09:43:55.468Z"
   },
   {
    "duration": 13,
    "start_time": "2024-09-02T09:49:34.286Z"
   },
   {
    "duration": 1224,
    "start_time": "2024-09-02T09:53:19.279Z"
   },
   {
    "duration": 59,
    "start_time": "2024-09-02T09:53:20.505Z"
   },
   {
    "duration": 18,
    "start_time": "2024-09-02T09:53:20.565Z"
   },
   {
    "duration": 15,
    "start_time": "2024-09-02T09:53:20.585Z"
   },
   {
    "duration": 18,
    "start_time": "2024-09-02T09:53:20.601Z"
   },
   {
    "duration": 12,
    "start_time": "2024-09-02T09:53:20.621Z"
   },
   {
    "duration": 19,
    "start_time": "2024-09-02T09:53:20.635Z"
   },
   {
    "duration": 24,
    "start_time": "2024-09-02T09:53:20.655Z"
   },
   {
    "duration": 51,
    "start_time": "2024-09-02T09:53:20.680Z"
   },
   {
    "duration": 24,
    "start_time": "2024-09-02T09:53:20.734Z"
   },
   {
    "duration": 59,
    "start_time": "2024-09-02T09:53:20.760Z"
   },
   {
    "duration": 9,
    "start_time": "2024-09-02T09:53:20.821Z"
   },
   {
    "duration": 11,
    "start_time": "2024-09-02T09:53:20.832Z"
   },
   {
    "duration": 6,
    "start_time": "2024-09-02T09:53:20.845Z"
   },
   {
    "duration": 5,
    "start_time": "2024-09-02T09:53:20.852Z"
   },
   {
    "duration": 6,
    "start_time": "2024-09-02T09:53:20.858Z"
   },
   {
    "duration": 74,
    "start_time": "2024-09-02T09:53:20.866Z"
   },
   {
    "duration": 27,
    "start_time": "2024-09-02T09:53:20.942Z"
   },
   {
    "duration": 5,
    "start_time": "2024-09-02T09:53:20.971Z"
   },
   {
    "duration": 21,
    "start_time": "2024-09-02T09:53:20.977Z"
   },
   {
    "duration": 17,
    "start_time": "2024-09-02T09:53:20.999Z"
   },
   {
    "duration": 446,
    "start_time": "2024-09-02T09:53:21.017Z"
   },
   {
    "duration": 8,
    "start_time": "2024-09-02T09:53:21.465Z"
   },
   {
    "duration": 33,
    "start_time": "2024-09-02T09:53:21.474Z"
   },
   {
    "duration": 72,
    "start_time": "2024-09-02T09:53:21.509Z"
   },
   {
    "duration": 275,
    "start_time": "2024-09-02T09:53:21.583Z"
   },
   {
    "duration": 5,
    "start_time": "2024-09-02T09:53:21.859Z"
   },
   {
    "duration": 85,
    "start_time": "2024-09-02T09:53:21.868Z"
   },
   {
    "duration": 18,
    "start_time": "2024-09-02T09:53:21.955Z"
   },
   {
    "duration": 341,
    "start_time": "2024-09-02T09:53:21.975Z"
   },
   {
    "duration": 266,
    "start_time": "2024-09-02T09:53:22.318Z"
   },
   {
    "duration": 34,
    "start_time": "2024-09-02T09:53:22.586Z"
   },
   {
    "duration": 785,
    "start_time": "2024-09-02T09:53:22.621Z"
   },
   {
    "duration": 660,
    "start_time": "2024-09-02T09:53:23.408Z"
   },
   {
    "duration": 630,
    "start_time": "2024-09-02T09:53:24.070Z"
   },
   {
    "duration": 16,
    "start_time": "2024-09-02T09:53:24.701Z"
   },
   {
    "duration": 18,
    "start_time": "2024-09-02T09:53:24.719Z"
   },
   {
    "duration": 17,
    "start_time": "2024-09-02T09:53:24.738Z"
   },
   {
    "duration": 42,
    "start_time": "2024-09-02T09:53:24.757Z"
   },
   {
    "duration": 9,
    "start_time": "2024-09-02T09:53:24.800Z"
   },
   {
    "duration": 136,
    "start_time": "2024-09-02T09:53:24.811Z"
   },
   {
    "duration": 9,
    "start_time": "2024-09-02T09:53:24.949Z"
   },
   {
    "duration": 32,
    "start_time": "2024-09-02T09:53:24.960Z"
   },
   {
    "duration": 10,
    "start_time": "2024-09-02T09:53:24.998Z"
   },
   {
    "duration": 17,
    "start_time": "2024-09-02T09:53:25.010Z"
   },
   {
    "duration": 15,
    "start_time": "2024-09-02T09:53:25.029Z"
   },
   {
    "duration": 27,
    "start_time": "2024-09-02T09:53:25.045Z"
   },
   {
    "duration": 28,
    "start_time": "2024-09-02T09:53:25.074Z"
   },
   {
    "duration": 13,
    "start_time": "2024-09-02T09:53:25.104Z"
   },
   {
    "duration": 1057,
    "start_time": "2024-09-02T10:44:26.635Z"
   },
   {
    "duration": 64,
    "start_time": "2024-09-02T10:44:27.694Z"
   },
   {
    "duration": 16,
    "start_time": "2024-09-02T10:44:27.759Z"
   },
   {
    "duration": 19,
    "start_time": "2024-09-02T10:44:27.776Z"
   },
   {
    "duration": 12,
    "start_time": "2024-09-02T10:44:27.797Z"
   },
   {
    "duration": 8,
    "start_time": "2024-09-02T10:44:27.810Z"
   },
   {
    "duration": 13,
    "start_time": "2024-09-02T10:44:27.820Z"
   },
   {
    "duration": 86,
    "start_time": "2024-09-02T10:44:27.834Z"
   },
   {
    "duration": 121,
    "start_time": "2024-09-02T10:44:27.921Z"
   },
   {
    "duration": 19,
    "start_time": "2024-09-02T10:44:28.045Z"
   },
   {
    "duration": 21,
    "start_time": "2024-09-02T10:44:28.066Z"
   },
   {
    "duration": 14,
    "start_time": "2024-09-02T10:44:28.088Z"
   },
   {
    "duration": 20,
    "start_time": "2024-09-02T10:44:28.103Z"
   },
   {
    "duration": 8,
    "start_time": "2024-09-02T10:44:28.124Z"
   },
   {
    "duration": 9,
    "start_time": "2024-09-02T10:44:28.134Z"
   },
   {
    "duration": 13,
    "start_time": "2024-09-02T10:44:28.144Z"
   },
   {
    "duration": 12,
    "start_time": "2024-09-02T10:44:28.158Z"
   },
   {
    "duration": 25,
    "start_time": "2024-09-02T10:44:28.172Z"
   },
   {
    "duration": 5,
    "start_time": "2024-09-02T10:44:28.198Z"
   },
   {
    "duration": 27,
    "start_time": "2024-09-02T10:44:28.204Z"
   },
   {
    "duration": 13,
    "start_time": "2024-09-02T10:44:28.232Z"
   },
   {
    "duration": 363,
    "start_time": "2024-09-02T10:44:28.246Z"
   },
   {
    "duration": 6,
    "start_time": "2024-09-02T10:44:28.611Z"
   },
   {
    "duration": 13,
    "start_time": "2024-09-02T10:44:28.619Z"
   },
   {
    "duration": 13,
    "start_time": "2024-09-02T10:44:28.633Z"
   },
   {
    "duration": 255,
    "start_time": "2024-09-02T10:44:28.647Z"
   },
   {
    "duration": 4,
    "start_time": "2024-09-02T10:44:28.904Z"
   },
   {
    "duration": 26,
    "start_time": "2024-09-02T10:44:28.912Z"
   },
   {
    "duration": 14,
    "start_time": "2024-09-02T10:44:28.939Z"
   },
   {
    "duration": 294,
    "start_time": "2024-09-02T10:44:28.955Z"
   },
   {
    "duration": 214,
    "start_time": "2024-09-02T10:44:29.250Z"
   },
   {
    "duration": 20,
    "start_time": "2024-09-02T10:44:29.465Z"
   },
   {
    "duration": 635,
    "start_time": "2024-09-02T10:44:29.486Z"
   },
   {
    "duration": 509,
    "start_time": "2024-09-02T10:44:30.123Z"
   },
   {
    "duration": 517,
    "start_time": "2024-09-02T10:44:30.634Z"
   },
   {
    "duration": 16,
    "start_time": "2024-09-02T10:44:31.152Z"
   },
   {
    "duration": 21,
    "start_time": "2024-09-02T10:44:31.170Z"
   },
   {
    "duration": 26,
    "start_time": "2024-09-02T10:44:31.192Z"
   },
   {
    "duration": 15,
    "start_time": "2024-09-02T10:44:31.219Z"
   },
   {
    "duration": 12,
    "start_time": "2024-09-02T10:44:31.235Z"
   },
   {
    "duration": 23,
    "start_time": "2024-09-02T10:44:31.248Z"
   },
   {
    "duration": 25,
    "start_time": "2024-09-02T10:44:31.273Z"
   },
   {
    "duration": 99,
    "start_time": "2024-09-02T10:44:31.300Z"
   },
   {
    "duration": 8,
    "start_time": "2024-09-02T10:44:31.401Z"
   },
   {
    "duration": 32,
    "start_time": "2024-09-02T10:44:31.410Z"
   },
   {
    "duration": 13,
    "start_time": "2024-09-02T10:44:31.443Z"
   },
   {
    "duration": 24,
    "start_time": "2024-09-02T10:44:31.457Z"
   },
   {
    "duration": 16,
    "start_time": "2024-09-02T10:44:31.482Z"
   },
   {
    "duration": 23,
    "start_time": "2024-09-02T10:44:31.500Z"
   },
   {
    "duration": 68,
    "start_time": "2024-09-02T10:53:22.466Z"
   },
   {
    "duration": 21,
    "start_time": "2024-09-02T10:55:35.776Z"
   },
   {
    "duration": 7,
    "start_time": "2024-09-02T11:05:41.920Z"
   },
   {
    "duration": 46,
    "start_time": "2024-09-02T19:27:01.935Z"
   },
   {
    "duration": 1377,
    "start_time": "2024-09-02T19:27:08.006Z"
   },
   {
    "duration": 227,
    "start_time": "2024-09-02T19:27:09.385Z"
   },
   {
    "duration": 24,
    "start_time": "2024-09-02T19:27:09.614Z"
   },
   {
    "duration": 17,
    "start_time": "2024-09-02T19:27:09.641Z"
   },
   {
    "duration": 15,
    "start_time": "2024-09-02T19:27:09.659Z"
   },
   {
    "duration": 9,
    "start_time": "2024-09-02T19:27:09.676Z"
   },
   {
    "duration": 13,
    "start_time": "2024-09-02T19:27:09.686Z"
   },
   {
    "duration": 31,
    "start_time": "2024-09-02T19:27:09.700Z"
   },
   {
    "duration": 19,
    "start_time": "2024-09-02T19:27:09.733Z"
   },
   {
    "duration": 4,
    "start_time": "2024-09-02T19:27:09.755Z"
   },
   {
    "duration": 13,
    "start_time": "2024-09-02T19:27:09.760Z"
   },
   {
    "duration": 12,
    "start_time": "2024-09-02T19:27:09.774Z"
   },
   {
    "duration": 11,
    "start_time": "2024-09-02T19:27:09.788Z"
   },
   {
    "duration": 27,
    "start_time": "2024-09-02T19:27:09.801Z"
   },
   {
    "duration": 8,
    "start_time": "2024-09-02T19:27:09.830Z"
   },
   {
    "duration": 12,
    "start_time": "2024-09-02T19:27:09.840Z"
   },
   {
    "duration": 63,
    "start_time": "2024-09-02T19:27:09.854Z"
   },
   {
    "duration": 21,
    "start_time": "2024-09-02T19:27:09.918Z"
   },
   {
    "duration": 4,
    "start_time": "2024-09-02T19:27:09.940Z"
   },
   {
    "duration": 22,
    "start_time": "2024-09-02T19:27:09.946Z"
   },
   {
    "duration": 17,
    "start_time": "2024-09-02T19:27:09.970Z"
   },
   {
    "duration": 94,
    "start_time": "2024-09-02T19:27:09.989Z"
   },
   {
    "duration": 13,
    "start_time": "2024-09-02T19:27:10.085Z"
   },
   {
    "duration": 451,
    "start_time": "2024-09-02T19:27:10.099Z"
   },
   {
    "duration": 7,
    "start_time": "2024-09-02T19:27:10.551Z"
   },
   {
    "duration": 83,
    "start_time": "2024-09-02T19:27:10.560Z"
   },
   {
    "duration": 15,
    "start_time": "2024-09-02T19:27:10.645Z"
   },
   {
    "duration": 281,
    "start_time": "2024-09-02T19:27:10.665Z"
   },
   {
    "duration": 24,
    "start_time": "2024-09-02T19:27:10.948Z"
   },
   {
    "duration": 19,
    "start_time": "2024-09-02T19:27:10.974Z"
   },
   {
    "duration": 29,
    "start_time": "2024-09-02T19:27:10.994Z"
   },
   {
    "duration": 17,
    "start_time": "2024-09-02T19:27:11.024Z"
   },
   {
    "duration": 324,
    "start_time": "2024-09-02T19:27:11.043Z"
   },
   {
    "duration": 247,
    "start_time": "2024-09-02T19:27:11.369Z"
   },
   {
    "duration": 27,
    "start_time": "2024-09-02T19:27:11.618Z"
   },
   {
    "duration": 708,
    "start_time": "2024-09-02T19:27:11.646Z"
   },
   {
    "duration": 623,
    "start_time": "2024-09-02T19:27:12.355Z"
   },
   {
    "duration": 600,
    "start_time": "2024-09-02T19:27:12.979Z"
   },
   {
    "duration": 16,
    "start_time": "2024-09-02T19:27:13.581Z"
   },
   {
    "duration": 38,
    "start_time": "2024-09-02T19:27:13.598Z"
   },
   {
    "duration": 16,
    "start_time": "2024-09-02T19:27:13.638Z"
   },
   {
    "duration": 17,
    "start_time": "2024-09-02T19:27:13.656Z"
   },
   {
    "duration": 13,
    "start_time": "2024-09-02T19:27:13.675Z"
   },
   {
    "duration": 40,
    "start_time": "2024-09-02T19:27:13.690Z"
   },
   {
    "duration": 9,
    "start_time": "2024-09-02T19:27:13.732Z"
   },
   {
    "duration": 18,
    "start_time": "2024-09-02T19:27:13.742Z"
   },
   {
    "duration": 8,
    "start_time": "2024-09-02T19:27:13.762Z"
   },
   {
    "duration": 16,
    "start_time": "2024-09-02T19:27:13.772Z"
   },
   {
    "duration": 47,
    "start_time": "2024-09-02T19:27:13.790Z"
   },
   {
    "duration": 13,
    "start_time": "2024-09-02T19:27:13.839Z"
   },
   {
    "duration": 7,
    "start_time": "2024-09-02T19:27:13.853Z"
   },
   {
    "duration": 72,
    "start_time": "2024-09-02T19:27:13.861Z"
   },
   {
    "duration": 10,
    "start_time": "2024-09-02T19:27:13.934Z"
   },
   {
    "duration": 3,
    "start_time": "2024-09-02T19:45:38.609Z"
   },
   {
    "duration": 10,
    "start_time": "2024-09-02T19:45:46.329Z"
   },
   {
    "duration": 8,
    "start_time": "2024-09-02T19:45:52.124Z"
   },
   {
    "duration": 16,
    "start_time": "2024-09-02T19:46:11.376Z"
   },
   {
    "duration": 18,
    "start_time": "2024-09-02T19:46:44.145Z"
   },
   {
    "duration": 21,
    "start_time": "2024-09-02T19:47:28.803Z"
   },
   {
    "duration": 22,
    "start_time": "2024-09-02T19:48:28.407Z"
   },
   {
    "duration": 8,
    "start_time": "2024-09-02T19:48:32.154Z"
   },
   {
    "duration": 8,
    "start_time": "2024-09-02T19:51:28.965Z"
   },
   {
    "duration": 16,
    "start_time": "2024-09-02T19:51:52.061Z"
   },
   {
    "duration": 3,
    "start_time": "2024-09-02T19:55:37.758Z"
   },
   {
    "duration": 16,
    "start_time": "2024-09-02T19:55:50.503Z"
   },
   {
    "duration": 94,
    "start_time": "2024-09-02T19:56:05.433Z"
   },
   {
    "duration": 16,
    "start_time": "2024-09-02T19:56:16.370Z"
   },
   {
    "duration": 67,
    "start_time": "2024-09-02T20:00:17.541Z"
   },
   {
    "duration": 67,
    "start_time": "2024-09-02T20:00:20.411Z"
   },
   {
    "duration": 16,
    "start_time": "2024-09-02T20:00:30.259Z"
   },
   {
    "duration": 4,
    "start_time": "2024-09-02T20:02:08.613Z"
   },
   {
    "duration": 101,
    "start_time": "2024-09-02T20:02:20.530Z"
   },
   {
    "duration": 8,
    "start_time": "2024-09-02T20:04:08.486Z"
   },
   {
    "duration": 17,
    "start_time": "2024-09-02T20:04:42.226Z"
   },
   {
    "duration": 13,
    "start_time": "2024-09-02T20:05:08.945Z"
   },
   {
    "duration": 1065,
    "start_time": "2024-09-02T20:09:32.163Z"
   },
   {
    "duration": 56,
    "start_time": "2024-09-02T20:09:33.230Z"
   },
   {
    "duration": 16,
    "start_time": "2024-09-02T20:09:33.287Z"
   },
   {
    "duration": 19,
    "start_time": "2024-09-02T20:09:33.305Z"
   },
   {
    "duration": 14,
    "start_time": "2024-09-02T20:09:33.326Z"
   },
   {
    "duration": 22,
    "start_time": "2024-09-02T20:09:33.341Z"
   },
   {
    "duration": 17,
    "start_time": "2024-09-02T20:09:33.364Z"
   },
   {
    "duration": 30,
    "start_time": "2024-09-02T20:09:33.383Z"
   },
   {
    "duration": 17,
    "start_time": "2024-09-02T20:09:33.414Z"
   },
   {
    "duration": 4,
    "start_time": "2024-09-02T20:09:33.434Z"
   },
   {
    "duration": 21,
    "start_time": "2024-09-02T20:09:33.439Z"
   },
   {
    "duration": 27,
    "start_time": "2024-09-02T20:09:33.461Z"
   },
   {
    "duration": 16,
    "start_time": "2024-09-02T20:09:33.489Z"
   },
   {
    "duration": 5,
    "start_time": "2024-09-02T20:09:33.506Z"
   },
   {
    "duration": 15,
    "start_time": "2024-09-02T20:09:33.513Z"
   },
   {
    "duration": 5,
    "start_time": "2024-09-02T20:09:33.529Z"
   },
   {
    "duration": 7,
    "start_time": "2024-09-02T20:09:33.535Z"
   },
   {
    "duration": 16,
    "start_time": "2024-09-02T20:09:33.543Z"
   },
   {
    "duration": 9,
    "start_time": "2024-09-02T20:09:33.560Z"
   },
   {
    "duration": 14,
    "start_time": "2024-09-02T20:09:33.571Z"
   },
   {
    "duration": 42,
    "start_time": "2024-09-02T20:09:33.586Z"
   },
   {
    "duration": 16,
    "start_time": "2024-09-02T20:09:33.629Z"
   },
   {
    "duration": 16,
    "start_time": "2024-09-02T20:09:33.646Z"
   },
   {
    "duration": 94,
    "start_time": "2024-09-02T20:09:33.663Z"
   },
   {
    "duration": 13,
    "start_time": "2024-09-02T20:09:33.758Z"
   },
   {
    "duration": 376,
    "start_time": "2024-09-02T20:09:33.772Z"
   },
   {
    "duration": 6,
    "start_time": "2024-09-02T20:09:34.150Z"
   },
   {
    "duration": 22,
    "start_time": "2024-09-02T20:09:34.159Z"
   },
   {
    "duration": 14,
    "start_time": "2024-09-02T20:09:34.182Z"
   },
   {
    "duration": 254,
    "start_time": "2024-09-02T20:09:34.197Z"
   },
   {
    "duration": 23,
    "start_time": "2024-09-02T20:09:34.452Z"
   },
   {
    "duration": 3,
    "start_time": "2024-09-02T20:09:34.477Z"
   },
   {
    "duration": 16,
    "start_time": "2024-09-02T20:09:34.481Z"
   },
   {
    "duration": 40,
    "start_time": "2024-09-02T20:09:34.498Z"
   },
   {
    "duration": 307,
    "start_time": "2024-09-02T20:09:34.539Z"
   },
   {
    "duration": 235,
    "start_time": "2024-09-02T20:09:34.848Z"
   },
   {
    "duration": 25,
    "start_time": "2024-09-02T20:09:35.085Z"
   },
   {
    "duration": 691,
    "start_time": "2024-09-02T20:09:35.111Z"
   },
   {
    "duration": 574,
    "start_time": "2024-09-02T20:09:35.803Z"
   },
   {
    "duration": 568,
    "start_time": "2024-09-02T20:09:36.378Z"
   },
   {
    "duration": 15,
    "start_time": "2024-09-02T20:09:36.947Z"
   },
   {
    "duration": 28,
    "start_time": "2024-09-02T20:09:36.963Z"
   },
   {
    "duration": 16,
    "start_time": "2024-09-02T20:09:36.992Z"
   },
   {
    "duration": 28,
    "start_time": "2024-09-02T20:09:37.010Z"
   },
   {
    "duration": 8,
    "start_time": "2024-09-02T20:09:37.039Z"
   },
   {
    "duration": 19,
    "start_time": "2024-09-02T20:09:37.048Z"
   },
   {
    "duration": 7,
    "start_time": "2024-09-02T20:09:37.069Z"
   },
   {
    "duration": 33,
    "start_time": "2024-09-02T20:09:37.078Z"
   },
   {
    "duration": 15,
    "start_time": "2024-09-02T20:09:37.113Z"
   },
   {
    "duration": 17,
    "start_time": "2024-09-02T20:09:37.129Z"
   },
   {
    "duration": 13,
    "start_time": "2024-09-02T20:09:37.148Z"
   },
   {
    "duration": 28,
    "start_time": "2024-09-02T20:09:37.162Z"
   },
   {
    "duration": 12,
    "start_time": "2024-09-02T20:09:37.191Z"
   },
   {
    "duration": 9,
    "start_time": "2024-09-02T20:09:37.204Z"
   },
   {
    "duration": 25,
    "start_time": "2024-09-02T20:09:37.214Z"
   },
   {
    "duration": 1113,
    "start_time": "2024-09-02T20:44:06.705Z"
   },
   {
    "duration": 56,
    "start_time": "2024-09-02T20:44:07.820Z"
   },
   {
    "duration": 15,
    "start_time": "2024-09-02T20:44:07.877Z"
   },
   {
    "duration": 12,
    "start_time": "2024-09-02T20:44:07.894Z"
   },
   {
    "duration": 25,
    "start_time": "2024-09-02T20:44:07.907Z"
   },
   {
    "duration": 9,
    "start_time": "2024-09-02T20:44:07.933Z"
   },
   {
    "duration": 11,
    "start_time": "2024-09-02T20:44:07.943Z"
   },
   {
    "duration": 26,
    "start_time": "2024-09-02T20:44:07.955Z"
   },
   {
    "duration": 14,
    "start_time": "2024-09-02T20:44:07.982Z"
   },
   {
    "duration": 11,
    "start_time": "2024-09-02T20:44:07.999Z"
   },
   {
    "duration": 15,
    "start_time": "2024-09-02T20:44:08.011Z"
   },
   {
    "duration": 21,
    "start_time": "2024-09-02T20:44:08.028Z"
   },
   {
    "duration": 12,
    "start_time": "2024-09-02T20:44:08.050Z"
   },
   {
    "duration": 4,
    "start_time": "2024-09-02T20:44:08.064Z"
   },
   {
    "duration": 5,
    "start_time": "2024-09-02T20:44:08.069Z"
   },
   {
    "duration": 5,
    "start_time": "2024-09-02T20:44:08.075Z"
   },
   {
    "duration": 7,
    "start_time": "2024-09-02T20:44:08.081Z"
   },
   {
    "duration": 25,
    "start_time": "2024-09-02T20:44:08.090Z"
   },
   {
    "duration": 4,
    "start_time": "2024-09-02T20:44:08.116Z"
   },
   {
    "duration": 68,
    "start_time": "2024-09-02T20:44:08.121Z"
   },
   {
    "duration": 0,
    "start_time": "2024-09-02T20:44:08.191Z"
   },
   {
    "duration": 0,
    "start_time": "2024-09-02T20:44:08.192Z"
   },
   {
    "duration": 0,
    "start_time": "2024-09-02T20:44:08.193Z"
   },
   {
    "duration": 0,
    "start_time": "2024-09-02T20:44:08.194Z"
   },
   {
    "duration": 0,
    "start_time": "2024-09-02T20:44:08.195Z"
   },
   {
    "duration": 0,
    "start_time": "2024-09-02T20:44:08.196Z"
   },
   {
    "duration": 0,
    "start_time": "2024-09-02T20:44:08.197Z"
   },
   {
    "duration": 0,
    "start_time": "2024-09-02T20:44:08.198Z"
   },
   {
    "duration": 0,
    "start_time": "2024-09-02T20:44:08.199Z"
   },
   {
    "duration": 0,
    "start_time": "2024-09-02T20:44:08.200Z"
   },
   {
    "duration": 0,
    "start_time": "2024-09-02T20:44:08.201Z"
   },
   {
    "duration": 0,
    "start_time": "2024-09-02T20:44:08.202Z"
   },
   {
    "duration": 0,
    "start_time": "2024-09-02T20:44:08.202Z"
   },
   {
    "duration": 0,
    "start_time": "2024-09-02T20:44:08.203Z"
   },
   {
    "duration": 0,
    "start_time": "2024-09-02T20:44:08.204Z"
   },
   {
    "duration": 0,
    "start_time": "2024-09-02T20:44:08.205Z"
   },
   {
    "duration": 0,
    "start_time": "2024-09-02T20:44:08.206Z"
   },
   {
    "duration": 0,
    "start_time": "2024-09-02T20:44:08.207Z"
   },
   {
    "duration": 0,
    "start_time": "2024-09-02T20:44:08.208Z"
   },
   {
    "duration": 0,
    "start_time": "2024-09-02T20:44:08.209Z"
   },
   {
    "duration": 0,
    "start_time": "2024-09-02T20:44:08.210Z"
   },
   {
    "duration": 0,
    "start_time": "2024-09-02T20:44:08.211Z"
   },
   {
    "duration": 1,
    "start_time": "2024-09-02T20:44:08.211Z"
   },
   {
    "duration": 0,
    "start_time": "2024-09-02T20:44:08.212Z"
   },
   {
    "duration": 0,
    "start_time": "2024-09-02T20:44:08.213Z"
   },
   {
    "duration": 0,
    "start_time": "2024-09-02T20:44:08.215Z"
   },
   {
    "duration": 0,
    "start_time": "2024-09-02T20:44:08.216Z"
   },
   {
    "duration": 0,
    "start_time": "2024-09-02T20:44:08.217Z"
   },
   {
    "duration": 0,
    "start_time": "2024-09-02T20:44:08.218Z"
   },
   {
    "duration": 0,
    "start_time": "2024-09-02T20:44:08.219Z"
   },
   {
    "duration": 0,
    "start_time": "2024-09-02T20:44:08.220Z"
   },
   {
    "duration": 0,
    "start_time": "2024-09-02T20:44:08.220Z"
   },
   {
    "duration": 0,
    "start_time": "2024-09-02T20:44:08.221Z"
   },
   {
    "duration": 0,
    "start_time": "2024-09-02T20:44:08.222Z"
   },
   {
    "duration": 0,
    "start_time": "2024-09-02T20:44:08.223Z"
   },
   {
    "duration": 0,
    "start_time": "2024-09-02T20:44:08.224Z"
   },
   {
    "duration": 1047,
    "start_time": "2024-09-02T20:44:44.282Z"
   },
   {
    "duration": 55,
    "start_time": "2024-09-02T20:44:45.331Z"
   },
   {
    "duration": 15,
    "start_time": "2024-09-02T20:44:45.387Z"
   },
   {
    "duration": 19,
    "start_time": "2024-09-02T20:44:45.403Z"
   },
   {
    "duration": 16,
    "start_time": "2024-09-02T20:44:45.423Z"
   },
   {
    "duration": 17,
    "start_time": "2024-09-02T20:44:45.441Z"
   },
   {
    "duration": 16,
    "start_time": "2024-09-02T20:44:45.459Z"
   },
   {
    "duration": 19,
    "start_time": "2024-09-02T20:44:45.476Z"
   },
   {
    "duration": 10,
    "start_time": "2024-09-02T20:44:45.496Z"
   },
   {
    "duration": 4,
    "start_time": "2024-09-02T20:44:45.508Z"
   },
   {
    "duration": 18,
    "start_time": "2024-09-02T20:44:45.513Z"
   },
   {
    "duration": 8,
    "start_time": "2024-09-02T20:44:45.533Z"
   },
   {
    "duration": 26,
    "start_time": "2024-09-02T20:44:45.543Z"
   },
   {
    "duration": 5,
    "start_time": "2024-09-02T20:44:45.570Z"
   },
   {
    "duration": 7,
    "start_time": "2024-09-02T20:44:45.576Z"
   },
   {
    "duration": 6,
    "start_time": "2024-09-02T20:44:45.584Z"
   },
   {
    "duration": 9,
    "start_time": "2024-09-02T20:44:45.591Z"
   },
   {
    "duration": 26,
    "start_time": "2024-09-02T20:44:45.601Z"
   },
   {
    "duration": 4,
    "start_time": "2024-09-02T20:44:45.629Z"
   },
   {
    "duration": 73,
    "start_time": "2024-09-02T20:44:45.634Z"
   },
   {
    "duration": 0,
    "start_time": "2024-09-02T20:44:45.710Z"
   },
   {
    "duration": 0,
    "start_time": "2024-09-02T20:44:45.711Z"
   },
   {
    "duration": 0,
    "start_time": "2024-09-02T20:44:45.712Z"
   },
   {
    "duration": 0,
    "start_time": "2024-09-02T20:44:45.713Z"
   },
   {
    "duration": 0,
    "start_time": "2024-09-02T20:44:45.714Z"
   },
   {
    "duration": 0,
    "start_time": "2024-09-02T20:44:45.714Z"
   },
   {
    "duration": 0,
    "start_time": "2024-09-02T20:44:45.715Z"
   },
   {
    "duration": 0,
    "start_time": "2024-09-02T20:44:45.716Z"
   },
   {
    "duration": 0,
    "start_time": "2024-09-02T20:44:45.717Z"
   },
   {
    "duration": 0,
    "start_time": "2024-09-02T20:44:45.718Z"
   },
   {
    "duration": 0,
    "start_time": "2024-09-02T20:44:45.719Z"
   },
   {
    "duration": 0,
    "start_time": "2024-09-02T20:44:45.720Z"
   },
   {
    "duration": 0,
    "start_time": "2024-09-02T20:44:45.721Z"
   },
   {
    "duration": 0,
    "start_time": "2024-09-02T20:44:45.721Z"
   },
   {
    "duration": 1,
    "start_time": "2024-09-02T20:44:45.722Z"
   },
   {
    "duration": 1,
    "start_time": "2024-09-02T20:44:45.723Z"
   },
   {
    "duration": 0,
    "start_time": "2024-09-02T20:44:45.725Z"
   },
   {
    "duration": 0,
    "start_time": "2024-09-02T20:44:45.726Z"
   },
   {
    "duration": 0,
    "start_time": "2024-09-02T20:44:45.727Z"
   },
   {
    "duration": 0,
    "start_time": "2024-09-02T20:44:45.728Z"
   },
   {
    "duration": 0,
    "start_time": "2024-09-02T20:44:45.729Z"
   },
   {
    "duration": 0,
    "start_time": "2024-09-02T20:44:45.730Z"
   },
   {
    "duration": 0,
    "start_time": "2024-09-02T20:44:45.731Z"
   },
   {
    "duration": 0,
    "start_time": "2024-09-02T20:44:45.732Z"
   },
   {
    "duration": 0,
    "start_time": "2024-09-02T20:44:45.732Z"
   },
   {
    "duration": 0,
    "start_time": "2024-09-02T20:44:45.734Z"
   },
   {
    "duration": 0,
    "start_time": "2024-09-02T20:44:45.734Z"
   },
   {
    "duration": 0,
    "start_time": "2024-09-02T20:44:45.735Z"
   },
   {
    "duration": 0,
    "start_time": "2024-09-02T20:44:45.736Z"
   },
   {
    "duration": 0,
    "start_time": "2024-09-02T20:44:45.737Z"
   },
   {
    "duration": 0,
    "start_time": "2024-09-02T20:44:45.738Z"
   },
   {
    "duration": 0,
    "start_time": "2024-09-02T20:44:45.739Z"
   },
   {
    "duration": 0,
    "start_time": "2024-09-02T20:44:45.740Z"
   },
   {
    "duration": 0,
    "start_time": "2024-09-02T20:44:45.741Z"
   },
   {
    "duration": 0,
    "start_time": "2024-09-02T20:44:45.742Z"
   },
   {
    "duration": 0,
    "start_time": "2024-09-02T20:44:45.743Z"
   },
   {
    "duration": 1117,
    "start_time": "2024-09-02T20:46:55.304Z"
   },
   {
    "duration": 59,
    "start_time": "2024-09-02T20:46:56.423Z"
   },
   {
    "duration": 16,
    "start_time": "2024-09-02T20:46:56.483Z"
   },
   {
    "duration": 13,
    "start_time": "2024-09-02T20:46:56.501Z"
   },
   {
    "duration": 12,
    "start_time": "2024-09-02T20:46:56.515Z"
   },
   {
    "duration": 8,
    "start_time": "2024-09-02T20:46:56.528Z"
   },
   {
    "duration": 11,
    "start_time": "2024-09-02T20:46:56.538Z"
   },
   {
    "duration": 9,
    "start_time": "2024-09-02T20:46:56.550Z"
   },
   {
    "duration": 9,
    "start_time": "2024-09-02T20:46:56.560Z"
   },
   {
    "duration": 3,
    "start_time": "2024-09-02T20:46:56.571Z"
   },
   {
    "duration": 11,
    "start_time": "2024-09-02T20:46:56.576Z"
   },
   {
    "duration": 37,
    "start_time": "2024-09-02T20:46:56.588Z"
   },
   {
    "duration": 10,
    "start_time": "2024-09-02T20:46:56.627Z"
   },
   {
    "duration": 4,
    "start_time": "2024-09-02T20:46:56.638Z"
   },
   {
    "duration": 6,
    "start_time": "2024-09-02T20:46:56.643Z"
   },
   {
    "duration": 5,
    "start_time": "2024-09-02T20:46:56.651Z"
   },
   {
    "duration": 6,
    "start_time": "2024-09-02T20:46:56.657Z"
   },
   {
    "duration": 20,
    "start_time": "2024-09-02T20:46:56.664Z"
   },
   {
    "duration": 4,
    "start_time": "2024-09-02T20:46:56.686Z"
   },
   {
    "duration": 66,
    "start_time": "2024-09-02T20:46:56.692Z"
   },
   {
    "duration": 0,
    "start_time": "2024-09-02T20:46:56.760Z"
   },
   {
    "duration": 0,
    "start_time": "2024-09-02T20:46:56.761Z"
   },
   {
    "duration": 0,
    "start_time": "2024-09-02T20:46:56.762Z"
   },
   {
    "duration": 0,
    "start_time": "2024-09-02T20:46:56.763Z"
   },
   {
    "duration": 0,
    "start_time": "2024-09-02T20:46:56.764Z"
   },
   {
    "duration": 0,
    "start_time": "2024-09-02T20:46:56.765Z"
   },
   {
    "duration": 0,
    "start_time": "2024-09-02T20:46:56.766Z"
   },
   {
    "duration": 0,
    "start_time": "2024-09-02T20:46:56.767Z"
   },
   {
    "duration": 0,
    "start_time": "2024-09-02T20:46:56.768Z"
   },
   {
    "duration": 0,
    "start_time": "2024-09-02T20:46:56.769Z"
   },
   {
    "duration": 1,
    "start_time": "2024-09-02T20:46:56.769Z"
   },
   {
    "duration": 0,
    "start_time": "2024-09-02T20:46:56.770Z"
   },
   {
    "duration": 0,
    "start_time": "2024-09-02T20:46:56.771Z"
   },
   {
    "duration": 0,
    "start_time": "2024-09-02T20:46:56.772Z"
   },
   {
    "duration": 0,
    "start_time": "2024-09-02T20:46:56.773Z"
   },
   {
    "duration": 0,
    "start_time": "2024-09-02T20:46:56.774Z"
   },
   {
    "duration": 0,
    "start_time": "2024-09-02T20:46:56.775Z"
   },
   {
    "duration": 0,
    "start_time": "2024-09-02T20:46:56.776Z"
   },
   {
    "duration": 0,
    "start_time": "2024-09-02T20:46:56.776Z"
   },
   {
    "duration": 0,
    "start_time": "2024-09-02T20:46:56.777Z"
   },
   {
    "duration": 0,
    "start_time": "2024-09-02T20:46:56.778Z"
   },
   {
    "duration": 0,
    "start_time": "2024-09-02T20:46:56.779Z"
   },
   {
    "duration": 0,
    "start_time": "2024-09-02T20:46:56.780Z"
   },
   {
    "duration": 0,
    "start_time": "2024-09-02T20:46:56.781Z"
   },
   {
    "duration": 0,
    "start_time": "2024-09-02T20:46:56.782Z"
   },
   {
    "duration": 0,
    "start_time": "2024-09-02T20:46:56.783Z"
   },
   {
    "duration": 0,
    "start_time": "2024-09-02T20:46:56.784Z"
   },
   {
    "duration": 1,
    "start_time": "2024-09-02T20:46:56.784Z"
   },
   {
    "duration": 0,
    "start_time": "2024-09-02T20:46:56.785Z"
   },
   {
    "duration": 0,
    "start_time": "2024-09-02T20:46:56.786Z"
   },
   {
    "duration": 0,
    "start_time": "2024-09-02T20:46:56.787Z"
   },
   {
    "duration": 0,
    "start_time": "2024-09-02T20:46:56.788Z"
   },
   {
    "duration": 0,
    "start_time": "2024-09-02T20:46:56.789Z"
   },
   {
    "duration": 0,
    "start_time": "2024-09-02T20:46:56.790Z"
   },
   {
    "duration": 0,
    "start_time": "2024-09-02T20:46:56.791Z"
   },
   {
    "duration": 0,
    "start_time": "2024-09-02T20:46:56.792Z"
   },
   {
    "duration": 1142,
    "start_time": "2024-09-02T20:47:28.808Z"
   },
   {
    "duration": 55,
    "start_time": "2024-09-02T20:47:29.952Z"
   },
   {
    "duration": 16,
    "start_time": "2024-09-02T20:47:30.009Z"
   },
   {
    "duration": 28,
    "start_time": "2024-09-02T20:47:30.027Z"
   },
   {
    "duration": 15,
    "start_time": "2024-09-02T20:47:30.057Z"
   },
   {
    "duration": 21,
    "start_time": "2024-09-02T20:47:30.073Z"
   },
   {
    "duration": 13,
    "start_time": "2024-09-02T20:47:30.097Z"
   },
   {
    "duration": 51,
    "start_time": "2024-09-02T20:47:30.112Z"
   },
   {
    "duration": 22,
    "start_time": "2024-09-02T20:47:30.165Z"
   },
   {
    "duration": 6,
    "start_time": "2024-09-02T20:47:30.190Z"
   },
   {
    "duration": 17,
    "start_time": "2024-09-02T20:47:30.198Z"
   },
   {
    "duration": 44,
    "start_time": "2024-09-02T20:47:30.216Z"
   },
   {
    "duration": 44,
    "start_time": "2024-09-02T20:47:30.261Z"
   },
   {
    "duration": 15,
    "start_time": "2024-09-02T20:47:30.307Z"
   },
   {
    "duration": 7,
    "start_time": "2024-09-02T20:47:30.324Z"
   },
   {
    "duration": 5,
    "start_time": "2024-09-02T20:47:30.332Z"
   },
   {
    "duration": 6,
    "start_time": "2024-09-02T20:47:30.339Z"
   },
   {
    "duration": 22,
    "start_time": "2024-09-02T20:47:30.347Z"
   },
   {
    "duration": 5,
    "start_time": "2024-09-02T20:47:30.370Z"
   },
   {
    "duration": 7,
    "start_time": "2024-09-02T20:47:30.376Z"
   },
   {
    "duration": 15,
    "start_time": "2024-09-02T20:47:30.385Z"
   },
   {
    "duration": 39,
    "start_time": "2024-09-02T20:47:30.402Z"
   },
   {
    "duration": 16,
    "start_time": "2024-09-02T20:47:30.443Z"
   },
   {
    "duration": 15,
    "start_time": "2024-09-02T20:47:30.461Z"
   },
   {
    "duration": 105,
    "start_time": "2024-09-02T20:47:30.477Z"
   },
   {
    "duration": 13,
    "start_time": "2024-09-02T20:47:30.583Z"
   },
   {
    "duration": 375,
    "start_time": "2024-09-02T20:47:30.597Z"
   },
   {
    "duration": 6,
    "start_time": "2024-09-02T20:47:30.975Z"
   },
   {
    "duration": 56,
    "start_time": "2024-09-02T20:47:30.982Z"
   },
   {
    "duration": 13,
    "start_time": "2024-09-02T20:47:31.039Z"
   },
   {
    "duration": 242,
    "start_time": "2024-09-02T20:47:31.053Z"
   },
   {
    "duration": 29,
    "start_time": "2024-09-02T20:47:31.297Z"
   },
   {
    "duration": 4,
    "start_time": "2024-09-02T20:47:31.328Z"
   },
   {
    "duration": 13,
    "start_time": "2024-09-02T20:47:31.333Z"
   },
   {
    "duration": 15,
    "start_time": "2024-09-02T20:47:31.347Z"
   },
   {
    "duration": 326,
    "start_time": "2024-09-02T20:47:31.363Z"
   },
   {
    "duration": 226,
    "start_time": "2024-09-02T20:47:31.690Z"
   },
   {
    "duration": 26,
    "start_time": "2024-09-02T20:47:31.918Z"
   },
   {
    "duration": 720,
    "start_time": "2024-09-02T20:47:31.946Z"
   },
   {
    "duration": 544,
    "start_time": "2024-09-02T20:47:32.667Z"
   },
   {
    "duration": 527,
    "start_time": "2024-09-02T20:47:33.213Z"
   },
   {
    "duration": 13,
    "start_time": "2024-09-02T20:47:33.742Z"
   },
   {
    "duration": 20,
    "start_time": "2024-09-02T20:47:33.757Z"
   },
   {
    "duration": 15,
    "start_time": "2024-09-02T20:47:33.779Z"
   },
   {
    "duration": 36,
    "start_time": "2024-09-02T20:47:33.795Z"
   },
   {
    "duration": 12,
    "start_time": "2024-09-02T20:47:33.833Z"
   },
   {
    "duration": 19,
    "start_time": "2024-09-02T20:47:33.846Z"
   },
   {
    "duration": 7,
    "start_time": "2024-09-02T20:47:33.866Z"
   },
   {
    "duration": 14,
    "start_time": "2024-09-02T20:47:33.874Z"
   },
   {
    "duration": 8,
    "start_time": "2024-09-02T20:47:33.889Z"
   },
   {
    "duration": 35,
    "start_time": "2024-09-02T20:47:33.898Z"
   },
   {
    "duration": 13,
    "start_time": "2024-09-02T20:47:33.934Z"
   },
   {
    "duration": 14,
    "start_time": "2024-09-02T20:47:33.948Z"
   },
   {
    "duration": 6,
    "start_time": "2024-09-02T20:47:33.964Z"
   },
   {
    "duration": 12,
    "start_time": "2024-09-02T20:47:33.971Z"
   },
   {
    "duration": 12,
    "start_time": "2024-09-02T20:47:33.984Z"
   },
   {
    "duration": 2,
    "start_time": "2024-09-02T21:06:35.367Z"
   },
   {
    "duration": 2,
    "start_time": "2024-09-02T21:25:55.282Z"
   },
   {
    "duration": 3,
    "start_time": "2024-09-02T21:34:35.404Z"
   },
   {
    "duration": 64,
    "start_time": "2024-09-02T21:35:19.087Z"
   },
   {
    "duration": 2,
    "start_time": "2024-09-02T21:40:01.302Z"
   },
   {
    "duration": 49,
    "start_time": "2024-09-03T05:28:52.232Z"
   },
   {
    "duration": 1377,
    "start_time": "2024-09-03T05:28:58.009Z"
   },
   {
    "duration": 182,
    "start_time": "2024-09-03T05:28:59.388Z"
   },
   {
    "duration": 21,
    "start_time": "2024-09-03T05:28:59.571Z"
   },
   {
    "duration": 25,
    "start_time": "2024-09-03T05:28:59.595Z"
   },
   {
    "duration": 44,
    "start_time": "2024-09-03T05:28:59.622Z"
   },
   {
    "duration": 16,
    "start_time": "2024-09-03T05:28:59.668Z"
   },
   {
    "duration": 15,
    "start_time": "2024-09-03T05:28:59.685Z"
   },
   {
    "duration": 18,
    "start_time": "2024-09-03T05:28:59.701Z"
   },
   {
    "duration": 11,
    "start_time": "2024-09-03T05:28:59.721Z"
   },
   {
    "duration": 35,
    "start_time": "2024-09-03T05:28:59.736Z"
   },
   {
    "duration": 7,
    "start_time": "2024-09-03T05:28:59.778Z"
   },
   {
    "duration": 7,
    "start_time": "2024-09-03T05:28:59.787Z"
   },
   {
    "duration": 19,
    "start_time": "2024-09-03T05:28:59.796Z"
   },
   {
    "duration": 6,
    "start_time": "2024-09-03T05:28:59.817Z"
   },
   {
    "duration": 7,
    "start_time": "2024-09-03T05:28:59.826Z"
   },
   {
    "duration": 11,
    "start_time": "2024-09-03T05:28:59.864Z"
   },
   {
    "duration": 36,
    "start_time": "2024-09-03T05:28:59.878Z"
   },
   {
    "duration": 23,
    "start_time": "2024-09-03T05:28:59.916Z"
   },
   {
    "duration": 5,
    "start_time": "2024-09-03T05:28:59.965Z"
   },
   {
    "duration": 16,
    "start_time": "2024-09-03T05:28:59.972Z"
   },
   {
    "duration": 32,
    "start_time": "2024-09-03T05:28:59.990Z"
   },
   {
    "duration": 48,
    "start_time": "2024-09-03T05:29:00.024Z"
   },
   {
    "duration": 18,
    "start_time": "2024-09-03T05:29:00.074Z"
   },
   {
    "duration": 105,
    "start_time": "2024-09-03T05:29:00.093Z"
   },
   {
    "duration": 15,
    "start_time": "2024-09-03T05:29:00.199Z"
   },
   {
    "duration": 450,
    "start_time": "2024-09-03T05:29:00.216Z"
   },
   {
    "duration": 8,
    "start_time": "2024-09-03T05:29:00.668Z"
   },
   {
    "duration": 55,
    "start_time": "2024-09-03T05:29:00.680Z"
   },
   {
    "duration": 21,
    "start_time": "2024-09-03T05:29:00.737Z"
   },
   {
    "duration": 288,
    "start_time": "2024-09-03T05:29:00.760Z"
   },
   {
    "duration": 31,
    "start_time": "2024-09-03T05:29:01.050Z"
   },
   {
    "duration": 4,
    "start_time": "2024-09-03T05:29:01.083Z"
   },
   {
    "duration": 15,
    "start_time": "2024-09-03T05:29:01.088Z"
   },
   {
    "duration": 27,
    "start_time": "2024-09-03T05:29:01.104Z"
   },
   {
    "duration": 382,
    "start_time": "2024-09-03T05:29:01.133Z"
   },
   {
    "duration": 278,
    "start_time": "2024-09-03T05:29:01.517Z"
   },
   {
    "duration": 715,
    "start_time": "2024-09-03T05:29:01.797Z"
   },
   {
    "duration": 24,
    "start_time": "2024-09-03T05:29:02.514Z"
   },
   {
    "duration": 635,
    "start_time": "2024-09-03T05:29:02.540Z"
   },
   {
    "duration": 678,
    "start_time": "2024-09-03T05:29:03.177Z"
   },
   {
    "duration": 757,
    "start_time": "2024-09-03T05:29:03.858Z"
   },
   {
    "duration": 16,
    "start_time": "2024-09-03T05:29:04.616Z"
   },
   {
    "duration": 128,
    "start_time": "2024-09-03T05:29:04.633Z"
   },
   {
    "duration": 71,
    "start_time": "2024-09-03T05:29:04.763Z"
   },
   {
    "duration": 19,
    "start_time": "2024-09-03T05:29:04.835Z"
   },
   {
    "duration": 19,
    "start_time": "2024-09-03T05:29:04.856Z"
   },
   {
    "duration": 48,
    "start_time": "2024-09-03T05:29:04.877Z"
   },
   {
    "duration": 10,
    "start_time": "2024-09-03T05:29:04.927Z"
   },
   {
    "duration": 44,
    "start_time": "2024-09-03T05:29:04.939Z"
   },
   {
    "duration": 17,
    "start_time": "2024-09-03T05:29:04.984Z"
   },
   {
    "duration": 21,
    "start_time": "2024-09-03T05:29:05.003Z"
   },
   {
    "duration": 30,
    "start_time": "2024-09-03T05:29:05.025Z"
   },
   {
    "duration": 16,
    "start_time": "2024-09-03T05:29:05.057Z"
   },
   {
    "duration": 17,
    "start_time": "2024-09-03T05:29:05.074Z"
   },
   {
    "duration": 24,
    "start_time": "2024-09-03T05:29:05.093Z"
   },
   {
    "duration": 24,
    "start_time": "2024-09-03T05:29:05.119Z"
   },
   {
    "duration": 330,
    "start_time": "2024-09-03T05:31:39.256Z"
   },
   {
    "duration": 267,
    "start_time": "2024-09-03T05:32:22.589Z"
   },
   {
    "duration": 239,
    "start_time": "2024-09-03T05:32:48.934Z"
   },
   {
    "duration": 1239,
    "start_time": "2024-09-03T05:34:58.297Z"
   },
   {
    "duration": 58,
    "start_time": "2024-09-03T05:34:59.538Z"
   },
   {
    "duration": 20,
    "start_time": "2024-09-03T05:34:59.597Z"
   },
   {
    "duration": 20,
    "start_time": "2024-09-03T05:34:59.620Z"
   },
   {
    "duration": 37,
    "start_time": "2024-09-03T05:34:59.642Z"
   },
   {
    "duration": 12,
    "start_time": "2024-09-03T05:34:59.681Z"
   },
   {
    "duration": 15,
    "start_time": "2024-09-03T05:34:59.695Z"
   },
   {
    "duration": 13,
    "start_time": "2024-09-03T05:34:59.712Z"
   },
   {
    "duration": 51,
    "start_time": "2024-09-03T05:34:59.727Z"
   },
   {
    "duration": 6,
    "start_time": "2024-09-03T05:34:59.781Z"
   },
   {
    "duration": 17,
    "start_time": "2024-09-03T05:34:59.789Z"
   },
   {
    "duration": 11,
    "start_time": "2024-09-03T05:34:59.808Z"
   },
   {
    "duration": 16,
    "start_time": "2024-09-03T05:34:59.822Z"
   },
   {
    "duration": 7,
    "start_time": "2024-09-03T05:34:59.840Z"
   },
   {
    "duration": 6,
    "start_time": "2024-09-03T05:34:59.866Z"
   },
   {
    "duration": 38,
    "start_time": "2024-09-03T05:34:59.875Z"
   },
   {
    "duration": 45,
    "start_time": "2024-09-03T05:34:59.915Z"
   },
   {
    "duration": 20,
    "start_time": "2024-09-03T05:34:59.962Z"
   },
   {
    "duration": 5,
    "start_time": "2024-09-03T05:34:59.984Z"
   },
   {
    "duration": 28,
    "start_time": "2024-09-03T05:34:59.990Z"
   },
   {
    "duration": 23,
    "start_time": "2024-09-03T05:35:00.020Z"
   },
   {
    "duration": 52,
    "start_time": "2024-09-03T05:35:00.045Z"
   },
   {
    "duration": 28,
    "start_time": "2024-09-03T05:35:00.099Z"
   },
   {
    "duration": 123,
    "start_time": "2024-09-03T05:35:00.129Z"
   },
   {
    "duration": 22,
    "start_time": "2024-09-03T05:35:00.254Z"
   },
   {
    "duration": 539,
    "start_time": "2024-09-03T05:35:00.278Z"
   },
   {
    "duration": 7,
    "start_time": "2024-09-03T05:35:00.819Z"
   },
   {
    "duration": 42,
    "start_time": "2024-09-03T05:35:00.830Z"
   },
   {
    "duration": 24,
    "start_time": "2024-09-03T05:35:00.874Z"
   },
   {
    "duration": 289,
    "start_time": "2024-09-03T05:35:00.900Z"
   },
   {
    "duration": 27,
    "start_time": "2024-09-03T05:35:01.191Z"
   },
   {
    "duration": 48,
    "start_time": "2024-09-03T05:35:01.219Z"
   },
   {
    "duration": 16,
    "start_time": "2024-09-03T05:35:01.268Z"
   },
   {
    "duration": 27,
    "start_time": "2024-09-03T05:35:01.287Z"
   },
   {
    "duration": 383,
    "start_time": "2024-09-03T05:35:01.316Z"
   },
   {
    "duration": 299,
    "start_time": "2024-09-03T05:35:01.700Z"
   },
   {
    "duration": 286,
    "start_time": "2024-09-03T05:35:02.001Z"
   },
   {
    "duration": 356,
    "start_time": "2024-09-03T05:35:02.289Z"
   },
   {
    "duration": 33,
    "start_time": "2024-09-03T05:35:02.646Z"
   },
   {
    "duration": 852,
    "start_time": "2024-09-03T05:35:02.680Z"
   },
   {
    "duration": 627,
    "start_time": "2024-09-03T05:35:03.535Z"
   },
   {
    "duration": 701,
    "start_time": "2024-09-03T05:35:04.165Z"
   },
   {
    "duration": 16,
    "start_time": "2024-09-03T05:35:04.868Z"
   },
   {
    "duration": 30,
    "start_time": "2024-09-03T05:35:04.886Z"
   },
   {
    "duration": 19,
    "start_time": "2024-09-03T05:35:04.918Z"
   },
   {
    "duration": 38,
    "start_time": "2024-09-03T05:35:04.939Z"
   },
   {
    "duration": 22,
    "start_time": "2024-09-03T05:35:04.978Z"
   },
   {
    "duration": 28,
    "start_time": "2024-09-03T05:35:05.002Z"
   },
   {
    "duration": 8,
    "start_time": "2024-09-03T05:35:05.031Z"
   },
   {
    "duration": 39,
    "start_time": "2024-09-03T05:35:05.041Z"
   },
   {
    "duration": 9,
    "start_time": "2024-09-03T05:35:05.081Z"
   },
   {
    "duration": 17,
    "start_time": "2024-09-03T05:35:05.091Z"
   },
   {
    "duration": 16,
    "start_time": "2024-09-03T05:35:05.110Z"
   },
   {
    "duration": 38,
    "start_time": "2024-09-03T05:35:05.128Z"
   },
   {
    "duration": 6,
    "start_time": "2024-09-03T05:35:05.168Z"
   },
   {
    "duration": 34,
    "start_time": "2024-09-03T05:35:05.176Z"
   },
   {
    "duration": 35,
    "start_time": "2024-09-03T05:35:05.212Z"
   },
   {
    "duration": 275,
    "start_time": "2024-09-03T05:35:30.000Z"
   },
   {
    "duration": 303,
    "start_time": "2024-09-03T05:36:02.954Z"
   },
   {
    "duration": 278,
    "start_time": "2024-09-03T05:36:15.021Z"
   },
   {
    "duration": 281,
    "start_time": "2024-09-03T05:37:08.745Z"
   },
   {
    "duration": 385,
    "start_time": "2024-09-03T05:37:35.332Z"
   },
   {
    "duration": 281,
    "start_time": "2024-09-03T05:37:40.831Z"
   },
   {
    "duration": 58,
    "start_time": "2024-09-03T05:53:14.513Z"
   },
   {
    "duration": 458,
    "start_time": "2024-09-03T05:54:15.710Z"
   },
   {
    "duration": 362,
    "start_time": "2024-09-03T05:54:31.971Z"
   },
   {
    "duration": 246,
    "start_time": "2024-09-03T05:55:07.994Z"
   },
   {
    "duration": 402,
    "start_time": "2024-09-03T05:55:18.281Z"
   },
   {
    "duration": 58,
    "start_time": "2024-09-03T06:50:11.072Z"
   },
   {
    "duration": 168,
    "start_time": "2024-09-03T06:59:41.837Z"
   },
   {
    "duration": 74,
    "start_time": "2024-09-03T07:01:05.108Z"
   },
   {
    "duration": 143,
    "start_time": "2024-09-03T07:01:59.564Z"
   },
   {
    "duration": 167,
    "start_time": "2024-09-03T07:02:26.558Z"
   },
   {
    "duration": 157,
    "start_time": "2024-09-03T07:02:35.352Z"
   },
   {
    "duration": 21,
    "start_time": "2024-09-03T07:06:49.266Z"
   },
   {
    "duration": 503,
    "start_time": "2024-09-03T07:11:50.331Z"
   },
   {
    "duration": 180,
    "start_time": "2024-09-03T07:12:48.328Z"
   },
   {
    "duration": 1222,
    "start_time": "2024-09-03T07:14:23.557Z"
   },
   {
    "duration": 58,
    "start_time": "2024-09-03T07:14:24.782Z"
   },
   {
    "duration": 19,
    "start_time": "2024-09-03T07:14:24.841Z"
   },
   {
    "duration": 17,
    "start_time": "2024-09-03T07:14:24.861Z"
   },
   {
    "duration": 16,
    "start_time": "2024-09-03T07:14:24.880Z"
   },
   {
    "duration": 10,
    "start_time": "2024-09-03T07:14:24.897Z"
   },
   {
    "duration": 16,
    "start_time": "2024-09-03T07:14:24.908Z"
   },
   {
    "duration": 10,
    "start_time": "2024-09-03T07:14:24.925Z"
   },
   {
    "duration": 36,
    "start_time": "2024-09-03T07:14:24.936Z"
   },
   {
    "duration": 28,
    "start_time": "2024-09-03T07:14:24.974Z"
   },
   {
    "duration": 17,
    "start_time": "2024-09-03T07:14:25.004Z"
   },
   {
    "duration": 6,
    "start_time": "2024-09-03T07:14:25.023Z"
   },
   {
    "duration": 17,
    "start_time": "2024-09-03T07:14:25.030Z"
   },
   {
    "duration": 4,
    "start_time": "2024-09-03T07:14:25.050Z"
   },
   {
    "duration": 9,
    "start_time": "2024-09-03T07:14:25.056Z"
   },
   {
    "duration": 11,
    "start_time": "2024-09-03T07:14:25.067Z"
   },
   {
    "duration": 21,
    "start_time": "2024-09-03T07:14:25.080Z"
   },
   {
    "duration": 16,
    "start_time": "2024-09-03T07:14:25.102Z"
   },
   {
    "duration": 5,
    "start_time": "2024-09-03T07:14:25.120Z"
   },
   {
    "duration": 39,
    "start_time": "2024-09-03T07:14:25.126Z"
   },
   {
    "duration": 20,
    "start_time": "2024-09-03T07:14:25.167Z"
   },
   {
    "duration": 84,
    "start_time": "2024-09-03T07:14:25.188Z"
   },
   {
    "duration": 17,
    "start_time": "2024-09-03T07:14:25.274Z"
   },
   {
    "duration": 101,
    "start_time": "2024-09-03T07:14:25.293Z"
   },
   {
    "duration": 16,
    "start_time": "2024-09-03T07:14:25.396Z"
   },
   {
    "duration": 464,
    "start_time": "2024-09-03T07:14:25.414Z"
   },
   {
    "duration": 8,
    "start_time": "2024-09-03T07:14:25.880Z"
   },
   {
    "duration": 28,
    "start_time": "2024-09-03T07:14:25.890Z"
   },
   {
    "duration": 17,
    "start_time": "2024-09-03T07:14:25.920Z"
   },
   {
    "duration": 295,
    "start_time": "2024-09-03T07:14:25.939Z"
   },
   {
    "duration": 36,
    "start_time": "2024-09-03T07:14:26.236Z"
   },
   {
    "duration": 5,
    "start_time": "2024-09-03T07:14:26.274Z"
   },
   {
    "duration": 17,
    "start_time": "2024-09-03T07:14:26.280Z"
   },
   {
    "duration": 19,
    "start_time": "2024-09-03T07:14:26.299Z"
   },
   {
    "duration": 379,
    "start_time": "2024-09-03T07:14:26.319Z"
   },
   {
    "duration": 237,
    "start_time": "2024-09-03T07:14:26.699Z"
   },
   {
    "duration": 291,
    "start_time": "2024-09-03T07:14:26.938Z"
   },
   {
    "duration": 358,
    "start_time": "2024-09-03T07:14:27.230Z"
   },
   {
    "duration": 23,
    "start_time": "2024-09-03T07:14:27.589Z"
   },
   {
    "duration": 679,
    "start_time": "2024-09-03T07:14:27.613Z"
   },
   {
    "duration": 243,
    "start_time": "2024-09-03T07:14:28.296Z"
   },
   {
    "duration": 0,
    "start_time": "2024-09-03T07:14:28.541Z"
   },
   {
    "duration": 0,
    "start_time": "2024-09-03T07:14:28.542Z"
   },
   {
    "duration": 0,
    "start_time": "2024-09-03T07:14:28.543Z"
   },
   {
    "duration": 0,
    "start_time": "2024-09-03T07:14:28.544Z"
   },
   {
    "duration": 0,
    "start_time": "2024-09-03T07:14:28.545Z"
   },
   {
    "duration": 0,
    "start_time": "2024-09-03T07:14:28.546Z"
   },
   {
    "duration": 0,
    "start_time": "2024-09-03T07:14:28.548Z"
   },
   {
    "duration": 0,
    "start_time": "2024-09-03T07:14:28.549Z"
   },
   {
    "duration": 0,
    "start_time": "2024-09-03T07:14:28.565Z"
   },
   {
    "duration": 0,
    "start_time": "2024-09-03T07:14:28.566Z"
   },
   {
    "duration": 0,
    "start_time": "2024-09-03T07:14:28.567Z"
   },
   {
    "duration": 0,
    "start_time": "2024-09-03T07:14:28.568Z"
   },
   {
    "duration": 0,
    "start_time": "2024-09-03T07:14:28.569Z"
   },
   {
    "duration": 0,
    "start_time": "2024-09-03T07:14:28.570Z"
   },
   {
    "duration": 0,
    "start_time": "2024-09-03T07:14:28.571Z"
   },
   {
    "duration": 0,
    "start_time": "2024-09-03T07:14:28.572Z"
   },
   {
    "duration": 0,
    "start_time": "2024-09-03T07:14:28.573Z"
   },
   {
    "duration": 178,
    "start_time": "2024-09-03T07:19:14.471Z"
   },
   {
    "duration": 185,
    "start_time": "2024-09-03T07:19:25.170Z"
   },
   {
    "duration": 11,
    "start_time": "2024-09-03T07:32:30.224Z"
   },
   {
    "duration": 1192,
    "start_time": "2024-09-03T07:32:44.076Z"
   },
   {
    "duration": 68,
    "start_time": "2024-09-03T07:32:45.280Z"
   },
   {
    "duration": 26,
    "start_time": "2024-09-03T07:32:45.350Z"
   },
   {
    "duration": 27,
    "start_time": "2024-09-03T07:32:45.379Z"
   },
   {
    "duration": 18,
    "start_time": "2024-09-03T07:32:45.408Z"
   },
   {
    "duration": 20,
    "start_time": "2024-09-03T07:32:45.428Z"
   },
   {
    "duration": 26,
    "start_time": "2024-09-03T07:32:45.449Z"
   },
   {
    "duration": 12,
    "start_time": "2024-09-03T07:32:45.477Z"
   },
   {
    "duration": 10,
    "start_time": "2024-09-03T07:32:45.491Z"
   },
   {
    "duration": 5,
    "start_time": "2024-09-03T07:32:45.503Z"
   },
   {
    "duration": 6,
    "start_time": "2024-09-03T07:32:45.509Z"
   },
   {
    "duration": 9,
    "start_time": "2024-09-03T07:32:45.516Z"
   },
   {
    "duration": 17,
    "start_time": "2024-09-03T07:32:45.526Z"
   },
   {
    "duration": 8,
    "start_time": "2024-09-03T07:32:45.545Z"
   },
   {
    "duration": 22,
    "start_time": "2024-09-03T07:32:45.554Z"
   },
   {
    "duration": 12,
    "start_time": "2024-09-03T07:32:45.578Z"
   },
   {
    "duration": 20,
    "start_time": "2024-09-03T07:32:45.592Z"
   },
   {
    "duration": 17,
    "start_time": "2024-09-03T07:32:45.614Z"
   },
   {
    "duration": 6,
    "start_time": "2024-09-03T07:32:45.633Z"
   },
   {
    "duration": 43,
    "start_time": "2024-09-03T07:32:45.641Z"
   },
   {
    "duration": 24,
    "start_time": "2024-09-03T07:32:45.686Z"
   },
   {
    "duration": 16,
    "start_time": "2024-09-03T07:32:45.711Z"
   },
   {
    "duration": 17,
    "start_time": "2024-09-03T07:32:45.729Z"
   },
   {
    "duration": 128,
    "start_time": "2024-09-03T07:32:45.747Z"
   },
   {
    "duration": 15,
    "start_time": "2024-09-03T07:32:45.877Z"
   },
   {
    "duration": 428,
    "start_time": "2024-09-03T07:32:45.894Z"
   },
   {
    "duration": 7,
    "start_time": "2024-09-03T07:32:46.324Z"
   },
   {
    "duration": 20,
    "start_time": "2024-09-03T07:32:46.334Z"
   },
   {
    "duration": 33,
    "start_time": "2024-09-03T07:32:46.355Z"
   },
   {
    "duration": 288,
    "start_time": "2024-09-03T07:32:46.390Z"
   },
   {
    "duration": 24,
    "start_time": "2024-09-03T07:32:46.683Z"
   },
   {
    "duration": 36,
    "start_time": "2024-09-03T07:32:46.709Z"
   },
   {
    "duration": 35,
    "start_time": "2024-09-03T07:32:46.747Z"
   },
   {
    "duration": 16,
    "start_time": "2024-09-03T07:32:46.784Z"
   },
   {
    "duration": 335,
    "start_time": "2024-09-03T07:32:46.801Z"
   },
   {
    "duration": 285,
    "start_time": "2024-09-03T07:32:47.137Z"
   },
   {
    "duration": 299,
    "start_time": "2024-09-03T07:32:47.424Z"
   },
   {
    "duration": 391,
    "start_time": "2024-09-03T07:32:47.725Z"
   },
   {
    "duration": 23,
    "start_time": "2024-09-03T07:32:48.117Z"
   },
   {
    "duration": 729,
    "start_time": "2024-09-03T07:32:48.141Z"
   },
   {
    "duration": 105,
    "start_time": "2024-09-03T07:32:48.874Z"
   },
   {
    "duration": 0,
    "start_time": "2024-09-03T07:32:48.981Z"
   },
   {
    "duration": 0,
    "start_time": "2024-09-03T07:32:48.982Z"
   },
   {
    "duration": 0,
    "start_time": "2024-09-03T07:32:48.983Z"
   },
   {
    "duration": 0,
    "start_time": "2024-09-03T07:32:48.984Z"
   },
   {
    "duration": 0,
    "start_time": "2024-09-03T07:32:48.985Z"
   },
   {
    "duration": 0,
    "start_time": "2024-09-03T07:32:48.986Z"
   },
   {
    "duration": 0,
    "start_time": "2024-09-03T07:32:48.988Z"
   },
   {
    "duration": 0,
    "start_time": "2024-09-03T07:32:48.988Z"
   },
   {
    "duration": 0,
    "start_time": "2024-09-03T07:32:48.989Z"
   },
   {
    "duration": 0,
    "start_time": "2024-09-03T07:32:48.990Z"
   },
   {
    "duration": 1,
    "start_time": "2024-09-03T07:32:48.991Z"
   },
   {
    "duration": 0,
    "start_time": "2024-09-03T07:32:48.992Z"
   },
   {
    "duration": 0,
    "start_time": "2024-09-03T07:32:48.993Z"
   },
   {
    "duration": 0,
    "start_time": "2024-09-03T07:32:48.994Z"
   },
   {
    "duration": 0,
    "start_time": "2024-09-03T07:32:48.995Z"
   },
   {
    "duration": 0,
    "start_time": "2024-09-03T07:32:48.996Z"
   },
   {
    "duration": 0,
    "start_time": "2024-09-03T07:32:48.998Z"
   },
   {
    "duration": 156,
    "start_time": "2024-09-03T07:33:08.158Z"
   },
   {
    "duration": 313,
    "start_time": "2024-09-03T07:34:46.166Z"
   },
   {
    "duration": 439,
    "start_time": "2024-09-03T07:35:09.376Z"
   },
   {
    "duration": 597,
    "start_time": "2024-09-03T07:35:21.189Z"
   },
   {
    "duration": 320,
    "start_time": "2024-09-03T07:35:28.614Z"
   },
   {
    "duration": 388,
    "start_time": "2024-09-03T07:35:55.405Z"
   },
   {
    "duration": 310,
    "start_time": "2024-09-03T07:36:23.791Z"
   },
   {
    "duration": 61,
    "start_time": "2024-09-03T07:37:02.390Z"
   },
   {
    "duration": 465,
    "start_time": "2024-09-03T07:37:21.714Z"
   },
   {
    "duration": 464,
    "start_time": "2024-09-03T07:37:42.630Z"
   },
   {
    "duration": 589,
    "start_time": "2024-09-03T07:37:50.399Z"
   },
   {
    "duration": 118,
    "start_time": "2024-09-03T07:38:02.130Z"
   },
   {
    "duration": 469,
    "start_time": "2024-09-03T07:38:05.905Z"
   },
   {
    "duration": 514,
    "start_time": "2024-09-03T07:38:10.567Z"
   },
   {
    "duration": 517,
    "start_time": "2024-09-03T07:39:27.480Z"
   },
   {
    "duration": 461,
    "start_time": "2024-09-03T07:39:32.082Z"
   },
   {
    "duration": 206,
    "start_time": "2024-09-03T07:40:44.433Z"
   },
   {
    "duration": 287,
    "start_time": "2024-09-03T07:41:08.437Z"
   },
   {
    "duration": 349,
    "start_time": "2024-09-03T07:41:21.959Z"
   },
   {
    "duration": 354,
    "start_time": "2024-09-03T07:41:35.962Z"
   },
   {
    "duration": 460,
    "start_time": "2024-09-03T07:42:06.747Z"
   },
   {
    "duration": 310,
    "start_time": "2024-09-03T07:42:12.105Z"
   },
   {
    "duration": 338,
    "start_time": "2024-09-03T07:43:37.274Z"
   },
   {
    "duration": 6,
    "start_time": "2024-09-03T07:46:01.258Z"
   },
   {
    "duration": 5,
    "start_time": "2024-09-03T07:46:05.889Z"
   },
   {
    "duration": 311,
    "start_time": "2024-09-03T07:46:13.017Z"
   },
   {
    "duration": 1205,
    "start_time": "2024-09-03T07:47:58.642Z"
   },
   {
    "duration": 66,
    "start_time": "2024-09-03T07:47:59.849Z"
   },
   {
    "duration": 17,
    "start_time": "2024-09-03T07:47:59.916Z"
   },
   {
    "duration": 14,
    "start_time": "2024-09-03T07:47:59.935Z"
   },
   {
    "duration": 21,
    "start_time": "2024-09-03T07:47:59.950Z"
   },
   {
    "duration": 20,
    "start_time": "2024-09-03T07:47:59.973Z"
   },
   {
    "duration": 18,
    "start_time": "2024-09-03T07:47:59.995Z"
   },
   {
    "duration": 65,
    "start_time": "2024-09-03T07:48:00.015Z"
   },
   {
    "duration": 30,
    "start_time": "2024-09-03T07:48:00.082Z"
   },
   {
    "duration": 25,
    "start_time": "2024-09-03T07:48:00.116Z"
   },
   {
    "duration": 12,
    "start_time": "2024-09-03T07:48:00.143Z"
   },
   {
    "duration": 26,
    "start_time": "2024-09-03T07:48:00.157Z"
   },
   {
    "duration": 31,
    "start_time": "2024-09-03T07:48:00.184Z"
   },
   {
    "duration": 30,
    "start_time": "2024-09-03T07:48:00.216Z"
   },
   {
    "duration": 97,
    "start_time": "2024-09-03T07:48:00.247Z"
   },
   {
    "duration": 37,
    "start_time": "2024-09-03T07:48:00.345Z"
   },
   {
    "duration": 30,
    "start_time": "2024-09-03T07:48:00.384Z"
   },
   {
    "duration": 42,
    "start_time": "2024-09-03T07:48:00.416Z"
   },
   {
    "duration": 27,
    "start_time": "2024-09-03T07:48:00.459Z"
   },
   {
    "duration": 13,
    "start_time": "2024-09-03T07:48:00.488Z"
   },
   {
    "duration": 22,
    "start_time": "2024-09-03T07:48:00.503Z"
   },
   {
    "duration": 18,
    "start_time": "2024-09-03T07:48:00.526Z"
   },
   {
    "duration": 34,
    "start_time": "2024-09-03T07:48:00.545Z"
   },
   {
    "duration": 101,
    "start_time": "2024-09-03T07:48:00.580Z"
   },
   {
    "duration": 14,
    "start_time": "2024-09-03T07:48:00.688Z"
   },
   {
    "duration": 504,
    "start_time": "2024-09-03T07:48:00.704Z"
   },
   {
    "duration": 7,
    "start_time": "2024-09-03T07:48:01.209Z"
   },
   {
    "duration": 32,
    "start_time": "2024-09-03T07:48:01.219Z"
   },
   {
    "duration": 30,
    "start_time": "2024-09-03T07:48:01.252Z"
   },
   {
    "duration": 279,
    "start_time": "2024-09-03T07:48:01.283Z"
   },
   {
    "duration": 31,
    "start_time": "2024-09-03T07:48:01.565Z"
   },
   {
    "duration": 5,
    "start_time": "2024-09-03T07:48:01.598Z"
   },
   {
    "duration": 34,
    "start_time": "2024-09-03T07:48:01.605Z"
   },
   {
    "duration": 54,
    "start_time": "2024-09-03T07:48:01.641Z"
   },
   {
    "duration": 363,
    "start_time": "2024-09-03T07:48:01.696Z"
   },
   {
    "duration": 263,
    "start_time": "2024-09-03T07:48:02.061Z"
   },
   {
    "duration": 342,
    "start_time": "2024-09-03T07:48:02.326Z"
   },
   {
    "duration": 389,
    "start_time": "2024-09-03T07:48:02.674Z"
   },
   {
    "duration": 30,
    "start_time": "2024-09-03T07:48:03.065Z"
   },
   {
    "duration": 784,
    "start_time": "2024-09-03T07:48:03.096Z"
   },
   {
    "duration": 281,
    "start_time": "2024-09-03T07:48:03.881Z"
   },
   {
    "duration": 731,
    "start_time": "2024-09-03T07:48:04.165Z"
   },
   {
    "duration": 661,
    "start_time": "2024-09-03T07:48:04.899Z"
   },
   {
    "duration": 33,
    "start_time": "2024-09-03T07:48:05.562Z"
   },
   {
    "duration": 18,
    "start_time": "2024-09-03T07:48:05.598Z"
   },
   {
    "duration": 17,
    "start_time": "2024-09-03T07:48:05.618Z"
   },
   {
    "duration": 42,
    "start_time": "2024-09-03T07:48:05.638Z"
   },
   {
    "duration": 11,
    "start_time": "2024-09-03T07:48:05.681Z"
   },
   {
    "duration": 34,
    "start_time": "2024-09-03T07:48:05.693Z"
   },
   {
    "duration": 8,
    "start_time": "2024-09-03T07:48:05.729Z"
   },
   {
    "duration": 42,
    "start_time": "2024-09-03T07:48:05.739Z"
   },
   {
    "duration": 10,
    "start_time": "2024-09-03T07:48:05.783Z"
   },
   {
    "duration": 21,
    "start_time": "2024-09-03T07:48:05.795Z"
   },
   {
    "duration": 22,
    "start_time": "2024-09-03T07:48:05.817Z"
   },
   {
    "duration": 42,
    "start_time": "2024-09-03T07:48:05.841Z"
   },
   {
    "duration": 30,
    "start_time": "2024-09-03T07:48:05.885Z"
   },
   {
    "duration": 11,
    "start_time": "2024-09-03T07:48:05.917Z"
   },
   {
    "duration": 22,
    "start_time": "2024-09-03T07:48:05.929Z"
   },
   {
    "duration": 287,
    "start_time": "2024-09-03T07:49:26.828Z"
   },
   {
    "duration": 326,
    "start_time": "2024-09-03T07:49:40.921Z"
   },
   {
    "duration": 310,
    "start_time": "2024-09-03T07:49:52.713Z"
   },
   {
    "duration": 105,
    "start_time": "2024-09-03T07:50:55.248Z"
   },
   {
    "duration": 375,
    "start_time": "2024-09-03T07:54:34.674Z"
   },
   {
    "duration": 272,
    "start_time": "2024-09-03T07:54:53.670Z"
   },
   {
    "duration": 12,
    "start_time": "2024-09-03T07:55:51.532Z"
   },
   {
    "duration": 22,
    "start_time": "2024-09-03T07:56:09.832Z"
   },
   {
    "duration": 18,
    "start_time": "2024-09-03T07:56:13.522Z"
   },
   {
    "duration": 12,
    "start_time": "2024-09-03T07:58:32.532Z"
   },
   {
    "duration": 12,
    "start_time": "2024-09-03T07:59:46.635Z"
   },
   {
    "duration": 388,
    "start_time": "2024-09-03T08:01:26.321Z"
   },
   {
    "duration": 330,
    "start_time": "2024-09-03T08:01:49.669Z"
   },
   {
    "duration": 88,
    "start_time": "2024-09-03T08:03:18.765Z"
   },
   {
    "duration": 15,
    "start_time": "2024-09-03T08:09:37.300Z"
   },
   {
    "duration": 27,
    "start_time": "2024-09-03T08:10:12.655Z"
   },
   {
    "duration": 31,
    "start_time": "2024-09-03T08:10:24.395Z"
   },
   {
    "duration": 4,
    "start_time": "2024-09-03T08:10:50.616Z"
   },
   {
    "duration": 23,
    "start_time": "2024-09-03T08:10:57.414Z"
   },
   {
    "duration": 26,
    "start_time": "2024-09-03T08:11:34.349Z"
   },
   {
    "duration": 23,
    "start_time": "2024-09-03T08:11:43.174Z"
   },
   {
    "duration": 19,
    "start_time": "2024-09-03T08:11:52.932Z"
   },
   {
    "duration": 25,
    "start_time": "2024-09-03T08:12:36.676Z"
   },
   {
    "duration": 33,
    "start_time": "2024-09-03T08:12:39.845Z"
   },
   {
    "duration": 346,
    "start_time": "2024-09-03T08:14:14.703Z"
   },
   {
    "duration": 941,
    "start_time": "2024-09-03T09:30:02.356Z"
   },
   {
    "duration": 10,
    "start_time": "2024-09-03T09:30:13.773Z"
   },
   {
    "duration": 1210,
    "start_time": "2024-09-03T09:35:09.331Z"
   },
   {
    "duration": 54,
    "start_time": "2024-09-03T09:35:10.543Z"
   },
   {
    "duration": 17,
    "start_time": "2024-09-03T09:35:10.599Z"
   },
   {
    "duration": 36,
    "start_time": "2024-09-03T09:35:10.617Z"
   },
   {
    "duration": 16,
    "start_time": "2024-09-03T09:35:10.656Z"
   },
   {
    "duration": 12,
    "start_time": "2024-09-03T09:35:10.673Z"
   },
   {
    "duration": 15,
    "start_time": "2024-09-03T09:35:10.686Z"
   },
   {
    "duration": 11,
    "start_time": "2024-09-03T09:35:10.703Z"
   },
   {
    "duration": 14,
    "start_time": "2024-09-03T09:35:10.715Z"
   },
   {
    "duration": 36,
    "start_time": "2024-09-03T09:35:10.730Z"
   },
   {
    "duration": 7,
    "start_time": "2024-09-03T09:35:10.768Z"
   },
   {
    "duration": 7,
    "start_time": "2024-09-03T09:35:10.776Z"
   },
   {
    "duration": 16,
    "start_time": "2024-09-03T09:35:10.785Z"
   },
   {
    "duration": 9,
    "start_time": "2024-09-03T09:35:10.803Z"
   },
   {
    "duration": 6,
    "start_time": "2024-09-03T09:35:10.813Z"
   },
   {
    "duration": 11,
    "start_time": "2024-09-03T09:35:10.821Z"
   },
   {
    "duration": 42,
    "start_time": "2024-09-03T09:35:10.834Z"
   },
   {
    "duration": 14,
    "start_time": "2024-09-03T09:35:10.878Z"
   },
   {
    "duration": 4,
    "start_time": "2024-09-03T09:35:10.893Z"
   },
   {
    "duration": 17,
    "start_time": "2024-09-03T09:35:10.899Z"
   },
   {
    "duration": 21,
    "start_time": "2024-09-03T09:35:10.918Z"
   },
   {
    "duration": 39,
    "start_time": "2024-09-03T09:35:10.940Z"
   },
   {
    "duration": 17,
    "start_time": "2024-09-03T09:35:10.981Z"
   },
   {
    "duration": 135,
    "start_time": "2024-09-03T09:35:11.000Z"
   },
   {
    "duration": 37,
    "start_time": "2024-09-03T09:35:11.136Z"
   },
   {
    "duration": 435,
    "start_time": "2024-09-03T09:35:11.174Z"
   },
   {
    "duration": 6,
    "start_time": "2024-09-03T09:35:11.611Z"
   },
   {
    "duration": 16,
    "start_time": "2024-09-03T09:35:11.619Z"
   },
   {
    "duration": 36,
    "start_time": "2024-09-03T09:35:11.637Z"
   },
   {
    "duration": 299,
    "start_time": "2024-09-03T09:35:11.675Z"
   },
   {
    "duration": 25,
    "start_time": "2024-09-03T09:35:11.975Z"
   },
   {
    "duration": 4,
    "start_time": "2024-09-03T09:35:12.001Z"
   },
   {
    "duration": 27,
    "start_time": "2024-09-03T09:35:12.007Z"
   },
   {
    "duration": 30,
    "start_time": "2024-09-03T09:35:12.036Z"
   },
   {
    "duration": 355,
    "start_time": "2024-09-03T09:35:12.067Z"
   },
   {
    "duration": 254,
    "start_time": "2024-09-03T09:35:12.424Z"
   },
   {
    "duration": 300,
    "start_time": "2024-09-03T09:35:12.679Z"
   },
   {
    "duration": 378,
    "start_time": "2024-09-03T09:35:12.980Z"
   },
   {
    "duration": 24,
    "start_time": "2024-09-03T09:35:13.360Z"
   },
   {
    "duration": 670,
    "start_time": "2024-09-03T09:35:13.386Z"
   },
   {
    "duration": 289,
    "start_time": "2024-09-03T09:35:14.057Z"
   },
   {
    "duration": 717,
    "start_time": "2024-09-03T09:35:14.348Z"
   },
   {
    "duration": 298,
    "start_time": "2024-09-03T09:35:15.067Z"
   },
   {
    "duration": 638,
    "start_time": "2024-09-03T09:35:15.366Z"
   },
   {
    "duration": 12,
    "start_time": "2024-09-03T09:35:16.006Z"
   },
   {
    "duration": 27,
    "start_time": "2024-09-03T09:35:16.020Z"
   },
   {
    "duration": 305,
    "start_time": "2024-09-03T09:35:16.049Z"
   },
   {
    "duration": 28,
    "start_time": "2024-09-03T09:35:16.356Z"
   },
   {
    "duration": 340,
    "start_time": "2024-09-03T09:35:16.386Z"
   },
   {
    "duration": 18,
    "start_time": "2024-09-03T09:35:16.730Z"
   },
   {
    "duration": 62,
    "start_time": "2024-09-03T09:35:16.750Z"
   },
   {
    "duration": 17,
    "start_time": "2024-09-03T09:35:16.814Z"
   },
   {
    "duration": 30,
    "start_time": "2024-09-03T09:35:16.833Z"
   },
   {
    "duration": 20,
    "start_time": "2024-09-03T09:35:16.865Z"
   },
   {
    "duration": 9,
    "start_time": "2024-09-03T09:35:16.887Z"
   },
   {
    "duration": 24,
    "start_time": "2024-09-03T09:35:16.898Z"
   },
   {
    "duration": 19,
    "start_time": "2024-09-03T09:35:16.924Z"
   },
   {
    "duration": 36,
    "start_time": "2024-09-03T09:35:16.945Z"
   },
   {
    "duration": 19115,
    "start_time": "2024-09-03T09:35:16.983Z"
   },
   {
    "duration": 16,
    "start_time": "2024-09-03T09:35:36.100Z"
   },
   {
    "duration": 31,
    "start_time": "2024-09-03T09:35:36.117Z"
   },
   {
    "duration": 48,
    "start_time": "2024-09-03T09:35:36.150Z"
   },
   {
    "duration": 29,
    "start_time": "2024-09-03T09:35:36.200Z"
   },
   {
    "duration": 26,
    "start_time": "2024-09-03T09:35:36.230Z"
   },
   {
    "duration": 209,
    "start_time": "2024-09-03T09:36:46.448Z"
   },
   {
    "duration": 58,
    "start_time": "2024-09-03T09:38:02.829Z"
   },
   {
    "duration": 18,
    "start_time": "2024-09-03T09:43:15.463Z"
   },
   {
    "duration": 16,
    "start_time": "2024-09-03T09:43:25.539Z"
   },
   {
    "duration": 17,
    "start_time": "2024-09-03T09:43:33.370Z"
   },
   {
    "duration": 17,
    "start_time": "2024-09-03T09:44:06.889Z"
   },
   {
    "duration": 17,
    "start_time": "2024-09-03T09:44:08.861Z"
   },
   {
    "duration": 20,
    "start_time": "2024-09-03T09:44:10.745Z"
   },
   {
    "duration": 13,
    "start_time": "2024-09-03T09:55:35.765Z"
   },
   {
    "duration": 14,
    "start_time": "2024-09-03T09:59:07.623Z"
   },
   {
    "duration": 1209,
    "start_time": "2024-09-03T10:58:57.609Z"
   },
   {
    "duration": 57,
    "start_time": "2024-09-03T10:58:58.820Z"
   },
   {
    "duration": 23,
    "start_time": "2024-09-03T10:58:58.879Z"
   },
   {
    "duration": 17,
    "start_time": "2024-09-03T10:58:58.904Z"
   },
   {
    "duration": 15,
    "start_time": "2024-09-03T10:58:58.924Z"
   },
   {
    "duration": 40,
    "start_time": "2024-09-03T10:58:58.941Z"
   },
   {
    "duration": 14,
    "start_time": "2024-09-03T10:58:58.983Z"
   },
   {
    "duration": 11,
    "start_time": "2024-09-03T10:58:58.999Z"
   },
   {
    "duration": 10,
    "start_time": "2024-09-03T10:58:59.012Z"
   },
   {
    "duration": 5,
    "start_time": "2024-09-03T10:58:59.024Z"
   },
   {
    "duration": 19,
    "start_time": "2024-09-03T10:58:59.030Z"
   },
   {
    "duration": 28,
    "start_time": "2024-09-03T10:58:59.050Z"
   },
   {
    "duration": 15,
    "start_time": "2024-09-03T10:58:59.080Z"
   },
   {
    "duration": 6,
    "start_time": "2024-09-03T10:58:59.096Z"
   },
   {
    "duration": 6,
    "start_time": "2024-09-03T10:58:59.103Z"
   },
   {
    "duration": 22,
    "start_time": "2024-09-03T10:58:59.110Z"
   },
   {
    "duration": 31,
    "start_time": "2024-09-03T10:58:59.134Z"
   },
   {
    "duration": 16,
    "start_time": "2024-09-03T10:58:59.169Z"
   },
   {
    "duration": 5,
    "start_time": "2024-09-03T10:58:59.188Z"
   },
   {
    "duration": 23,
    "start_time": "2024-09-03T10:58:59.195Z"
   },
   {
    "duration": 19,
    "start_time": "2024-09-03T10:58:59.220Z"
   },
   {
    "duration": 36,
    "start_time": "2024-09-03T10:58:59.241Z"
   },
   {
    "duration": 66,
    "start_time": "2024-09-03T10:58:59.278Z"
   },
   {
    "duration": 93,
    "start_time": "2024-09-03T10:58:59.346Z"
   },
   {
    "duration": 14,
    "start_time": "2024-09-03T10:58:59.441Z"
   },
   {
    "duration": 421,
    "start_time": "2024-09-03T10:58:59.465Z"
   },
   {
    "duration": 8,
    "start_time": "2024-09-03T10:58:59.888Z"
   },
   {
    "duration": 20,
    "start_time": "2024-09-03T10:58:59.899Z"
   },
   {
    "duration": 16,
    "start_time": "2024-09-03T10:58:59.921Z"
   },
   {
    "duration": 289,
    "start_time": "2024-09-03T10:58:59.939Z"
   },
   {
    "duration": 24,
    "start_time": "2024-09-03T10:59:00.230Z"
   },
   {
    "duration": 64,
    "start_time": "2024-09-03T10:59:00.256Z"
   },
   {
    "duration": 95,
    "start_time": "2024-09-03T10:59:00.321Z"
   },
   {
    "duration": 66,
    "start_time": "2024-09-03T10:59:00.418Z"
   },
   {
    "duration": 406,
    "start_time": "2024-09-03T10:59:00.486Z"
   },
   {
    "duration": 274,
    "start_time": "2024-09-03T10:59:00.894Z"
   },
   {
    "duration": 287,
    "start_time": "2024-09-03T10:59:01.170Z"
   },
   {
    "duration": 389,
    "start_time": "2024-09-03T10:59:01.458Z"
   },
   {
    "duration": 27,
    "start_time": "2024-09-03T10:59:01.848Z"
   },
   {
    "duration": 665,
    "start_time": "2024-09-03T10:59:01.877Z"
   },
   {
    "duration": 349,
    "start_time": "2024-09-03T10:59:02.544Z"
   },
   {
    "duration": 731,
    "start_time": "2024-09-03T10:59:02.895Z"
   },
   {
    "duration": 321,
    "start_time": "2024-09-03T10:59:03.627Z"
   },
   {
    "duration": 632,
    "start_time": "2024-09-03T10:59:03.950Z"
   },
   {
    "duration": 16,
    "start_time": "2024-09-03T10:59:04.585Z"
   },
   {
    "duration": 20,
    "start_time": "2024-09-03T10:59:04.602Z"
   },
   {
    "duration": 330,
    "start_time": "2024-09-03T10:59:04.623Z"
   },
   {
    "duration": 30,
    "start_time": "2024-09-03T10:59:04.954Z"
   },
   {
    "duration": 336,
    "start_time": "2024-09-03T10:59:04.986Z"
   },
   {
    "duration": 19,
    "start_time": "2024-09-03T10:59:05.324Z"
   },
   {
    "duration": 46,
    "start_time": "2024-09-03T10:59:05.345Z"
   },
   {
    "duration": 27,
    "start_time": "2024-09-03T10:59:05.393Z"
   },
   {
    "duration": 12,
    "start_time": "2024-09-03T10:59:05.422Z"
   },
   {
    "duration": 48,
    "start_time": "2024-09-03T10:59:05.436Z"
   },
   {
    "duration": 8,
    "start_time": "2024-09-03T10:59:05.486Z"
   },
   {
    "duration": 34,
    "start_time": "2024-09-03T10:59:05.495Z"
   },
   {
    "duration": 25,
    "start_time": "2024-09-03T10:59:05.530Z"
   },
   {
    "duration": 22,
    "start_time": "2024-09-03T10:59:05.557Z"
   },
   {
    "duration": 14,
    "start_time": "2024-09-03T10:59:05.581Z"
   },
   {
    "duration": 8,
    "start_time": "2024-09-03T10:59:05.597Z"
   },
   {
    "duration": 6,
    "start_time": "2024-09-03T10:59:05.606Z"
   },
   {
    "duration": 13,
    "start_time": "2024-09-03T10:59:05.614Z"
   },
   {
    "duration": 42,
    "start_time": "2024-09-03T10:59:05.628Z"
   },
   {
    "duration": 2660,
    "start_time": "2024-09-03T11:08:48.178Z"
   },
   {
    "duration": 828,
    "start_time": "2024-09-03T11:11:42.907Z"
   },
   {
    "duration": 1263,
    "start_time": "2025-09-22T15:55:26.217Z"
   },
   {
    "duration": 56,
    "start_time": "2025-09-22T15:55:27.481Z"
   },
   {
    "duration": 15,
    "start_time": "2025-09-22T15:55:27.539Z"
   },
   {
    "duration": 14,
    "start_time": "2025-09-22T15:55:27.556Z"
   },
   {
    "duration": 22,
    "start_time": "2025-09-22T15:55:27.572Z"
   },
   {
    "duration": 15,
    "start_time": "2025-09-22T15:55:27.595Z"
   },
   {
    "duration": 15,
    "start_time": "2025-09-22T15:55:27.612Z"
   },
   {
    "duration": 20,
    "start_time": "2025-09-22T15:55:27.629Z"
   },
   {
    "duration": 13,
    "start_time": "2025-09-22T15:55:27.651Z"
   },
   {
    "duration": 5,
    "start_time": "2025-09-22T15:55:27.665Z"
   },
   {
    "duration": 5,
    "start_time": "2025-09-22T15:55:27.671Z"
   },
   {
    "duration": 41,
    "start_time": "2025-09-22T15:55:27.678Z"
   },
   {
    "duration": 30,
    "start_time": "2025-09-22T15:55:27.720Z"
   },
   {
    "duration": 14,
    "start_time": "2025-09-22T15:55:27.752Z"
   },
   {
    "duration": 6,
    "start_time": "2025-09-22T15:55:27.767Z"
   },
   {
    "duration": 22,
    "start_time": "2025-09-22T15:55:27.775Z"
   },
   {
    "duration": 20,
    "start_time": "2025-09-22T15:55:27.799Z"
   },
   {
    "duration": 15,
    "start_time": "2025-09-22T15:55:27.821Z"
   },
   {
    "duration": 5,
    "start_time": "2025-09-22T15:55:27.838Z"
   },
   {
    "duration": 54,
    "start_time": "2025-09-22T15:55:27.845Z"
   },
   {
    "duration": 150,
    "start_time": "2025-09-22T15:55:27.901Z"
   },
   {
    "duration": 21,
    "start_time": "2025-09-22T15:55:28.053Z"
   },
   {
    "duration": 15,
    "start_time": "2025-09-22T15:55:28.075Z"
   },
   {
    "duration": 88,
    "start_time": "2025-09-22T15:55:28.092Z"
   },
   {
    "duration": 14,
    "start_time": "2025-09-22T15:55:28.181Z"
   },
   {
    "duration": 387,
    "start_time": "2025-09-22T15:55:28.196Z"
   },
   {
    "duration": 6,
    "start_time": "2025-09-22T15:55:28.585Z"
   },
   {
    "duration": 28,
    "start_time": "2025-09-22T15:55:28.592Z"
   },
   {
    "duration": 14,
    "start_time": "2025-09-22T15:55:28.621Z"
   },
   {
    "duration": 256,
    "start_time": "2025-09-22T15:55:28.637Z"
   },
   {
    "duration": 23,
    "start_time": "2025-09-22T15:55:28.895Z"
   },
   {
    "duration": 4,
    "start_time": "2025-09-22T15:55:28.919Z"
   },
   {
    "duration": 12,
    "start_time": "2025-09-22T15:55:28.924Z"
   },
   {
    "duration": 15,
    "start_time": "2025-09-22T15:55:28.937Z"
   },
   {
    "duration": 304,
    "start_time": "2025-09-22T15:55:28.976Z"
   },
   {
    "duration": 226,
    "start_time": "2025-09-22T15:55:29.281Z"
   },
   {
    "duration": 267,
    "start_time": "2025-09-22T15:55:29.509Z"
   },
   {
    "duration": 348,
    "start_time": "2025-09-22T15:55:29.777Z"
   },
   {
    "duration": 20,
    "start_time": "2025-09-22T15:55:30.127Z"
   },
   {
    "duration": 688,
    "start_time": "2025-09-22T15:55:30.149Z"
   },
   {
    "duration": 278,
    "start_time": "2025-09-22T15:55:30.842Z"
   },
   {
    "duration": 687,
    "start_time": "2025-09-22T15:55:31.121Z"
   },
   {
    "duration": 285,
    "start_time": "2025-09-22T15:55:31.810Z"
   },
   {
    "duration": 526,
    "start_time": "2025-09-22T15:55:32.097Z"
   },
   {
    "duration": 11,
    "start_time": "2025-09-22T15:55:32.624Z"
   },
   {
    "duration": 28,
    "start_time": "2025-09-22T15:55:32.637Z"
   },
   {
    "duration": 343,
    "start_time": "2025-09-22T15:55:32.667Z"
   },
   {
    "duration": 2313,
    "start_time": "2025-09-22T15:55:33.012Z"
   },
   {
    "duration": 21,
    "start_time": "2025-09-22T15:55:35.327Z"
   },
   {
    "duration": 411,
    "start_time": "2025-09-22T15:55:35.349Z"
   },
   {
    "duration": 22,
    "start_time": "2025-09-22T15:55:35.762Z"
   },
   {
    "duration": 18,
    "start_time": "2025-09-22T15:55:35.786Z"
   },
   {
    "duration": 19,
    "start_time": "2025-09-22T15:55:35.806Z"
   },
   {
    "duration": 31,
    "start_time": "2025-09-22T15:55:35.827Z"
   },
   {
    "duration": 31,
    "start_time": "2025-09-22T15:55:35.860Z"
   },
   {
    "duration": 50,
    "start_time": "2025-09-22T15:55:35.893Z"
   },
   {
    "duration": 46,
    "start_time": "2025-09-22T15:55:35.944Z"
   },
   {
    "duration": 17,
    "start_time": "2025-09-22T15:55:35.991Z"
   },
   {
    "duration": 34,
    "start_time": "2025-09-22T15:55:36.010Z"
   },
   {
    "duration": 789,
    "start_time": "2025-09-22T15:55:36.046Z"
   },
   {
    "duration": 13,
    "start_time": "2025-09-22T15:55:36.837Z"
   },
   {
    "duration": 41,
    "start_time": "2025-09-22T15:55:36.851Z"
   },
   {
    "duration": 6,
    "start_time": "2025-09-22T15:55:36.894Z"
   },
   {
    "duration": 48,
    "start_time": "2025-09-22T15:55:36.901Z"
   },
   {
    "duration": 21,
    "start_time": "2025-09-22T15:55:36.950Z"
   }
  ],
  "kernelspec": {
   "display_name": "Python 3 (ipykernel)",
   "language": "python",
   "name": "python3"
  },
  "language_info": {
   "codemirror_mode": {
    "name": "ipython",
    "version": 3
   },
   "file_extension": ".py",
   "mimetype": "text/x-python",
   "name": "python",
   "nbconvert_exporter": "python",
   "pygments_lexer": "ipython3",
   "version": "3.9.5"
  },
  "toc": {
   "base_numbering": 1,
   "nav_menu": {},
   "number_sections": true,
   "sideBar": true,
   "skip_h1_title": true,
   "title_cell": "Table of Contents",
   "title_sidebar": "Contents",
   "toc_cell": false,
   "toc_position": {
    "height": "calc(100% - 180px)",
    "left": "10px",
    "top": "150px",
    "width": "167.943px"
   },
   "toc_section_display": true,
   "toc_window_display": true
  }
 },
 "nbformat": 4,
 "nbformat_minor": 2
}
